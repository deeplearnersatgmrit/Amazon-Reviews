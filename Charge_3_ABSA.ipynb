{
 "cells": [
  {
   "cell_type": "code",
   "execution_count": 1,
   "metadata": {
    "ExecuteTime": {
     "end_time": "2019-07-29T22:29:21.814056Z",
     "start_time": "2019-07-29T22:29:18.257249Z"
    }
   },
   "outputs": [],
   "source": [
    "import numpy as np\n",
    "import pandas as pd\n",
    "import matplotlib.pyplot as plt\n",
    "import seaborn as sns\n",
    "sns.set_style(style='whitegrid')"
   ]
  },
  {
   "cell_type": "markdown",
   "metadata": {},
   "source": [
    "# Importing Data"
   ]
  },
  {
   "cell_type": "markdown",
   "metadata": {},
   "source": [
    "Data was scraped from the Amazon website for Charge 3"
   ]
  },
  {
   "cell_type": "code",
   "execution_count": 2,
   "metadata": {
    "ExecuteTime": {
     "end_time": "2019-07-29T22:29:22.358600Z",
     "start_time": "2019-07-29T22:29:21.817222Z"
    }
   },
   "outputs": [],
   "source": [
    "df = pd.read_csv('charge3.csv', parse_dates =['date'])"
   ]
  },
  {
   "cell_type": "code",
   "execution_count": 3,
   "metadata": {
    "ExecuteTime": {
     "end_time": "2019-07-29T22:29:22.382877Z",
     "start_time": "2019-07-29T22:29:22.360208Z"
    }
   },
   "outputs": [
    {
     "data": {
      "text/html": [
       "<div>\n",
       "<style scoped>\n",
       "    .dataframe tbody tr th:only-of-type {\n",
       "        vertical-align: middle;\n",
       "    }\n",
       "\n",
       "    .dataframe tbody tr th {\n",
       "        vertical-align: top;\n",
       "    }\n",
       "\n",
       "    .dataframe thead th {\n",
       "        text-align: right;\n",
       "    }\n",
       "</style>\n",
       "<table border=\"1\" class=\"dataframe\">\n",
       "  <thead>\n",
       "    <tr style=\"text-align: right;\">\n",
       "      <th></th>\n",
       "      <th>web-scraper-order</th>\n",
       "      <th>web-scraper-start-url</th>\n",
       "      <th>review_link</th>\n",
       "      <th>review_link-href</th>\n",
       "      <th>name</th>\n",
       "      <th>date</th>\n",
       "      <th>stars</th>\n",
       "      <th>stars-href</th>\n",
       "      <th>verified</th>\n",
       "      <th>product</th>\n",
       "      <th>review</th>\n",
       "    </tr>\n",
       "  </thead>\n",
       "  <tbody>\n",
       "    <tr>\n",
       "      <th>0</th>\n",
       "      <td>1564029266-3749</td>\n",
       "      <td>https://www.amazon.com/Fitbit-Fitness-Activity...</td>\n",
       "      <td>Great gift for my GF</td>\n",
       "      <td>https://www.amazon.com/gp/customer-reviews/RJ8...</td>\n",
       "      <td>Courtland</td>\n",
       "      <td>2019-02-21</td>\n",
       "      <td>5.0 out of 5 stars</td>\n",
       "      <td>https://www.amazon.com/gp/customer-reviews/RJ8...</td>\n",
       "      <td>Verified Purchase</td>\n",
       "      <td>Color: Graphite/BlackEdition: Charge 3 Activit...</td>\n",
       "      <td>Best version so far. Great gift for fitness ce...</td>\n",
       "    </tr>\n",
       "    <tr>\n",
       "      <th>1</th>\n",
       "      <td>1564038381-5587</td>\n",
       "      <td>https://www.amazon.com/Fitbit-Fitness-Activity...</td>\n",
       "      <td>Love this Fitbit</td>\n",
       "      <td>https://www.amazon.com/gp/customer-reviews/R6R...</td>\n",
       "      <td>hkelley28</td>\n",
       "      <td>2019-04-26</td>\n",
       "      <td>5.0 out of 5 stars</td>\n",
       "      <td>https://www.amazon.com/gp/customer-reviews/R6R...</td>\n",
       "      <td>Verified Purchase</td>\n",
       "      <td>Color: Rose Gold/Blue GreyEdition: Charge 3 Ac...</td>\n",
       "      <td>Works great and stays charged for a week.</td>\n",
       "    </tr>\n",
       "    <tr>\n",
       "      <th>2</th>\n",
       "      <td>1564036769-5275</td>\n",
       "      <td>https://www.amazon.com/Fitbit-Fitness-Activity...</td>\n",
       "      <td>Excellent activity tracker</td>\n",
       "      <td>https://www.amazon.com/gp/customer-reviews/RDT...</td>\n",
       "      <td>Amazon Customer</td>\n",
       "      <td>2019-02-14</td>\n",
       "      <td>5.0 out of 5 stars</td>\n",
       "      <td>https://www.amazon.com/gp/customer-reviews/RDT...</td>\n",
       "      <td>Verified Purchase</td>\n",
       "      <td>Color: Graphite/BlackEdition: Charge 3 Activit...</td>\n",
       "      <td>Excellent tool to aid in weight loss. The extr...</td>\n",
       "    </tr>\n",
       "    <tr>\n",
       "      <th>3</th>\n",
       "      <td>1564032633-4412</td>\n",
       "      <td>https://www.amazon.com/Fitbit-Fitness-Activity...</td>\n",
       "      <td>Updated clock faces</td>\n",
       "      <td>https://www.amazon.com/gp/customer-reviews/R2X...</td>\n",
       "      <td>Leslie H.</td>\n",
       "      <td>2018-11-12</td>\n",
       "      <td>4.0 out of 5 stars</td>\n",
       "      <td>https://www.amazon.com/gp/customer-reviews/R2X...</td>\n",
       "      <td>Verified Purchase</td>\n",
       "      <td>Color: Graphite/BlackEdition: Charge 3 Activit...</td>\n",
       "      <td>I got my Fitbit charge 3 in the mail yesterday...</td>\n",
       "    </tr>\n",
       "    <tr>\n",
       "      <th>4</th>\n",
       "      <td>1564037085-5338</td>\n",
       "      <td>https://www.amazon.com/Fitbit-Fitness-Activity...</td>\n",
       "      <td>Want to get fit while being on top of it? Get ...</td>\n",
       "      <td>https://www.amazon.com/gp/customer-reviews/RQJ...</td>\n",
       "      <td>Amazon Customer</td>\n",
       "      <td>2018-11-23</td>\n",
       "      <td>5.0 out of 5 stars</td>\n",
       "      <td>https://www.amazon.com/gp/customer-reviews/RQJ...</td>\n",
       "      <td>Verified Purchase</td>\n",
       "      <td>Color: Graphite/BlackEdition: Charge 3 Activit...</td>\n",
       "      <td>That it measures my HR when I exercise. Also, ...</td>\n",
       "    </tr>\n",
       "  </tbody>\n",
       "</table>\n",
       "</div>"
      ],
      "text/plain": [
       "  web-scraper-order                              web-scraper-start-url  \\\n",
       "0   1564029266-3749  https://www.amazon.com/Fitbit-Fitness-Activity...   \n",
       "1   1564038381-5587  https://www.amazon.com/Fitbit-Fitness-Activity...   \n",
       "2   1564036769-5275  https://www.amazon.com/Fitbit-Fitness-Activity...   \n",
       "3   1564032633-4412  https://www.amazon.com/Fitbit-Fitness-Activity...   \n",
       "4   1564037085-5338  https://www.amazon.com/Fitbit-Fitness-Activity...   \n",
       "\n",
       "                                         review_link  \\\n",
       "0                               Great gift for my GF   \n",
       "1                                   Love this Fitbit   \n",
       "2                         Excellent activity tracker   \n",
       "3                                Updated clock faces   \n",
       "4  Want to get fit while being on top of it? Get ...   \n",
       "\n",
       "                                    review_link-href             name  \\\n",
       "0  https://www.amazon.com/gp/customer-reviews/RJ8...        Courtland   \n",
       "1  https://www.amazon.com/gp/customer-reviews/R6R...        hkelley28   \n",
       "2  https://www.amazon.com/gp/customer-reviews/RDT...  Amazon Customer   \n",
       "3  https://www.amazon.com/gp/customer-reviews/R2X...        Leslie H.   \n",
       "4  https://www.amazon.com/gp/customer-reviews/RQJ...  Amazon Customer   \n",
       "\n",
       "        date               stars  \\\n",
       "0 2019-02-21  5.0 out of 5 stars   \n",
       "1 2019-04-26  5.0 out of 5 stars   \n",
       "2 2019-02-14  5.0 out of 5 stars   \n",
       "3 2018-11-12  4.0 out of 5 stars   \n",
       "4 2018-11-23  5.0 out of 5 stars   \n",
       "\n",
       "                                          stars-href           verified  \\\n",
       "0  https://www.amazon.com/gp/customer-reviews/RJ8...  Verified Purchase   \n",
       "1  https://www.amazon.com/gp/customer-reviews/R6R...  Verified Purchase   \n",
       "2  https://www.amazon.com/gp/customer-reviews/RDT...  Verified Purchase   \n",
       "3  https://www.amazon.com/gp/customer-reviews/R2X...  Verified Purchase   \n",
       "4  https://www.amazon.com/gp/customer-reviews/RQJ...  Verified Purchase   \n",
       "\n",
       "                                             product  \\\n",
       "0  Color: Graphite/BlackEdition: Charge 3 Activit...   \n",
       "1  Color: Rose Gold/Blue GreyEdition: Charge 3 Ac...   \n",
       "2  Color: Graphite/BlackEdition: Charge 3 Activit...   \n",
       "3  Color: Graphite/BlackEdition: Charge 3 Activit...   \n",
       "4  Color: Graphite/BlackEdition: Charge 3 Activit...   \n",
       "\n",
       "                                              review  \n",
       "0  Best version so far. Great gift for fitness ce...  \n",
       "1          Works great and stays charged for a week.  \n",
       "2  Excellent tool to aid in weight loss. The extr...  \n",
       "3  I got my Fitbit charge 3 in the mail yesterday...  \n",
       "4  That it measures my HR when I exercise. Also, ...  "
      ]
     },
     "execution_count": 3,
     "metadata": {},
     "output_type": "execute_result"
    }
   ],
   "source": [
    "df.head()"
   ]
  },
  {
   "cell_type": "code",
   "execution_count": 4,
   "metadata": {
    "ExecuteTime": {
     "end_time": "2019-07-29T22:29:22.392252Z",
     "start_time": "2019-07-29T22:29:22.386517Z"
    }
   },
   "outputs": [],
   "source": [
    "df = df.drop(columns=['web-scraper-order','web-scraper-start-url'])"
   ]
  },
  {
   "cell_type": "code",
   "execution_count": 5,
   "metadata": {
    "ExecuteTime": {
     "end_time": "2019-07-29T22:29:22.403400Z",
     "start_time": "2019-07-29T22:29:22.396616Z"
    }
   },
   "outputs": [],
   "source": [
    "df['stars'] = df.stars.apply(lambda x: x.split(' ')[0])"
   ]
  },
  {
   "cell_type": "code",
   "execution_count": 6,
   "metadata": {
    "ExecuteTime": {
     "end_time": "2019-07-29T22:29:22.417054Z",
     "start_time": "2019-07-29T22:29:22.405071Z"
    }
   },
   "outputs": [
    {
     "data": {
      "text/html": [
       "<div>\n",
       "<style scoped>\n",
       "    .dataframe tbody tr th:only-of-type {\n",
       "        vertical-align: middle;\n",
       "    }\n",
       "\n",
       "    .dataframe tbody tr th {\n",
       "        vertical-align: top;\n",
       "    }\n",
       "\n",
       "    .dataframe thead th {\n",
       "        text-align: right;\n",
       "    }\n",
       "</style>\n",
       "<table border=\"1\" class=\"dataframe\">\n",
       "  <thead>\n",
       "    <tr style=\"text-align: right;\">\n",
       "      <th></th>\n",
       "      <th>review_link</th>\n",
       "      <th>review_link-href</th>\n",
       "      <th>name</th>\n",
       "      <th>date</th>\n",
       "      <th>stars</th>\n",
       "      <th>stars-href</th>\n",
       "      <th>verified</th>\n",
       "      <th>product</th>\n",
       "      <th>review</th>\n",
       "    </tr>\n",
       "  </thead>\n",
       "  <tbody>\n",
       "    <tr>\n",
       "      <th>0</th>\n",
       "      <td>Great gift for my GF</td>\n",
       "      <td>https://www.amazon.com/gp/customer-reviews/RJ8...</td>\n",
       "      <td>Courtland</td>\n",
       "      <td>2019-02-21</td>\n",
       "      <td>5.0</td>\n",
       "      <td>https://www.amazon.com/gp/customer-reviews/RJ8...</td>\n",
       "      <td>Verified Purchase</td>\n",
       "      <td>Color: Graphite/BlackEdition: Charge 3 Activit...</td>\n",
       "      <td>Best version so far. Great gift for fitness ce...</td>\n",
       "    </tr>\n",
       "    <tr>\n",
       "      <th>1</th>\n",
       "      <td>Love this Fitbit</td>\n",
       "      <td>https://www.amazon.com/gp/customer-reviews/R6R...</td>\n",
       "      <td>hkelley28</td>\n",
       "      <td>2019-04-26</td>\n",
       "      <td>5.0</td>\n",
       "      <td>https://www.amazon.com/gp/customer-reviews/R6R...</td>\n",
       "      <td>Verified Purchase</td>\n",
       "      <td>Color: Rose Gold/Blue GreyEdition: Charge 3 Ac...</td>\n",
       "      <td>Works great and stays charged for a week.</td>\n",
       "    </tr>\n",
       "    <tr>\n",
       "      <th>2</th>\n",
       "      <td>Excellent activity tracker</td>\n",
       "      <td>https://www.amazon.com/gp/customer-reviews/RDT...</td>\n",
       "      <td>Amazon Customer</td>\n",
       "      <td>2019-02-14</td>\n",
       "      <td>5.0</td>\n",
       "      <td>https://www.amazon.com/gp/customer-reviews/RDT...</td>\n",
       "      <td>Verified Purchase</td>\n",
       "      <td>Color: Graphite/BlackEdition: Charge 3 Activit...</td>\n",
       "      <td>Excellent tool to aid in weight loss. The extr...</td>\n",
       "    </tr>\n",
       "    <tr>\n",
       "      <th>3</th>\n",
       "      <td>Updated clock faces</td>\n",
       "      <td>https://www.amazon.com/gp/customer-reviews/R2X...</td>\n",
       "      <td>Leslie H.</td>\n",
       "      <td>2018-11-12</td>\n",
       "      <td>4.0</td>\n",
       "      <td>https://www.amazon.com/gp/customer-reviews/R2X...</td>\n",
       "      <td>Verified Purchase</td>\n",
       "      <td>Color: Graphite/BlackEdition: Charge 3 Activit...</td>\n",
       "      <td>I got my Fitbit charge 3 in the mail yesterday...</td>\n",
       "    </tr>\n",
       "    <tr>\n",
       "      <th>4</th>\n",
       "      <td>Want to get fit while being on top of it? Get ...</td>\n",
       "      <td>https://www.amazon.com/gp/customer-reviews/RQJ...</td>\n",
       "      <td>Amazon Customer</td>\n",
       "      <td>2018-11-23</td>\n",
       "      <td>5.0</td>\n",
       "      <td>https://www.amazon.com/gp/customer-reviews/RQJ...</td>\n",
       "      <td>Verified Purchase</td>\n",
       "      <td>Color: Graphite/BlackEdition: Charge 3 Activit...</td>\n",
       "      <td>That it measures my HR when I exercise. Also, ...</td>\n",
       "    </tr>\n",
       "  </tbody>\n",
       "</table>\n",
       "</div>"
      ],
      "text/plain": [
       "                                         review_link  \\\n",
       "0                               Great gift for my GF   \n",
       "1                                   Love this Fitbit   \n",
       "2                         Excellent activity tracker   \n",
       "3                                Updated clock faces   \n",
       "4  Want to get fit while being on top of it? Get ...   \n",
       "\n",
       "                                    review_link-href             name  \\\n",
       "0  https://www.amazon.com/gp/customer-reviews/RJ8...        Courtland   \n",
       "1  https://www.amazon.com/gp/customer-reviews/R6R...        hkelley28   \n",
       "2  https://www.amazon.com/gp/customer-reviews/RDT...  Amazon Customer   \n",
       "3  https://www.amazon.com/gp/customer-reviews/R2X...        Leslie H.   \n",
       "4  https://www.amazon.com/gp/customer-reviews/RQJ...  Amazon Customer   \n",
       "\n",
       "        date stars                                         stars-href  \\\n",
       "0 2019-02-21   5.0  https://www.amazon.com/gp/customer-reviews/RJ8...   \n",
       "1 2019-04-26   5.0  https://www.amazon.com/gp/customer-reviews/R6R...   \n",
       "2 2019-02-14   5.0  https://www.amazon.com/gp/customer-reviews/RDT...   \n",
       "3 2018-11-12   4.0  https://www.amazon.com/gp/customer-reviews/R2X...   \n",
       "4 2018-11-23   5.0  https://www.amazon.com/gp/customer-reviews/RQJ...   \n",
       "\n",
       "            verified                                            product  \\\n",
       "0  Verified Purchase  Color: Graphite/BlackEdition: Charge 3 Activit...   \n",
       "1  Verified Purchase  Color: Rose Gold/Blue GreyEdition: Charge 3 Ac...   \n",
       "2  Verified Purchase  Color: Graphite/BlackEdition: Charge 3 Activit...   \n",
       "3  Verified Purchase  Color: Graphite/BlackEdition: Charge 3 Activit...   \n",
       "4  Verified Purchase  Color: Graphite/BlackEdition: Charge 3 Activit...   \n",
       "\n",
       "                                              review  \n",
       "0  Best version so far. Great gift for fitness ce...  \n",
       "1          Works great and stays charged for a week.  \n",
       "2  Excellent tool to aid in weight loss. The extr...  \n",
       "3  I got my Fitbit charge 3 in the mail yesterday...  \n",
       "4  That it measures my HR when I exercise. Also, ...  "
      ]
     },
     "execution_count": 6,
     "metadata": {},
     "output_type": "execute_result"
    }
   ],
   "source": [
    "df.head()"
   ]
  },
  {
   "cell_type": "code",
   "execution_count": 7,
   "metadata": {
    "ExecuteTime": {
     "end_time": "2019-07-29T22:29:22.425240Z",
     "start_time": "2019-07-29T22:29:22.419583Z"
    }
   },
   "outputs": [],
   "source": [
    "df['length'] = df.review.apply(lambda x: len(x))"
   ]
  },
  {
   "cell_type": "code",
   "execution_count": 8,
   "metadata": {
    "ExecuteTime": {
     "end_time": "2019-07-29T22:29:22.443904Z",
     "start_time": "2019-07-29T22:29:22.427076Z"
    }
   },
   "outputs": [],
   "source": [
    "df['year'] = df.date.apply(lambda x: x.year)"
   ]
  },
  {
   "cell_type": "code",
   "execution_count": 9,
   "metadata": {
    "ExecuteTime": {
     "end_time": "2019-07-29T22:29:22.452363Z",
     "start_time": "2019-07-29T22:29:22.445736Z"
    }
   },
   "outputs": [],
   "source": [
    "df['stars'] = pd.to_numeric(df.stars)"
   ]
  },
  {
   "cell_type": "code",
   "execution_count": 10,
   "metadata": {
    "ExecuteTime": {
     "end_time": "2019-07-29T22:29:22.467017Z",
     "start_time": "2019-07-29T22:29:22.454425Z"
    }
   },
   "outputs": [
    {
     "data": {
      "text/html": [
       "<div>\n",
       "<style scoped>\n",
       "    .dataframe tbody tr th:only-of-type {\n",
       "        vertical-align: middle;\n",
       "    }\n",
       "\n",
       "    .dataframe tbody tr th {\n",
       "        vertical-align: top;\n",
       "    }\n",
       "\n",
       "    .dataframe thead th {\n",
       "        text-align: right;\n",
       "    }\n",
       "</style>\n",
       "<table border=\"1\" class=\"dataframe\">\n",
       "  <thead>\n",
       "    <tr style=\"text-align: right;\">\n",
       "      <th></th>\n",
       "      <th>review_link</th>\n",
       "      <th>review_link-href</th>\n",
       "      <th>name</th>\n",
       "      <th>date</th>\n",
       "      <th>stars</th>\n",
       "      <th>stars-href</th>\n",
       "      <th>verified</th>\n",
       "      <th>product</th>\n",
       "      <th>review</th>\n",
       "      <th>length</th>\n",
       "      <th>year</th>\n",
       "    </tr>\n",
       "  </thead>\n",
       "  <tbody>\n",
       "    <tr>\n",
       "      <th>0</th>\n",
       "      <td>Great gift for my GF</td>\n",
       "      <td>https://www.amazon.com/gp/customer-reviews/RJ8...</td>\n",
       "      <td>Courtland</td>\n",
       "      <td>2019-02-21</td>\n",
       "      <td>5.0</td>\n",
       "      <td>https://www.amazon.com/gp/customer-reviews/RJ8...</td>\n",
       "      <td>Verified Purchase</td>\n",
       "      <td>Color: Graphite/BlackEdition: Charge 3 Activit...</td>\n",
       "      <td>Best version so far. Great gift for fitness ce...</td>\n",
       "      <td>59</td>\n",
       "      <td>2019</td>\n",
       "    </tr>\n",
       "    <tr>\n",
       "      <th>1</th>\n",
       "      <td>Love this Fitbit</td>\n",
       "      <td>https://www.amazon.com/gp/customer-reviews/R6R...</td>\n",
       "      <td>hkelley28</td>\n",
       "      <td>2019-04-26</td>\n",
       "      <td>5.0</td>\n",
       "      <td>https://www.amazon.com/gp/customer-reviews/R6R...</td>\n",
       "      <td>Verified Purchase</td>\n",
       "      <td>Color: Rose Gold/Blue GreyEdition: Charge 3 Ac...</td>\n",
       "      <td>Works great and stays charged for a week.</td>\n",
       "      <td>41</td>\n",
       "      <td>2019</td>\n",
       "    </tr>\n",
       "    <tr>\n",
       "      <th>2</th>\n",
       "      <td>Excellent activity tracker</td>\n",
       "      <td>https://www.amazon.com/gp/customer-reviews/RDT...</td>\n",
       "      <td>Amazon Customer</td>\n",
       "      <td>2019-02-14</td>\n",
       "      <td>5.0</td>\n",
       "      <td>https://www.amazon.com/gp/customer-reviews/RDT...</td>\n",
       "      <td>Verified Purchase</td>\n",
       "      <td>Color: Graphite/BlackEdition: Charge 3 Activit...</td>\n",
       "      <td>Excellent tool to aid in weight loss. The extr...</td>\n",
       "      <td>124</td>\n",
       "      <td>2019</td>\n",
       "    </tr>\n",
       "    <tr>\n",
       "      <th>3</th>\n",
       "      <td>Updated clock faces</td>\n",
       "      <td>https://www.amazon.com/gp/customer-reviews/R2X...</td>\n",
       "      <td>Leslie H.</td>\n",
       "      <td>2018-11-12</td>\n",
       "      <td>4.0</td>\n",
       "      <td>https://www.amazon.com/gp/customer-reviews/R2X...</td>\n",
       "      <td>Verified Purchase</td>\n",
       "      <td>Color: Graphite/BlackEdition: Charge 3 Activit...</td>\n",
       "      <td>I got my Fitbit charge 3 in the mail yesterday...</td>\n",
       "      <td>584</td>\n",
       "      <td>2018</td>\n",
       "    </tr>\n",
       "    <tr>\n",
       "      <th>4</th>\n",
       "      <td>Want to get fit while being on top of it? Get ...</td>\n",
       "      <td>https://www.amazon.com/gp/customer-reviews/RQJ...</td>\n",
       "      <td>Amazon Customer</td>\n",
       "      <td>2018-11-23</td>\n",
       "      <td>5.0</td>\n",
       "      <td>https://www.amazon.com/gp/customer-reviews/RQJ...</td>\n",
       "      <td>Verified Purchase</td>\n",
       "      <td>Color: Graphite/BlackEdition: Charge 3 Activit...</td>\n",
       "      <td>That it measures my HR when I exercise. Also, ...</td>\n",
       "      <td>81</td>\n",
       "      <td>2018</td>\n",
       "    </tr>\n",
       "  </tbody>\n",
       "</table>\n",
       "</div>"
      ],
      "text/plain": [
       "                                         review_link  \\\n",
       "0                               Great gift for my GF   \n",
       "1                                   Love this Fitbit   \n",
       "2                         Excellent activity tracker   \n",
       "3                                Updated clock faces   \n",
       "4  Want to get fit while being on top of it? Get ...   \n",
       "\n",
       "                                    review_link-href             name  \\\n",
       "0  https://www.amazon.com/gp/customer-reviews/RJ8...        Courtland   \n",
       "1  https://www.amazon.com/gp/customer-reviews/R6R...        hkelley28   \n",
       "2  https://www.amazon.com/gp/customer-reviews/RDT...  Amazon Customer   \n",
       "3  https://www.amazon.com/gp/customer-reviews/R2X...        Leslie H.   \n",
       "4  https://www.amazon.com/gp/customer-reviews/RQJ...  Amazon Customer   \n",
       "\n",
       "        date  stars                                         stars-href  \\\n",
       "0 2019-02-21    5.0  https://www.amazon.com/gp/customer-reviews/RJ8...   \n",
       "1 2019-04-26    5.0  https://www.amazon.com/gp/customer-reviews/R6R...   \n",
       "2 2019-02-14    5.0  https://www.amazon.com/gp/customer-reviews/RDT...   \n",
       "3 2018-11-12    4.0  https://www.amazon.com/gp/customer-reviews/R2X...   \n",
       "4 2018-11-23    5.0  https://www.amazon.com/gp/customer-reviews/RQJ...   \n",
       "\n",
       "            verified                                            product  \\\n",
       "0  Verified Purchase  Color: Graphite/BlackEdition: Charge 3 Activit...   \n",
       "1  Verified Purchase  Color: Rose Gold/Blue GreyEdition: Charge 3 Ac...   \n",
       "2  Verified Purchase  Color: Graphite/BlackEdition: Charge 3 Activit...   \n",
       "3  Verified Purchase  Color: Graphite/BlackEdition: Charge 3 Activit...   \n",
       "4  Verified Purchase  Color: Graphite/BlackEdition: Charge 3 Activit...   \n",
       "\n",
       "                                              review  length  year  \n",
       "0  Best version so far. Great gift for fitness ce...      59  2019  \n",
       "1          Works great and stays charged for a week.      41  2019  \n",
       "2  Excellent tool to aid in weight loss. The extr...     124  2019  \n",
       "3  I got my Fitbit charge 3 in the mail yesterday...     584  2018  \n",
       "4  That it measures my HR when I exercise. Also, ...      81  2018  "
      ]
     },
     "execution_count": 10,
     "metadata": {},
     "output_type": "execute_result"
    }
   ],
   "source": [
    "df.head()"
   ]
  },
  {
   "cell_type": "code",
   "execution_count": 11,
   "metadata": {
    "ExecuteTime": {
     "end_time": "2019-07-29T22:29:22.691681Z",
     "start_time": "2019-07-29T22:29:22.469563Z"
    }
   },
   "outputs": [
    {
     "data": {
      "text/plain": [
       "(-20, 2000)"
      ]
     },
     "execution_count": 11,
     "metadata": {},
     "output_type": "execute_result"
    },
    {
     "data": {
      "image/png": "[encoded data removed]",
      "text/plain": [
       "<Figure size 1008x576 with 1 Axes>"
      ]
     },
     "metadata": {
      "needs_background": "light"
     },
     "output_type": "display_data"
    }
   ],
   "source": [
    "fig, ax = plt.subplots(figsize = (14,8))\n",
    "sns.boxplot(df.stars, df.length)\n",
    "plt.ylim(-20, 2000)"
   ]
  },
  {
   "cell_type": "code",
   "execution_count": 12,
   "metadata": {
    "ExecuteTime": {
     "end_time": "2019-07-29T22:29:22.916203Z",
     "start_time": "2019-07-29T22:29:22.695219Z"
    }
   },
   "outputs": [
    {
     "data": {
      "text/plain": [
       "<matplotlib.axes._subplots.AxesSubplot at 0x1a200eafd0>"
      ]
     },
     "execution_count": 12,
     "metadata": {},
     "output_type": "execute_result"
    },
    {
     "data": {
      "image/png": "[encoded data removed]",
      "text/plain": [
       "<Figure size 1008x576 with 1 Axes>"
      ]
     },
     "metadata": {
      "needs_background": "light"
     },
     "output_type": "display_data"
    }
   ],
   "source": [
    "fig, ax = plt.subplots(figsize = (14,8))\n",
    "df.groupby(['date'])['stars'].mean().plot(marker='.',linestyle='none')"
   ]
  },
  {
   "cell_type": "code",
   "execution_count": 13,
   "metadata": {
    "ExecuteTime": {
     "end_time": "2019-07-29T22:29:23.276513Z",
     "start_time": "2019-07-29T22:29:22.918592Z"
    },
    "scrolled": false
   },
   "outputs": [
    {
     "data": {
      "text/plain": [
       "[<matplotlib.lines.Line2D at 0x1a201ee518>]"
      ]
     },
     "execution_count": 13,
     "metadata": {},
     "output_type": "execute_result"
    },
    {
     "data": {
      "image/png": "[encoded data removed]",
      "text/plain": [
       "<Figure size 1008x576 with 1 Axes>"
      ]
     },
     "metadata": {
      "needs_background": "light"
     },
     "output_type": "display_data"
    }
   ],
   "source": [
    "fig, ax = plt.subplots(figsize = (14,8))\n",
    "plt.plot(df.date, df.stars, alpha=0.02, marker='.', linestyle='none', markersize=40)"
   ]
  },
  {
   "cell_type": "code",
   "execution_count": 14,
   "metadata": {
    "ExecuteTime": {
     "end_time": "2019-07-29T22:29:23.285342Z",
     "start_time": "2019-07-29T22:29:23.278235Z"
    }
   },
   "outputs": [
    {
     "data": {
      "text/plain": [
       "(3916, 11)"
      ]
     },
     "execution_count": 14,
     "metadata": {},
     "output_type": "execute_result"
    }
   ],
   "source": [
    "df.shape"
   ]
  },
  {
   "cell_type": "code",
   "execution_count": 15,
   "metadata": {
    "ExecuteTime": {
     "end_time": "2019-07-29T22:29:23.455516Z",
     "start_time": "2019-07-29T22:29:23.287154Z"
    }
   },
   "outputs": [
    {
     "data": {
      "text/plain": [
       "Text(0.5, 1.0, 'Amazon Reviews for Fitbit Charge 3')"
      ]
     },
     "execution_count": 15,
     "metadata": {},
     "output_type": "execute_result"
    },
    {
     "data": {
      "image/png": "[encoded data removed]",
      "text/plain": [
       "<Figure size 1008x576 with 1 Axes>"
      ]
     },
     "metadata": {
      "needs_background": "light"
     },
     "output_type": "display_data"
    }
   ],
   "source": [
    "fig, ax = plt.subplots(figsize = (14,8))\n",
    "df.groupby('stars').size().plot(kind='bar', color='orange', alpha=0.7)\n",
    "plt.xlabel('Star Rating')\n",
    "plt.ylabel('Number of Ratings')\n",
    "plt.title('Amazon Reviews for Fitbit Charge 3', fontsize=14)"
   ]
  },
  {
   "cell_type": "markdown",
   "metadata": {},
   "source": [
    "# NLP"
   ]
  },
  {
   "cell_type": "code",
   "execution_count": 16,
   "metadata": {
    "ExecuteTime": {
     "end_time": "2019-07-29T22:29:26.288252Z",
     "start_time": "2019-07-29T22:29:23.457377Z"
    }
   },
   "outputs": [],
   "source": [
    "import gensim\n",
    "import spacy\n",
    "from nltk import FreqDist\n",
    "from gensim.models import LdaModel, phrases\n",
    "from gensim.models.wrappers import LdaMallet\n",
    "from gensim.corpora import Dictionary\n",
    "import pyLDAvis.gensim\n",
    "\n",
    "import os, re, operator, warnings\n",
    "warnings.filterwarnings('ignore')  # Let's not pay heed to them right now"
   ]
  },
  {
   "cell_type": "markdown",
   "metadata": {},
   "source": [
    "# SpaCy"
   ]
  },
  {
   "cell_type": "code",
   "execution_count": 17,
   "metadata": {
    "ExecuteTime": {
     "end_time": "2019-07-29T22:29:26.295876Z",
     "start_time": "2019-07-29T22:29:26.289887Z"
    }
   },
   "outputs": [],
   "source": [
    "terms = [u\"heart rate\", u\"gps\", u\"sync\", u\"syncing\", u\"design\",\n",
    "         u\"charging\", u\"charger\", u\"battery\", u\"quality\", \n",
    "         u\"screen\", u\"service\", u\"sleep\", u\"alarm\", u\"reminder\"]"
   ]
  },
  {
   "cell_type": "code",
   "execution_count": 18,
   "metadata": {
    "ExecuteTime": {
     "end_time": "2019-07-29T22:29:37.145810Z",
     "start_time": "2019-07-29T22:29:26.302458Z"
    }
   },
   "outputs": [],
   "source": [
    "#$ python -m spacy download en_core_web_md (run in shell if not installed)\n",
    "nlp = spacy.load('en_core_web_lg')"
   ]
  },
  {
   "cell_type": "code",
   "execution_count": 19,
   "metadata": {
    "ExecuteTime": {
     "end_time": "2019-07-29T22:29:37.165696Z",
     "start_time": "2019-07-29T22:29:37.153128Z"
    }
   },
   "outputs": [
    {
     "name": "stdout",
     "output_type": "stream",
     "text": [
      "Would have rated higher but my first one came DOA in the box.  Had to wait over a week to get the replacement.  Other than that I like what the Charge gives with regards to sleep health.\n"
     ]
    }
   ],
   "source": [
    "text = df.review[12]\n",
    "print(text)"
   ]
  },
  {
   "cell_type": "code",
   "execution_count": 20,
   "metadata": {
    "ExecuteTime": {
     "end_time": "2019-07-29T22:29:37.207990Z",
     "start_time": "2019-07-29T22:29:37.168914Z"
    }
   },
   "outputs": [],
   "source": [
    "# Process the text\n",
    "doc = nlp(text)"
   ]
  },
  {
   "cell_type": "code",
   "execution_count": 21,
   "metadata": {
    "ExecuteTime": {
     "end_time": "2019-07-29T22:29:37.219999Z",
     "start_time": "2019-07-29T22:29:37.210098Z"
    }
   },
   "outputs": [
    {
     "name": "stdout",
     "output_type": "stream",
     "text": [
      "sleep/NN <--compound-- health/NN\n"
     ]
    }
   ],
   "source": [
    "for token in doc:\n",
    "    if token.lemma_ in terms:\n",
    "        print(\"{0}/{1} <--{2}-- {3}/{4}\".format(\n",
    "        token.text, token.tag_, token.dep_, token.head.text, token.head.tag_))"
   ]
  },
  {
   "cell_type": "code",
   "execution_count": 22,
   "metadata": {
    "ExecuteTime": {
     "end_time": "2019-07-29T22:29:37.233406Z",
     "start_time": "2019-07-29T22:29:37.222742Z"
    }
   },
   "outputs": [
    {
     "name": "stdout",
     "output_type": "stream",
     "text": [
      "I like what the Charge gives with regards to sleep health.\n",
      "---\n",
      "sleep/NN <--compound-- health/NN\n",
      "---\n",
      "child: I\n",
      "child: gives\n",
      "child: .\n"
     ]
    }
   ],
   "source": [
    "for sentence in doc.sents:\n",
    "    chunk = []\n",
    "    for token in sentence:     \n",
    "        if token.lemma_ in terms:\n",
    "            print(sentence)\n",
    "            print('---')\n",
    "            print(\"{0}/{1} <--{2}-- {3}/{4}\".format(\n",
    "                  token.text, token.tag_, token.dep_, token.head.text, token.head.tag_))\n",
    "            print('---')           \n",
    "            for child in sentence.root.children:\n",
    "                chunk.append(child.text)\n",
    "                print(f'child: {child}')"
   ]
  },
  {
   "cell_type": "code",
   "execution_count": 23,
   "metadata": {
    "ExecuteTime": {
     "end_time": "2019-07-29T22:29:37.255663Z",
     "start_time": "2019-07-29T22:29:37.236322Z"
    }
   },
   "outputs": [
    {
     "data": {
      "text/html": [
       "<svg xmlns=\"http://www.w3.org/2000/svg\" xmlns:xlink=\"http://www.w3.org/1999/xlink\" id=\"0\" class=\"displacy\" width=\"950\" height=\"317.0\" style=\"max-width: none; height: 317.0px; color: #000000; background: #ffffff; font-family: Arial\">\n",
       "<text class=\"displacy-token\" fill=\"currentColor\" text-anchor=\"middle\" y=\"227.0\">\n",
       "    <tspan class=\"displacy-word\" fill=\"currentColor\" x=\"50\">i</tspan>\n",
       "    <tspan class=\"displacy-tag\" dy=\"2em\" fill=\"currentColor\" x=\"50\">PRON</tspan>\n",
       "</text>\n",
       "\n",
       "<text class=\"displacy-token\" fill=\"currentColor\" text-anchor=\"middle\" y=\"227.0\">\n",
       "    <tspan class=\"displacy-word\" fill=\"currentColor\" x=\"140\">am</tspan>\n",
       "    <tspan class=\"displacy-tag\" dy=\"2em\" fill=\"currentColor\" x=\"140\">VERB</tspan>\n",
       "</text>\n",
       "\n",
       "<text class=\"displacy-token\" fill=\"currentColor\" text-anchor=\"middle\" y=\"227.0\">\n",
       "    <tspan class=\"displacy-word\" fill=\"currentColor\" x=\"230\">very</tspan>\n",
       "    <tspan class=\"displacy-tag\" dy=\"2em\" fill=\"currentColor\" x=\"230\">ADV</tspan>\n",
       "</text>\n",
       "\n",
       "<text class=\"displacy-token\" fill=\"currentColor\" text-anchor=\"middle\" y=\"227.0\">\n",
       "    <tspan class=\"displacy-word\" fill=\"currentColor\" x=\"320\">disapointed</tspan>\n",
       "    <tspan class=\"displacy-tag\" dy=\"2em\" fill=\"currentColor\" x=\"320\">ADJ</tspan>\n",
       "</text>\n",
       "\n",
       "<text class=\"displacy-token\" fill=\"currentColor\" text-anchor=\"middle\" y=\"227.0\">\n",
       "    <tspan class=\"displacy-word\" fill=\"currentColor\" x=\"410\">especially</tspan>\n",
       "    <tspan class=\"displacy-tag\" dy=\"2em\" fill=\"currentColor\" x=\"410\">ADV</tspan>\n",
       "</text>\n",
       "\n",
       "<text class=\"displacy-token\" fill=\"currentColor\" text-anchor=\"middle\" y=\"227.0\">\n",
       "    <tspan class=\"displacy-word\" fill=\"currentColor\" x=\"500\">about</tspan>\n",
       "    <tspan class=\"displacy-tag\" dy=\"2em\" fill=\"currentColor\" x=\"500\">ADP</tspan>\n",
       "</text>\n",
       "\n",
       "<text class=\"displacy-token\" fill=\"currentColor\" text-anchor=\"middle\" y=\"227.0\">\n",
       "    <tspan class=\"displacy-word\" fill=\"currentColor\" x=\"590\">the</tspan>\n",
       "    <tspan class=\"displacy-tag\" dy=\"2em\" fill=\"currentColor\" x=\"590\">DET</tspan>\n",
       "</text>\n",
       "\n",
       "<text class=\"displacy-token\" fill=\"currentColor\" text-anchor=\"middle\" y=\"227.0\">\n",
       "    <tspan class=\"displacy-word\" fill=\"currentColor\" x=\"680\">heart</tspan>\n",
       "    <tspan class=\"displacy-tag\" dy=\"2em\" fill=\"currentColor\" x=\"680\">NOUN</tspan>\n",
       "</text>\n",
       "\n",
       "<text class=\"displacy-token\" fill=\"currentColor\" text-anchor=\"middle\" y=\"227.0\">\n",
       "    <tspan class=\"displacy-word\" fill=\"currentColor\" x=\"770\">rate</tspan>\n",
       "    <tspan class=\"displacy-tag\" dy=\"2em\" fill=\"currentColor\" x=\"770\">NOUN</tspan>\n",
       "</text>\n",
       "\n",
       "<text class=\"displacy-token\" fill=\"currentColor\" text-anchor=\"middle\" y=\"227.0\">\n",
       "    <tspan class=\"displacy-word\" fill=\"currentColor\" x=\"860\">tracker</tspan>\n",
       "    <tspan class=\"displacy-tag\" dy=\"2em\" fill=\"currentColor\" x=\"860\">NOUN</tspan>\n",
       "</text>\n",
       "\n",
       "<g class=\"displacy-arrow\">\n",
       "    <path class=\"displacy-arc\" id=\"arrow-0-0\" stroke-width=\"2px\" d=\"M70,182.0 C70,137.0 125.0,137.0 125.0,182.0\" fill=\"none\" stroke=\"currentColor\"/>\n",
       "    <text dy=\"1.25em\" style=\"font-size: 0.8em; letter-spacing: 1px\">\n",
       "        <textPath xlink:href=\"#arrow-0-0\" class=\"displacy-label\" startOffset=\"50%\" fill=\"currentColor\" text-anchor=\"middle\">nsubj</textPath>\n",
       "    </text>\n",
       "    <path class=\"displacy-arrowhead\" d=\"M70,184.0 L62,172.0 78,172.0\" fill=\"currentColor\"/>\n",
       "</g>\n",
       "\n",
       "<g class=\"displacy-arrow\">\n",
       "    <path class=\"displacy-arc\" id=\"arrow-0-1\" stroke-width=\"2px\" d=\"M250,182.0 C250,137.0 305.0,137.0 305.0,182.0\" fill=\"none\" stroke=\"currentColor\"/>\n",
       "    <text dy=\"1.25em\" style=\"font-size: 0.8em; letter-spacing: 1px\">\n",
       "        <textPath xlink:href=\"#arrow-0-1\" class=\"displacy-label\" startOffset=\"50%\" fill=\"currentColor\" text-anchor=\"middle\">advmod</textPath>\n",
       "    </text>\n",
       "    <path class=\"displacy-arrowhead\" d=\"M250,184.0 L242,172.0 258,172.0\" fill=\"currentColor\"/>\n",
       "</g>\n",
       "\n",
       "<g class=\"displacy-arrow\">\n",
       "    <path class=\"displacy-arc\" id=\"arrow-0-2\" stroke-width=\"2px\" d=\"M160,182.0 C160,92.0 310.0,92.0 310.0,182.0\" fill=\"none\" stroke=\"currentColor\"/>\n",
       "    <text dy=\"1.25em\" style=\"font-size: 0.8em; letter-spacing: 1px\">\n",
       "        <textPath xlink:href=\"#arrow-0-2\" class=\"displacy-label\" startOffset=\"50%\" fill=\"currentColor\" text-anchor=\"middle\">acomp</textPath>\n",
       "    </text>\n",
       "    <path class=\"displacy-arrowhead\" d=\"M310.0,184.0 L318.0,172.0 302.0,172.0\" fill=\"currentColor\"/>\n",
       "</g>\n",
       "\n",
       "<g class=\"displacy-arrow\">\n",
       "    <path class=\"displacy-arc\" id=\"arrow-0-3\" stroke-width=\"2px\" d=\"M430,182.0 C430,137.0 485.0,137.0 485.0,182.0\" fill=\"none\" stroke=\"currentColor\"/>\n",
       "    <text dy=\"1.25em\" style=\"font-size: 0.8em; letter-spacing: 1px\">\n",
       "        <textPath xlink:href=\"#arrow-0-3\" class=\"displacy-label\" startOffset=\"50%\" fill=\"currentColor\" text-anchor=\"middle\">advmod</textPath>\n",
       "    </text>\n",
       "    <path class=\"displacy-arrowhead\" d=\"M430,184.0 L422,172.0 438,172.0\" fill=\"currentColor\"/>\n",
       "</g>\n",
       "\n",
       "<g class=\"displacy-arrow\">\n",
       "    <path class=\"displacy-arc\" id=\"arrow-0-4\" stroke-width=\"2px\" d=\"M340,182.0 C340,92.0 490.0,92.0 490.0,182.0\" fill=\"none\" stroke=\"currentColor\"/>\n",
       "    <text dy=\"1.25em\" style=\"font-size: 0.8em; letter-spacing: 1px\">\n",
       "        <textPath xlink:href=\"#arrow-0-4\" class=\"displacy-label\" startOffset=\"50%\" fill=\"currentColor\" text-anchor=\"middle\">prep</textPath>\n",
       "    </text>\n",
       "    <path class=\"displacy-arrowhead\" d=\"M490.0,184.0 L498.0,172.0 482.0,172.0\" fill=\"currentColor\"/>\n",
       "</g>\n",
       "\n",
       "<g class=\"displacy-arrow\">\n",
       "    <path class=\"displacy-arc\" id=\"arrow-0-5\" stroke-width=\"2px\" d=\"M610,182.0 C610,47.0 855.0,47.0 855.0,182.0\" fill=\"none\" stroke=\"currentColor\"/>\n",
       "    <text dy=\"1.25em\" style=\"font-size: 0.8em; letter-spacing: 1px\">\n",
       "        <textPath xlink:href=\"#arrow-0-5\" class=\"displacy-label\" startOffset=\"50%\" fill=\"currentColor\" text-anchor=\"middle\">det</textPath>\n",
       "    </text>\n",
       "    <path class=\"displacy-arrowhead\" d=\"M610,184.0 L602,172.0 618,172.0\" fill=\"currentColor\"/>\n",
       "</g>\n",
       "\n",
       "<g class=\"displacy-arrow\">\n",
       "    <path class=\"displacy-arc\" id=\"arrow-0-6\" stroke-width=\"2px\" d=\"M700,182.0 C700,137.0 755.0,137.0 755.0,182.0\" fill=\"none\" stroke=\"currentColor\"/>\n",
       "    <text dy=\"1.25em\" style=\"font-size: 0.8em; letter-spacing: 1px\">\n",
       "        <textPath xlink:href=\"#arrow-0-6\" class=\"displacy-label\" startOffset=\"50%\" fill=\"currentColor\" text-anchor=\"middle\">compound</textPath>\n",
       "    </text>\n",
       "    <path class=\"displacy-arrowhead\" d=\"M700,184.0 L692,172.0 708,172.0\" fill=\"currentColor\"/>\n",
       "</g>\n",
       "\n",
       "<g class=\"displacy-arrow\">\n",
       "    <path class=\"displacy-arc\" id=\"arrow-0-7\" stroke-width=\"2px\" d=\"M790,182.0 C790,137.0 845.0,137.0 845.0,182.0\" fill=\"none\" stroke=\"currentColor\"/>\n",
       "    <text dy=\"1.25em\" style=\"font-size: 0.8em; letter-spacing: 1px\">\n",
       "        <textPath xlink:href=\"#arrow-0-7\" class=\"displacy-label\" startOffset=\"50%\" fill=\"currentColor\" text-anchor=\"middle\">compound</textPath>\n",
       "    </text>\n",
       "    <path class=\"displacy-arrowhead\" d=\"M790,184.0 L782,172.0 798,172.0\" fill=\"currentColor\"/>\n",
       "</g>\n",
       "\n",
       "<g class=\"displacy-arrow\">\n",
       "    <path class=\"displacy-arc\" id=\"arrow-0-8\" stroke-width=\"2px\" d=\"M520,182.0 C520,2.0 860.0,2.0 860.0,182.0\" fill=\"none\" stroke=\"currentColor\"/>\n",
       "    <text dy=\"1.25em\" style=\"font-size: 0.8em; letter-spacing: 1px\">\n",
       "        <textPath xlink:href=\"#arrow-0-8\" class=\"displacy-label\" startOffset=\"50%\" fill=\"currentColor\" text-anchor=\"middle\">pobj</textPath>\n",
       "    </text>\n",
       "    <path class=\"displacy-arrowhead\" d=\"M860.0,184.0 L868.0,172.0 852.0,172.0\" fill=\"currentColor\"/>\n",
       "</g>\n",
       "</svg>"
      ],
      "text/plain": [
       "<IPython.core.display.HTML object>"
      ]
     },
     "metadata": {},
     "output_type": "display_data"
    }
   ],
   "source": [
    "from spacy import displacy\n",
    "\n",
    "# In[2]:\n",
    "doc = nlp(u\"i am very disapointed especially about the heart rate tracker\")\n",
    "displacy.render(doc, style=\"dep\", jupyter=True, options={'distance':90})"
   ]
  },
  {
   "cell_type": "code",
   "execution_count": 24,
   "metadata": {
    "ExecuteTime": {
     "end_time": "2019-07-29T22:29:37.265852Z",
     "start_time": "2019-07-29T22:29:37.258436Z"
    }
   },
   "outputs": [
    {
     "name": "stdout",
     "output_type": "stream",
     "text": [
      "i am very disapointed especially about the heart rate tracker\n",
      "--------------------\n"
     ]
    }
   ],
   "source": [
    "for sentence in doc.sents:\n",
    "    print(sentence)\n",
    "    print('--------------------')"
   ]
  },
  {
   "cell_type": "code",
   "execution_count": 25,
   "metadata": {
    "ExecuteTime": {
     "end_time": "2019-07-29T22:29:37.276284Z",
     "start_time": "2019-07-29T22:29:37.268065Z"
    }
   },
   "outputs": [
    {
     "data": {
      "text/plain": [
       "\"#stemming\\nfrom nltk.stem.snowball import SnowballStemmer\\nstemmer = SnowballStemmer(language='english')\""
      ]
     },
     "execution_count": 25,
     "metadata": {},
     "output_type": "execute_result"
    }
   ],
   "source": [
    "'''#stemming\n",
    "from nltk.stem.snowball import SnowballStemmer\n",
    "stemmer = SnowballStemmer(language='english')'''"
   ]
  },
  {
   "cell_type": "code",
   "execution_count": 26,
   "metadata": {
    "ExecuteTime": {
     "end_time": "2019-07-29T22:29:37.288402Z",
     "start_time": "2019-07-29T22:29:37.280389Z"
    }
   },
   "outputs": [
    {
     "data": {
      "text/plain": [
       "'for term in terms:    \\n    for i in doc:\\n        sims = nlp(stemmer.stem(term))[0].similarity(nlp(stemmer.stem(str(i))))\\n        if sims > 0.7:\\n            print(sims, i)'"
      ]
     },
     "execution_count": 26,
     "metadata": {},
     "output_type": "execute_result"
    }
   ],
   "source": [
    "#A very slow way of extracting search terms\n",
    "'''for term in terms:    \n",
    "    for i in doc:\n",
    "        sims = nlp(stemmer.stem(term))[0].similarity(nlp(stemmer.stem(str(i))))\n",
    "        if sims > 0.7:\n",
    "            print(sims, i)'''"
   ]
  },
  {
   "cell_type": "markdown",
   "metadata": {},
   "source": [
    "## Phrase Matcher"
   ]
  },
  {
   "cell_type": "code",
   "execution_count": 27,
   "metadata": {
    "ExecuteTime": {
     "end_time": "2019-07-29T22:29:37.305580Z",
     "start_time": "2019-07-29T22:29:37.290922Z"
    }
   },
   "outputs": [],
   "source": [
    "from spacy.matcher import PhraseMatcher"
   ]
  },
  {
   "cell_type": "code",
   "execution_count": 28,
   "metadata": {
    "ExecuteTime": {
     "end_time": "2019-07-29T22:29:37.315340Z",
     "start_time": "2019-07-29T22:29:37.307405Z"
    }
   },
   "outputs": [],
   "source": [
    "terms = [u\"heart rate\", u\"gps\", u\"sync\", u\"syncing\", u\"design\",\n",
    "         u\"charging\", u\"charger\", u\"battery\", u\"quality\", \n",
    "         u\"screen\", u\"service\", u\"sleep\", u\"alarm\", u\"reminder\"]"
   ]
  },
  {
   "cell_type": "code",
   "execution_count": 29,
   "metadata": {
    "ExecuteTime": {
     "end_time": "2019-07-29T22:29:37.322436Z",
     "start_time": "2019-07-29T22:29:37.316798Z"
    }
   },
   "outputs": [],
   "source": [
    "def phrase_matcher(review): \n",
    "    matched_list = []\n",
    "    matcher = PhraseMatcher(nlp.vocab)\n",
    "    # Only run nlp.make_doc to speed things up\n",
    "    patterns = [nlp.make_doc(text) for text in terms]\n",
    "    matcher.add(\"TerminologyList\", None, *patterns)\n",
    "    matches = matcher(review)\n",
    "    for match_id, start, end in matches:\n",
    "        span = review[start:end]\n",
    "        matched_list.append(span.text)\n",
    "    return list(set(matched_list))"
   ]
  },
  {
   "cell_type": "markdown",
   "metadata": {},
   "source": [
    "# Sentiment Analysis - TextBlob, Afinn, NLTK+Vader"
   ]
  },
  {
   "cell_type": "code",
   "execution_count": 30,
   "metadata": {
    "ExecuteTime": {
     "end_time": "2019-07-29T22:29:37.902653Z",
     "start_time": "2019-07-29T22:29:37.324952Z"
    }
   },
   "outputs": [
    {
     "name": "stderr",
     "output_type": "stream",
     "text": [
      "[nltk_data] Downloading package vader_lexicon to\n",
      "[nltk_data]     /Users/dmitriykats/nltk_data...\n",
      "[nltk_data]   Package vader_lexicon is already up-to-date!\n"
     ]
    }
   ],
   "source": [
    "#TEXTBLOB\n",
    "from textblob import TextBlob\n",
    "#AFINN\n",
    "from afinn import Afinn\n",
    "af = Afinn()\n",
    "#NLTK\n",
    "from nltk.sentiment.vader import SentimentIntensityAnalyzer\n",
    "import nltk\n",
    "nltk.download('vader_lexicon')\n",
    "sid = SentimentIntensityAnalyzer()"
   ]
  },
  {
   "cell_type": "markdown",
   "metadata": {},
   "source": [
    "## Phrase count in new DataFrame"
   ]
  },
  {
   "cell_type": "code",
   "execution_count": 31,
   "metadata": {
    "ExecuteTime": {
     "end_time": "2019-07-29T22:29:37.916513Z",
     "start_time": "2019-07-29T22:29:37.906646Z"
    }
   },
   "outputs": [],
   "source": [
    "#create a dataframe with our phrases as columns, to keep count of sentiment\n",
    "phrase_df = pd.DataFrame(columns=terms)"
   ]
  },
  {
   "cell_type": "code",
   "execution_count": 32,
   "metadata": {
    "ExecuteTime": {
     "end_time": "2019-07-29T22:29:37.931294Z",
     "start_time": "2019-07-29T22:29:37.919356Z"
    }
   },
   "outputs": [],
   "source": [
    "def get_sentiment(input_string): \n",
    "    '''\n",
    "    Takes a string (sentence), and returns an averaged, three-model \n",
    "    sentiment score, from -1 to 1. Where -1 is negative sentiment, 0 is neutral,\n",
    "    and +1 is positive sentiment. \n",
    "    '''\n",
    "    #calculate sentiment score with TextBlob, Afinn, NLTK+Vader\n",
    "    txt_blob = TextBlob(input_string.text).sentiment[0]\n",
    "    a_fin = af.score(input_string.text)\n",
    "    nltk_vader = sid.polarity_scores(input_string.text).get('compound')\n",
    "    \n",
    "    #TextBlob\n",
    "    if txt_blob > 0.1:\n",
    "        blob = 1\n",
    "    elif txt_blob == 0 and txt_blob <= 0.1:\n",
    "        blob = 0\n",
    "    else: blob = -1\n",
    "\n",
    "    #afinn\n",
    "    if a_fin > 1:\n",
    "         fin = 1\n",
    "    elif a_fin == 0 and a_fin <= 1:\n",
    "        fin = 0\n",
    "    else: fin = -1\n",
    "\n",
    "    #NLTK-Vader\n",
    "    if nltk_vader > 0.1:\n",
    "        vader = 1\n",
    "    elif nltk_vader == 0 and nltk_vader <= 0.1:\n",
    "        vader = 0\n",
    "    else: vader = -1\n",
    "   \n",
    "    #Averaged return\n",
    "    avg_score = (blob + fin + vader) / 3\n",
    "    return avg_score      "
   ]
  },
  {
   "cell_type": "code",
   "execution_count": 33,
   "metadata": {
    "ExecuteTime": {
     "end_time": "2019-07-29T22:29:37.944778Z",
     "start_time": "2019-07-29T22:29:37.933466Z"
    }
   },
   "outputs": [],
   "source": [
    "#need SpaCy lg dictionary and TextBlob\n",
    "\n",
    "def review_sent(review):\n",
    "    '''\n",
    "    for a given review, returns dictionary of matched phrases : sentiment\n",
    "    '''\n",
    "    sent_dict = {}\n",
    "    count_df = pd.DataFrame(columns=['phrase','sentiment'])\n",
    "    doc = nlp(review)\n",
    "    \n",
    "    for sentence in doc.sents:\n",
    "        matched_phrases = phrase_matcher(nlp(str(sentence)))\n",
    "        phrases = ', '.join(matched_phrases)\n",
    "        \n",
    "        #Get Sentiment from models\n",
    "        sentence_sentiment = get_sentiment(sentence)\n",
    "\n",
    "        #check if more than one phrase found by phrase matcher\n",
    "        if len(matched_phrases) > 1:\n",
    "            #add each phrase of the given sentence to the dataframe\n",
    "            for item in matched_phrases:\n",
    "                count_df.loc[-1] = [item, sentence_sentiment]   \n",
    "                count_df.index = count_df.index + 1\n",
    "                count_df = count_df.sort_index()\n",
    "        else:    \n",
    "            count_df.loc[-1] = [phrases, sentence_sentiment]   \n",
    "            count_df.index = count_df.index + 1\n",
    "            count_df = count_df.sort_index()\n",
    "          \n",
    "    grouped_df = count_df.groupby('phrase').sum()\n",
    "    grouped_dict = grouped_df.to_dict()\n",
    "    sentimen_dict = grouped_dict['sentiment']\n",
    "    return sentimen_dict"
   ]
  },
  {
   "cell_type": "code",
   "execution_count": 34,
   "metadata": {
    "ExecuteTime": {
     "end_time": "2019-07-29T22:38:14.463250Z",
     "start_time": "2019-07-29T22:29:37.947194Z"
    }
   },
   "outputs": [],
   "source": [
    "df['sentiment'] = df.review.apply(lambda x: review_sent(x))"
   ]
  },
  {
   "cell_type": "code",
   "execution_count": 35,
   "metadata": {
    "ExecuteTime": {
     "end_time": "2019-07-29T22:38:14.518436Z",
     "start_time": "2019-07-29T22:38:14.468049Z"
    }
   },
   "outputs": [],
   "source": [
    "df_concat = pd.concat([df, phrase_df], axis=1)"
   ]
  },
  {
   "cell_type": "code",
   "execution_count": 36,
   "metadata": {
    "ExecuteTime": {
     "end_time": "2019-07-29T22:38:16.285052Z",
     "start_time": "2019-07-29T22:38:14.520406Z"
    }
   },
   "outputs": [],
   "source": [
    "for i in phrase_df.columns:\n",
    "    df_concat[i] = df_concat.apply(lambda x: x.sentiment.get(i), axis=1)"
   ]
  },
  {
   "cell_type": "code",
   "execution_count": 37,
   "metadata": {
    "ExecuteTime": {
     "end_time": "2019-07-29T22:38:16.311788Z",
     "start_time": "2019-07-29T22:38:16.288818Z"
    }
   },
   "outputs": [],
   "source": [
    "new_df = df_concat.iloc[:, 12:]"
   ]
  },
  {
   "cell_type": "code",
   "execution_count": 38,
   "metadata": {
    "ExecuteTime": {
     "end_time": "2019-07-29T22:38:16.351498Z",
     "start_time": "2019-07-29T22:38:16.314178Z"
    }
   },
   "outputs": [
    {
     "data": {
      "text/html": [
       "<div>\n",
       "<style scoped>\n",
       "    .dataframe tbody tr th:only-of-type {\n",
       "        vertical-align: middle;\n",
       "    }\n",
       "\n",
       "    .dataframe tbody tr th {\n",
       "        vertical-align: top;\n",
       "    }\n",
       "\n",
       "    .dataframe thead th {\n",
       "        text-align: right;\n",
       "    }\n",
       "</style>\n",
       "<table border=\"1\" class=\"dataframe\">\n",
       "  <thead>\n",
       "    <tr style=\"text-align: right;\">\n",
       "      <th></th>\n",
       "      <th>heart rate</th>\n",
       "      <th>gps</th>\n",
       "      <th>sync</th>\n",
       "      <th>syncing</th>\n",
       "      <th>design</th>\n",
       "      <th>charging</th>\n",
       "      <th>charger</th>\n",
       "      <th>battery</th>\n",
       "      <th>quality</th>\n",
       "      <th>screen</th>\n",
       "      <th>service</th>\n",
       "      <th>sleep</th>\n",
       "      <th>alarm</th>\n",
       "      <th>reminder</th>\n",
       "    </tr>\n",
       "    <tr>\n",
       "      <th>stars</th>\n",
       "      <th></th>\n",
       "      <th></th>\n",
       "      <th></th>\n",
       "      <th></th>\n",
       "      <th></th>\n",
       "      <th></th>\n",
       "      <th></th>\n",
       "      <th></th>\n",
       "      <th></th>\n",
       "      <th></th>\n",
       "      <th></th>\n",
       "      <th></th>\n",
       "      <th></th>\n",
       "      <th></th>\n",
       "    </tr>\n",
       "  </thead>\n",
       "  <tbody>\n",
       "    <tr>\n",
       "      <th>1.0</th>\n",
       "      <td>3.000000</td>\n",
       "      <td>-0.333333</td>\n",
       "      <td>-43.333333</td>\n",
       "      <td>-56.000000</td>\n",
       "      <td>-4.333333</td>\n",
       "      <td>-7.666667</td>\n",
       "      <td>-17.000000</td>\n",
       "      <td>-23.000000</td>\n",
       "      <td>-5.000000</td>\n",
       "      <td>-74.333333</td>\n",
       "      <td>-34.333333</td>\n",
       "      <td>-0.333333</td>\n",
       "      <td>-5.333333</td>\n",
       "      <td>-1.000000</td>\n",
       "    </tr>\n",
       "    <tr>\n",
       "      <th>2.0</th>\n",
       "      <td>-1.000000</td>\n",
       "      <td>-1.000000</td>\n",
       "      <td>-16.666667</td>\n",
       "      <td>-13.333333</td>\n",
       "      <td>-1.333333</td>\n",
       "      <td>-2.000000</td>\n",
       "      <td>-2.000000</td>\n",
       "      <td>-3.333333</td>\n",
       "      <td>0.666667</td>\n",
       "      <td>-13.333333</td>\n",
       "      <td>-2.000000</td>\n",
       "      <td>7.000000</td>\n",
       "      <td>-2.666667</td>\n",
       "      <td>-0.333333</td>\n",
       "    </tr>\n",
       "    <tr>\n",
       "      <th>3.0</th>\n",
       "      <td>2.666667</td>\n",
       "      <td>-0.666667</td>\n",
       "      <td>-5.000000</td>\n",
       "      <td>-6.000000</td>\n",
       "      <td>2.666667</td>\n",
       "      <td>-2.333333</td>\n",
       "      <td>2.000000</td>\n",
       "      <td>10.333333</td>\n",
       "      <td>1.000000</td>\n",
       "      <td>-9.000000</td>\n",
       "      <td>1.666667</td>\n",
       "      <td>12.000000</td>\n",
       "      <td>0.333333</td>\n",
       "      <td>-1.000000</td>\n",
       "    </tr>\n",
       "    <tr>\n",
       "      <th>4.0</th>\n",
       "      <td>11.333333</td>\n",
       "      <td>-0.666667</td>\n",
       "      <td>2.000000</td>\n",
       "      <td>-2.000000</td>\n",
       "      <td>1.000000</td>\n",
       "      <td>-0.333333</td>\n",
       "      <td>-2.000000</td>\n",
       "      <td>13.000000</td>\n",
       "      <td>3.000000</td>\n",
       "      <td>-0.333333</td>\n",
       "      <td>3.000000</td>\n",
       "      <td>31.666667</td>\n",
       "      <td>-1.333333</td>\n",
       "      <td>2.333333</td>\n",
       "    </tr>\n",
       "    <tr>\n",
       "      <th>5.0</th>\n",
       "      <td>58.666667</td>\n",
       "      <td>1.000000</td>\n",
       "      <td>2.333333</td>\n",
       "      <td>-0.666667</td>\n",
       "      <td>7.666667</td>\n",
       "      <td>0.333333</td>\n",
       "      <td>5.333333</td>\n",
       "      <td>69.000000</td>\n",
       "      <td>13.666667</td>\n",
       "      <td>29.000000</td>\n",
       "      <td>6.000000</td>\n",
       "      <td>114.000000</td>\n",
       "      <td>-7.333333</td>\n",
       "      <td>5.666667</td>\n",
       "    </tr>\n",
       "  </tbody>\n",
       "</table>\n",
       "</div>"
      ],
      "text/plain": [
       "       heart rate       gps       sync    syncing    design  charging  \\\n",
       "stars                                                                   \n",
       "1.0      3.000000 -0.333333 -43.333333 -56.000000 -4.333333 -7.666667   \n",
       "2.0     -1.000000 -1.000000 -16.666667 -13.333333 -1.333333 -2.000000   \n",
       "3.0      2.666667 -0.666667  -5.000000  -6.000000  2.666667 -2.333333   \n",
       "4.0     11.333333 -0.666667   2.000000  -2.000000  1.000000 -0.333333   \n",
       "5.0     58.666667  1.000000   2.333333  -0.666667  7.666667  0.333333   \n",
       "\n",
       "         charger    battery    quality     screen    service       sleep  \\\n",
       "stars                                                                      \n",
       "1.0   -17.000000 -23.000000  -5.000000 -74.333333 -34.333333   -0.333333   \n",
       "2.0    -2.000000  -3.333333   0.666667 -13.333333  -2.000000    7.000000   \n",
       "3.0     2.000000  10.333333   1.000000  -9.000000   1.666667   12.000000   \n",
       "4.0    -2.000000  13.000000   3.000000  -0.333333   3.000000   31.666667   \n",
       "5.0     5.333333  69.000000  13.666667  29.000000   6.000000  114.000000   \n",
       "\n",
       "          alarm  reminder  \n",
       "stars                      \n",
       "1.0   -5.333333 -1.000000  \n",
       "2.0   -2.666667 -0.333333  \n",
       "3.0    0.333333 -1.000000  \n",
       "4.0   -1.333333  2.333333  \n",
       "5.0   -7.333333  5.666667  "
      ]
     },
     "execution_count": 38,
     "metadata": {},
     "output_type": "execute_result"
    }
   ],
   "source": [
    "df_concat.groupby('stars').sum().iloc[:, 2:]"
   ]
  },
  {
   "cell_type": "code",
   "execution_count": 39,
   "metadata": {
    "ExecuteTime": {
     "end_time": "2019-07-29T22:38:16.400129Z",
     "start_time": "2019-07-29T22:38:16.370440Z"
    }
   },
   "outputs": [
    {
     "data": {
      "text/html": [
       "<div>\n",
       "<style scoped>\n",
       "    .dataframe tbody tr th:only-of-type {\n",
       "        vertical-align: middle;\n",
       "    }\n",
       "\n",
       "    .dataframe tbody tr th {\n",
       "        vertical-align: top;\n",
       "    }\n",
       "\n",
       "    .dataframe thead th {\n",
       "        text-align: right;\n",
       "    }\n",
       "</style>\n",
       "<table border=\"1\" class=\"dataframe\">\n",
       "  <thead>\n",
       "    <tr style=\"text-align: right;\">\n",
       "      <th></th>\n",
       "      <th>heart rate</th>\n",
       "      <th>gps</th>\n",
       "      <th>sync</th>\n",
       "      <th>syncing</th>\n",
       "      <th>design</th>\n",
       "      <th>charging</th>\n",
       "      <th>charger</th>\n",
       "      <th>battery</th>\n",
       "      <th>quality</th>\n",
       "      <th>screen</th>\n",
       "      <th>service</th>\n",
       "      <th>sleep</th>\n",
       "      <th>alarm</th>\n",
       "      <th>reminder</th>\n",
       "    </tr>\n",
       "  </thead>\n",
       "  <tbody>\n",
       "    <tr>\n",
       "      <th>0</th>\n",
       "      <td>NaN</td>\n",
       "      <td>NaN</td>\n",
       "      <td>NaN</td>\n",
       "      <td>NaN</td>\n",
       "      <td>NaN</td>\n",
       "      <td>NaN</td>\n",
       "      <td>NaN</td>\n",
       "      <td>NaN</td>\n",
       "      <td>NaN</td>\n",
       "      <td>NaN</td>\n",
       "      <td>NaN</td>\n",
       "      <td>NaN</td>\n",
       "      <td>NaN</td>\n",
       "      <td>NaN</td>\n",
       "    </tr>\n",
       "    <tr>\n",
       "      <th>1</th>\n",
       "      <td>NaN</td>\n",
       "      <td>NaN</td>\n",
       "      <td>NaN</td>\n",
       "      <td>NaN</td>\n",
       "      <td>NaN</td>\n",
       "      <td>NaN</td>\n",
       "      <td>NaN</td>\n",
       "      <td>NaN</td>\n",
       "      <td>NaN</td>\n",
       "      <td>NaN</td>\n",
       "      <td>NaN</td>\n",
       "      <td>NaN</td>\n",
       "      <td>NaN</td>\n",
       "      <td>NaN</td>\n",
       "    </tr>\n",
       "    <tr>\n",
       "      <th>2</th>\n",
       "      <td>NaN</td>\n",
       "      <td>NaN</td>\n",
       "      <td>NaN</td>\n",
       "      <td>NaN</td>\n",
       "      <td>NaN</td>\n",
       "      <td>NaN</td>\n",
       "      <td>NaN</td>\n",
       "      <td>NaN</td>\n",
       "      <td>NaN</td>\n",
       "      <td>NaN</td>\n",
       "      <td>NaN</td>\n",
       "      <td>NaN</td>\n",
       "      <td>NaN</td>\n",
       "      <td>NaN</td>\n",
       "    </tr>\n",
       "    <tr>\n",
       "      <th>3</th>\n",
       "      <td>NaN</td>\n",
       "      <td>NaN</td>\n",
       "      <td>NaN</td>\n",
       "      <td>NaN</td>\n",
       "      <td>NaN</td>\n",
       "      <td>NaN</td>\n",
       "      <td>NaN</td>\n",
       "      <td>NaN</td>\n",
       "      <td>NaN</td>\n",
       "      <td>NaN</td>\n",
       "      <td>NaN</td>\n",
       "      <td>NaN</td>\n",
       "      <td>NaN</td>\n",
       "      <td>NaN</td>\n",
       "    </tr>\n",
       "    <tr>\n",
       "      <th>4</th>\n",
       "      <td>NaN</td>\n",
       "      <td>NaN</td>\n",
       "      <td>NaN</td>\n",
       "      <td>NaN</td>\n",
       "      <td>NaN</td>\n",
       "      <td>NaN</td>\n",
       "      <td>NaN</td>\n",
       "      <td>NaN</td>\n",
       "      <td>NaN</td>\n",
       "      <td>NaN</td>\n",
       "      <td>NaN</td>\n",
       "      <td>NaN</td>\n",
       "      <td>NaN</td>\n",
       "      <td>NaN</td>\n",
       "    </tr>\n",
       "  </tbody>\n",
       "</table>\n",
       "</div>"
      ],
      "text/plain": [
       "   heart rate  gps  sync  syncing  design  charging  charger  battery  \\\n",
       "0         NaN  NaN   NaN      NaN     NaN       NaN      NaN      NaN   \n",
       "1         NaN  NaN   NaN      NaN     NaN       NaN      NaN      NaN   \n",
       "2         NaN  NaN   NaN      NaN     NaN       NaN      NaN      NaN   \n",
       "3         NaN  NaN   NaN      NaN     NaN       NaN      NaN      NaN   \n",
       "4         NaN  NaN   NaN      NaN     NaN       NaN      NaN      NaN   \n",
       "\n",
       "   quality  screen  service  sleep  alarm  reminder  \n",
       "0      NaN     NaN      NaN    NaN    NaN       NaN  \n",
       "1      NaN     NaN      NaN    NaN    NaN       NaN  \n",
       "2      NaN     NaN      NaN    NaN    NaN       NaN  \n",
       "3      NaN     NaN      NaN    NaN    NaN       NaN  \n",
       "4      NaN     NaN      NaN    NaN    NaN       NaN  "
      ]
     },
     "execution_count": 39,
     "metadata": {},
     "output_type": "execute_result"
    }
   ],
   "source": [
    "new_df.head()"
   ]
  },
  {
   "cell_type": "code",
   "execution_count": 40,
   "metadata": {
    "ExecuteTime": {
     "end_time": "2019-07-29T22:38:16.736166Z",
     "start_time": "2019-07-29T22:38:16.402602Z"
    }
   },
   "outputs": [
    {
     "data": {
      "text/plain": [
       "<module 'matplotlib.pyplot' from '/Users/dmitriykats/anaconda3/lib/python3.7/site-packages/matplotlib/pyplot.py'>"
      ]
     },
     "execution_count": 40,
     "metadata": {},
     "output_type": "execute_result"
    },
    {
     "data": {
      "image/png": "[encoded data removed]",
      "text/plain": [
       "<Figure size 1008x576 with 1 Axes>"
      ]
     },
     "metadata": {
      "needs_background": "light"
     },
     "output_type": "display_data"
    }
   ],
   "source": [
    "fig, ax = plt.subplots(figsize = (14,8))\n",
    "new_df.count().sort_values().plot(kind='barh', color='orange', alpha=0.7)\n",
    "plt.title('Total Count of Topics Mentioned in Reviews', fontsize=16)\n",
    "plt"
   ]
  },
  {
   "cell_type": "code",
   "execution_count": 41,
   "metadata": {
    "ExecuteTime": {
     "end_time": "2019-07-29T22:38:17.045294Z",
     "start_time": "2019-07-29T22:38:16.738163Z"
    },
    "scrolled": false
   },
   "outputs": [
    {
     "data": {
      "text/plain": [
       "Text(0.5, 0, 'Count of Negative and Positive Comments')"
      ]
     },
     "execution_count": 41,
     "metadata": {},
     "output_type": "execute_result"
    },
    {
     "data": {
      "image/png": "[encoded data removed]",
      "text/plain": [
       "<Figure size 1008x576 with 1 Axes>"
      ]
     },
     "metadata": {
      "needs_background": "light"
     },
     "output_type": "display_data"
    }
   ],
   "source": [
    "fig, ax = plt.subplots(figsize = (14,8))\n",
    "new_df.sum().sort_values().plot(kind='barh', color='orange', alpha=0.7)\n",
    "plt.title('Feature Sentiment from Charge3 Amazon Reviews', fontsize=16)\n",
    "plt.xlabel('Count of Negative and Positive Comments', fontsize=12)"
   ]
  },
  {
   "cell_type": "code",
   "execution_count": 42,
   "metadata": {
    "ExecuteTime": {
     "end_time": "2019-07-29T22:38:17.771839Z",
     "start_time": "2019-07-29T22:38:17.049417Z"
    },
    "scrolled": false
   },
   "outputs": [
    {
     "data": {
      "image/png": "[encoded data removed]",
      "text/plain": [
       "<Figure size 1440x432 with 2 Axes>"
      ]
     },
     "metadata": {},
     "output_type": "display_data"
    }
   ],
   "source": [
    "sns.set(font_scale=1.05)\n",
    "fig, ax = plt.subplots(figsize = (20,6))\n",
    "sns.heatmap(df_concat.groupby('stars').sum().iloc[:, 2:], vmin=-120, vmax=120,\n",
    "            annot=True, linewidths=0.3, cmap='YlGnBu', \n",
    "            cbar_kws={'label': '<--- negative sentiment --- positive sentiment --->'})\n",
    "ax.invert_yaxis()\n",
    "plt.title('Net Sentiment Score of Topic by Start Rating', fontsize=16)\n",
    "plt.xlabel('Topic', fontsize=14)\n",
    "plt.ylabel('Amazon Star Rating', fontsize=14)\n",
    "fig.savefig('Net_Sentiment_Scores.png')"
   ]
  },
  {
   "cell_type": "code",
   "execution_count": null,
   "metadata": {},
   "outputs": [],
   "source": []
  },
  {
   "cell_type": "code",
   "execution_count": null,
   "metadata": {},
   "outputs": [],
   "source": []
  },
  {
   "cell_type": "code",
   "execution_count": null,
   "metadata": {},
   "outputs": [],
   "source": []
  },
  {
   "cell_type": "code",
   "execution_count": null,
   "metadata": {},
   "outputs": [],
   "source": []
  },
  {
   "cell_type": "markdown",
   "metadata": {},
   "source": [
    "## Phrase count in new DataFrame (TextBlob only)"
   ]
  },
  {
   "cell_type": "code",
   "execution_count": null,
   "metadata": {
    "ExecuteTime": {
     "end_time": "2019-07-24T04:20:01.240660Z",
     "start_time": "2019-07-24T04:20:01.195744Z"
    }
   },
   "outputs": [],
   "source": [
    "#create a dataframe with our phrases as columns, to keep count of sentiment\n",
    "phrase_df = pd.DataFrame(columns=terms)"
   ]
  },
  {
   "cell_type": "code",
   "execution_count": null,
   "metadata": {},
   "outputs": [],
   "source": []
  },
  {
   "cell_type": "code",
   "execution_count": null,
   "metadata": {
    "ExecuteTime": {
     "end_time": "2019-07-23T23:20:07.444290Z",
     "start_time": "2019-07-23T23:20:07.425327Z"
    }
   },
   "outputs": [],
   "source": [
    "#need SpaCy lg dictionary and TextBlob\n",
    "\n",
    "def review_sent(review):\n",
    "    '''\n",
    "    for a given review, returns dictionary of matched phrases : sentiment\n",
    "    '''\n",
    "    sent_dict = {}\n",
    "    count_df = pd.DataFrame(columns=['phrase','sentiment'])\n",
    "    #create textblob object\n",
    "    rev = TextBlob(review)\n",
    "    \n",
    "    for sentence in rev.sentences:\n",
    "        matched_phrases = phrase_matcher(nlp(str(sentence)))\n",
    "        phrases = ', '.join(matched_phrases)\n",
    "    \n",
    "        if sentence.sentiment[0] > 0.1:\n",
    "            sentence_sentiment = 1\n",
    "        elif sentence.sentiment[0] == 0 and sentence.sentiment[0] <= 0.1:\n",
    "            sentence_sentiment = 0\n",
    "        else:\n",
    "            sentence_sentiment = -1\n",
    "        \n",
    "        #check if more than one phrase found by phrase matcher\n",
    "        if len(matched_phrases) > 1:\n",
    "            #add each phrase of the given sentence to the dataframe\n",
    "            for item in matched_phrases:\n",
    "                count_df.loc[-1] = [item, sentence_sentiment]   \n",
    "                count_df.index = count_df.index + 1\n",
    "                count_df = count_df.sort_index()\n",
    "        else:    \n",
    "            count_df.loc[-1] = [phrases, sentence_sentiment]   \n",
    "            count_df.index = count_df.index + 1\n",
    "            count_df = count_df.sort_index()\n",
    "          \n",
    "    grouped_df = count_df.groupby('phrase').sum()\n",
    "    grouped_dict = grouped_df.to_dict()\n",
    "    sentimen_dict = grouped_dict['sentiment']\n",
    "    return sentimen_dict"
   ]
  },
  {
   "cell_type": "code",
   "execution_count": null,
   "metadata": {
    "ExecuteTime": {
     "end_time": "2019-07-23T23:23:28.788193Z",
     "start_time": "2019-07-23T23:20:07.447778Z"
    }
   },
   "outputs": [],
   "source": [
    "df['sentiment'] = df.review.apply(lambda x: review_sent(x))"
   ]
  },
  {
   "cell_type": "code",
   "execution_count": null,
   "metadata": {
    "ExecuteTime": {
     "end_time": "2019-07-23T23:23:28.811575Z",
     "start_time": "2019-07-23T23:23:28.789746Z"
    }
   },
   "outputs": [],
   "source": [
    "df_concat = pd.concat([df, phrase_df], axis=1)"
   ]
  },
  {
   "cell_type": "code",
   "execution_count": null,
   "metadata": {
    "ExecuteTime": {
     "end_time": "2019-07-23T23:23:29.993798Z",
     "start_time": "2019-07-23T23:23:28.813839Z"
    }
   },
   "outputs": [],
   "source": [
    "for i in phrase_df.columns:\n",
    "    df_concat[i] = df_concat.apply(lambda x: x.sentiment.get(i), axis=1)"
   ]
  },
  {
   "cell_type": "code",
   "execution_count": null,
   "metadata": {
    "ExecuteTime": {
     "end_time": "2019-07-23T23:23:29.999448Z",
     "start_time": "2019-07-23T23:23:29.995426Z"
    }
   },
   "outputs": [],
   "source": [
    "new_df = df_concat.iloc[:, 12:]"
   ]
  },
  {
   "cell_type": "code",
   "execution_count": null,
   "metadata": {
    "ExecuteTime": {
     "end_time": "2019-07-23T23:23:30.018082Z",
     "start_time": "2019-07-23T23:23:30.001406Z"
    }
   },
   "outputs": [],
   "source": [
    "new_df.head()"
   ]
  },
  {
   "cell_type": "code",
   "execution_count": null,
   "metadata": {
    "ExecuteTime": {
     "end_time": "2019-07-23T23:23:30.303327Z",
     "start_time": "2019-07-23T23:23:30.021617Z"
    }
   },
   "outputs": [],
   "source": [
    "fig, ax = plt.subplots(figsize = (14,8))\n",
    "new_df.count().sort_values().plot(kind='barh', color='orange', alpha=0.7)\n"
   ]
  },
  {
   "cell_type": "code",
   "execution_count": null,
   "metadata": {
    "ExecuteTime": {
     "end_time": "2019-07-23T23:23:30.571469Z",
     "start_time": "2019-07-23T23:23:30.304996Z"
    },
    "scrolled": true
   },
   "outputs": [],
   "source": [
    "fig, ax = plt.subplots(figsize = (14,8))\n",
    "new_df.sum().sort_values().plot(kind='barh', color='orange', alpha=0.7)\n",
    "plt.title('Feature Sentiment from Charge3 Amazon Reviews', fontsize=16)\n",
    "plt.xlabel('Count of Negative and Positive Comments', fontsize=12)"
   ]
  },
  {
   "cell_type": "markdown",
   "metadata": {},
   "source": [
    "## Phrase count in new DataFrame (AFFIN only)"
   ]
  },
  {
   "cell_type": "code",
   "execution_count": null,
   "metadata": {
    "ExecuteTime": {
     "end_time": "2019-07-23T23:23:30.596117Z",
     "start_time": "2019-07-23T23:23:30.574041Z"
    }
   },
   "outputs": [],
   "source": [
    "from afinn import Afinn\n",
    "af = Afinn()"
   ]
  },
  {
   "cell_type": "code",
   "execution_count": null,
   "metadata": {
    "ExecuteTime": {
     "end_time": "2019-07-23T23:23:30.608150Z",
     "start_time": "2019-07-23T23:23:30.597547Z"
    }
   },
   "outputs": [],
   "source": [
    "#need SpaCy lg dictionary and AFFIN\n",
    "\n",
    "def review_sent(review):\n",
    "    '''\n",
    "    for a given review, returns dictionary of matched phrases : sentiment\n",
    "    '''\n",
    "    sent_dict = {}\n",
    "    count_df = pd.DataFrame(columns=['phrase','sentiment'])\n",
    "    #create textblob object\n",
    "    rev = TextBlob(review)\n",
    "    \n",
    "    for sentence in rev.sentences:\n",
    "        matched_phrases = phrase_matcher(nlp(str(sentence)))\n",
    "        phrases = ', '.join(matched_phrases)\n",
    "    \n",
    "        if af.score(str(sentence)) > 1:\n",
    "            sentence_sentiment = 1\n",
    "        elif af.score(str(sentence)) == 0 and af.score(str(sentence)) <= 1:\n",
    "            sentence_sentiment = 0\n",
    "        else:\n",
    "            sentence_sentiment = -1\n",
    "        \n",
    "        #check if more than one phrase found by phrase matcher\n",
    "        if len(matched_phrases) > 1:\n",
    "            #add each phrase of the given sentence to the dataframe\n",
    "            for item in matched_phrases:\n",
    "                count_df.loc[-1] = [item, sentence_sentiment]   \n",
    "                count_df.index = count_df.index + 1\n",
    "                count_df = count_df.sort_index()\n",
    "        else:    \n",
    "            count_df.loc[-1] = [phrases, sentence_sentiment]   \n",
    "            count_df.index = count_df.index + 1\n",
    "            count_df = count_df.sort_index()\n",
    "          \n",
    "    grouped_df = count_df.groupby('phrase').sum()\n",
    "    grouped_dict = grouped_df.to_dict()\n",
    "    sentimen_dict = grouped_dict['sentiment']\n",
    "    return sentimen_dict"
   ]
  },
  {
   "cell_type": "code",
   "execution_count": null,
   "metadata": {
    "ExecuteTime": {
     "end_time": "2019-07-23T23:26:46.013522Z",
     "start_time": "2019-07-23T23:23:30.611368Z"
    }
   },
   "outputs": [],
   "source": [
    "df['sentiment'] = df.review.apply(lambda x: review_sent(x))"
   ]
  },
  {
   "cell_type": "code",
   "execution_count": null,
   "metadata": {
    "ExecuteTime": {
     "end_time": "2019-07-23T23:26:46.024934Z",
     "start_time": "2019-07-23T23:26:46.016946Z"
    }
   },
   "outputs": [],
   "source": [
    "df_concat = pd.concat([df, phrase_df], axis=1)"
   ]
  },
  {
   "cell_type": "code",
   "execution_count": null,
   "metadata": {
    "ExecuteTime": {
     "end_time": "2019-07-23T23:26:47.106582Z",
     "start_time": "2019-07-23T23:26:46.027163Z"
    }
   },
   "outputs": [],
   "source": [
    "for i in phrase_df.columns:\n",
    "    df_concat[i] = df_concat.apply(lambda x: x.sentiment.get(i), axis=1)"
   ]
  },
  {
   "cell_type": "code",
   "execution_count": null,
   "metadata": {
    "ExecuteTime": {
     "end_time": "2019-07-23T23:26:47.113510Z",
     "start_time": "2019-07-23T23:26:47.109054Z"
    }
   },
   "outputs": [],
   "source": [
    "new_df_afinn = df_concat.iloc[:, 12:]"
   ]
  },
  {
   "cell_type": "code",
   "execution_count": null,
   "metadata": {
    "ExecuteTime": {
     "end_time": "2019-07-23T23:26:47.129704Z",
     "start_time": "2019-07-23T23:26:47.114770Z"
    }
   },
   "outputs": [],
   "source": [
    "new_df_afinn.head()"
   ]
  },
  {
   "cell_type": "code",
   "execution_count": null,
   "metadata": {
    "ExecuteTime": {
     "end_time": "2019-07-23T23:26:47.330332Z",
     "start_time": "2019-07-23T23:26:47.131825Z"
    }
   },
   "outputs": [],
   "source": [
    "fig, ax = plt.subplots(figsize = (14,8))\n",
    "new_df_afinn.count().sort_values().plot(kind='barh', color='orange', alpha=0.7)"
   ]
  },
  {
   "cell_type": "code",
   "execution_count": null,
   "metadata": {
    "ExecuteTime": {
     "end_time": "2019-07-23T23:26:47.544664Z",
     "start_time": "2019-07-23T23:26:47.332940Z"
    },
    "scrolled": false
   },
   "outputs": [],
   "source": [
    "fig, ax = plt.subplots(figsize = (14,8))\n",
    "new_df_afinn.sum().sort_values().plot(kind='barh', color='orange', alpha=0.7)\n",
    "plt.title('Feature Sentiment from Charge3 Amazon Reviews', fontsize=16)\n",
    "plt.xlabel('Count of Negative and Positive Comments', fontsize=12)"
   ]
  },
  {
   "cell_type": "code",
   "execution_count": null,
   "metadata": {},
   "outputs": [],
   "source": []
  },
  {
   "cell_type": "code",
   "execution_count": null,
   "metadata": {},
   "outputs": [],
   "source": []
  },
  {
   "cell_type": "markdown",
   "metadata": {},
   "source": [
    "## Phrase count in new DataFrame (NLTK only)"
   ]
  },
  {
   "cell_type": "code",
   "execution_count": null,
   "metadata": {
    "ExecuteTime": {
     "end_time": "2019-07-23T23:26:47.553299Z",
     "start_time": "2019-07-23T23:26:47.546747Z"
    }
   },
   "outputs": [],
   "source": [
    "from nltk.sentiment.vader import SentimentIntensityAnalyzer\n",
    "import nltk\n",
    "nltk.download('vader_lexicon')"
   ]
  },
  {
   "cell_type": "code",
   "execution_count": null,
   "metadata": {
    "ExecuteTime": {
     "end_time": "2019-07-23T23:26:47.586800Z",
     "start_time": "2019-07-23T23:26:47.577159Z"
    }
   },
   "outputs": [],
   "source": [
    "#need SpaCy lg dictionary \n",
    "\n",
    "def review_sent(review):\n",
    "    '''\n",
    "    for a given review, returns dictionary of matched phrases : sentiment\n",
    "    '''\n",
    "    sent_dict = {}\n",
    "    count_df = pd.DataFrame(columns=['phrase','sentiment'])\n",
    "    #create textblob object\n",
    "    rev = TextBlob(review)\n",
    "    \n",
    "    for sentence in rev.sentences:\n",
    "        matched_phrases = phrase_matcher(nlp(str(sentence)))\n",
    "        phrases = ', '.join(matched_phrases)\n",
    "    \n",
    "        if sid.polarity_scores(str(sentence)).get('compound') > 0.1:\n",
    "            sentence_sentiment = 1\n",
    "        elif sid.polarity_scores(str(sentence)).get('compound') == 0 \\\n",
    "            and sid.polarity_scores(str(sentence)).get('compound') <= 0.1:\n",
    "            sentence_sentiment = 0\n",
    "        else:\n",
    "            sentence_sentiment = -1\n",
    "        \n",
    "        #check if more than one phrase found by phrase matcher\n",
    "        if len(matched_phrases) > 1:\n",
    "            #add each phrase of the given sentence to the dataframe\n",
    "            for item in matched_phrases:\n",
    "                count_df.loc[-1] = [item, sentence_sentiment]   \n",
    "                count_df.index = count_df.index + 1\n",
    "                count_df = count_df.sort_index()\n",
    "        else:    \n",
    "            count_df.loc[-1] = [phrases, sentence_sentiment]   \n",
    "            count_df.index = count_df.index + 1\n",
    "            count_df = count_df.sort_index()\n",
    "          \n",
    "    grouped_df = count_df.groupby('phrase').sum()\n",
    "    grouped_dict = grouped_df.to_dict()\n",
    "    sentimen_dict = grouped_dict['sentiment']\n",
    "    return sentimen_dict"
   ]
  },
  {
   "cell_type": "code",
   "execution_count": null,
   "metadata": {
    "ExecuteTime": {
     "end_time": "2019-07-23T23:30:00.489219Z",
     "start_time": "2019-07-23T23:26:47.588712Z"
    }
   },
   "outputs": [],
   "source": [
    "df['sentiment'] = df.review.apply(lambda x: review_sent(x))"
   ]
  },
  {
   "cell_type": "code",
   "execution_count": null,
   "metadata": {
    "ExecuteTime": {
     "end_time": "2019-07-23T23:30:00.515960Z",
     "start_time": "2019-07-23T23:30:00.498070Z"
    }
   },
   "outputs": [],
   "source": [
    "df_concat = pd.concat([df, phrase_df], axis=1)"
   ]
  },
  {
   "cell_type": "code",
   "execution_count": null,
   "metadata": {},
   "outputs": [],
   "source": []
  },
  {
   "cell_type": "code",
   "execution_count": null,
   "metadata": {
    "ExecuteTime": {
     "end_time": "2019-07-23T23:30:02.045096Z",
     "start_time": "2019-07-23T23:30:00.518518Z"
    }
   },
   "outputs": [],
   "source": [
    "for i in phrase_df.columns:\n",
    "    df_concat[i] = df_concat.apply(lambda x: x.sentiment.get(i), axis=1)"
   ]
  },
  {
   "cell_type": "code",
   "execution_count": null,
   "metadata": {
    "ExecuteTime": {
     "end_time": "2019-07-23T23:30:02.053847Z",
     "start_time": "2019-07-23T23:30:02.047884Z"
    }
   },
   "outputs": [],
   "source": [
    "new_df_nltk = df_concat.iloc[:, 12:]"
   ]
  },
  {
   "cell_type": "code",
   "execution_count": null,
   "metadata": {
    "ExecuteTime": {
     "end_time": "2019-07-23T23:30:02.076975Z",
     "start_time": "2019-07-23T23:30:02.055969Z"
    }
   },
   "outputs": [],
   "source": [
    "new_df_nltk.head()"
   ]
  },
  {
   "cell_type": "code",
   "execution_count": null,
   "metadata": {
    "ExecuteTime": {
     "end_time": "2019-07-23T23:30:02.319448Z",
     "start_time": "2019-07-23T23:30:02.079789Z"
    }
   },
   "outputs": [],
   "source": [
    "fig, ax = plt.subplots(figsize = (14,8))\n",
    "new_df_nltk.count().sort_values().plot(kind='barh', color='orange', alpha=0.7)"
   ]
  },
  {
   "cell_type": "code",
   "execution_count": null,
   "metadata": {
    "ExecuteTime": {
     "end_time": "2019-07-23T23:30:30.169218Z",
     "start_time": "2019-07-23T23:30:29.969424Z"
    }
   },
   "outputs": [],
   "source": [
    "fig, ax = plt.subplots(figsize = (14,8))\n",
    "new_df_nltk.sum().sort_values().plot(kind='barh', color='orange', alpha=0.7)\n",
    "plt.title('Feature Sentiment from Charge3 Amazon Reviews', fontsize=16)\n",
    "plt.xlabel('Count of Negative and Positive Comments', fontsize=12)"
   ]
  },
  {
   "cell_type": "code",
   "execution_count": null,
   "metadata": {},
   "outputs": [],
   "source": []
  },
  {
   "cell_type": "code",
   "execution_count": null,
   "metadata": {},
   "outputs": [],
   "source": []
  },
  {
   "cell_type": "markdown",
   "metadata": {},
   "source": [
    "# Sentiment Analyis with StanfordCoreNLP"
   ]
  },
  {
   "cell_type": "code",
   "execution_count": 93,
   "metadata": {
    "ExecuteTime": {
     "end_time": "2019-07-25T17:09:43.704196Z",
     "start_time": "2019-07-25T17:09:43.596442Z"
    }
   },
   "outputs": [],
   "source": [
    "from pycorenlp import StanfordCoreNLP\n",
    "stan_nlp = StanfordCoreNLP('http://localhost:9000')"
   ]
  },
  {
   "cell_type": "code",
   "execution_count": 120,
   "metadata": {
    "ExecuteTime": {
     "end_time": "2019-07-25T18:17:50.539140Z",
     "start_time": "2019-07-25T18:17:50.523776Z"
    }
   },
   "outputs": [
    {
     "name": "stdout",
     "output_type": "stream",
     "text": [
      "My wife likes the watches size and the features of the watch.  The sleep tracker breaks down sleep by stages which is great.\n"
     ]
    }
   ],
   "source": [
    "text = df.review[19]\n",
    "print(text)"
   ]
  },
  {
   "cell_type": "code",
   "execution_count": 121,
   "metadata": {
    "ExecuteTime": {
     "end_time": "2019-07-25T18:17:57.953909Z",
     "start_time": "2019-07-25T18:17:56.672513Z"
    }
   },
   "outputs": [],
   "source": [
    "reviews = text\n",
    "result = stan_nlp.annotate(text,\n",
    "                   properties={\n",
    "                       'annotators': 'sentiment, ner, pos',\n",
    "                       'outputFormat': 'json',\n",
    "                       'timeout': 5000,\n",
    "                   })"
   ]
  },
  {
   "cell_type": "code",
   "execution_count": 122,
   "metadata": {
    "ExecuteTime": {
     "end_time": "2019-07-25T18:17:58.737061Z",
     "start_time": "2019-07-25T18:17:58.730021Z"
    }
   },
   "outputs": [
    {
     "name": "stdout",
     "output_type": "stream",
     "text": [
      "0: 'My wife likes the watches size and the features of the watch .': 3 (Sentiment Value) Positive (Sentiment)\n",
      "1: 'The sleep tracker breaks down sleep by stages which is great .': 1 (Sentiment Value) Negative (Sentiment)\n"
     ]
    }
   ],
   "source": [
    "for s in result[\"sentences\"]:\n",
    "    print(\"{}: '{}': {} (Sentiment Value) {} (Sentiment)\".format(\n",
    "        s[\"index\"],\n",
    "        \" \".join([t[\"word\"] for t in s[\"tokens\"]]),\n",
    "        s[\"sentimentValue\"], s[\"sentiment\"]))"
   ]
  },
  {
   "cell_type": "code",
   "execution_count": 123,
   "metadata": {
    "ExecuteTime": {
     "end_time": "2019-07-25T18:19:39.143072Z",
     "start_time": "2019-07-25T18:19:39.054629Z"
    }
   },
   "outputs": [
    {
     "data": {
      "text/plain": [
       "0.6249"
      ]
     },
     "execution_count": 123,
     "metadata": {},
     "output_type": "execute_result"
    }
   ],
   "source": [
    "sid.polarity_scores('The sleep tracker breaks down sleep by stages which is great .').get('compound')"
   ]
  },
  {
   "cell_type": "code",
   "execution_count": null,
   "metadata": {},
   "outputs": [],
   "source": []
  },
  {
   "cell_type": "markdown",
   "metadata": {},
   "source": [
    "# Training Keras Deep Sentiment Model"
   ]
  },
  {
   "cell_type": "code",
   "execution_count": null,
   "metadata": {},
   "outputs": [],
   "source": []
  },
  {
   "cell_type": "code",
   "execution_count": null,
   "metadata": {
    "ExecuteTime": {
     "end_time": "2019-07-20T03:28:14.662565Z",
     "start_time": "2019-07-20T03:27:09.405364Z"
    }
   },
   "outputs": [],
   "source": [
    "df['aspect_category'] = df.review.apply(lambda x: sorted(phrase_matcher(nlp(x))))"
   ]
  },
  {
   "cell_type": "code",
   "execution_count": null,
   "metadata": {
    "ExecuteTime": {
     "end_time": "2019-07-20T03:28:14.863401Z",
     "start_time": "2019-07-20T03:28:14.837392Z"
    }
   },
   "outputs": [],
   "source": [
    "df.head()"
   ]
  },
  {
   "cell_type": "code",
   "execution_count": null,
   "metadata": {},
   "outputs": [],
   "source": []
  },
  {
   "cell_type": "code",
   "execution_count": null,
   "metadata": {},
   "outputs": [],
   "source": []
  },
  {
   "cell_type": "code",
   "execution_count": null,
   "metadata": {
    "ExecuteTime": {
     "end_time": "2019-07-20T03:28:44.487681Z",
     "start_time": "2019-07-20T03:28:44.466926Z"
    }
   },
   "outputs": [],
   "source": [
    "df['aspect_cat_string'] = df.aspect_category.apply(lambda x: ', '.join(x))"
   ]
  },
  {
   "cell_type": "code",
   "execution_count": null,
   "metadata": {
    "ExecuteTime": {
     "end_time": "2019-07-18T18:31:29.046893Z",
     "start_time": "2019-07-18T18:30:46.700795Z"
    }
   },
   "outputs": [],
   "source": [
    "df['review'] = df.review.str.lower()\n",
    "\n",
    "aspect_terms = []\n",
    "for review in nlp.pipe(df.review):\n",
    "    chunks = [(chunk.root.text) for chunk in review.noun_chunks if chunk.root.pos_ == 'NOUN']\n",
    "    aspect_terms.append(' '.join(chunks))\n",
    "df['aspect_terms'] = aspect_terms\n",
    "df.head(5)"
   ]
  },
  {
   "cell_type": "code",
   "execution_count": null,
   "metadata": {},
   "outputs": [],
   "source": []
  },
  {
   "cell_type": "code",
   "execution_count": null,
   "metadata": {
    "ExecuteTime": {
     "end_time": "2019-07-20T03:30:57.748827Z",
     "start_time": "2019-07-20T03:30:57.056415Z"
    }
   },
   "outputs": [],
   "source": [
    "from keras.models import load_model\n",
    "from keras.models import Sequential\n",
    "from keras.layers import Dense, Activation\n",
    "\n",
    "aspect_categories_model = Sequential()\n",
    "aspect_categories_model.add(Dense(512, input_shape=(6000,), activation='relu'))\n",
    "aspect_categories_model.add(Dense(205, activation='softmax'))\n",
    "aspect_categories_model.compile(loss='categorical_crossentropy', optimizer='adam', metrics=['accuracy'])"
   ]
  },
  {
   "cell_type": "code",
   "execution_count": null,
   "metadata": {
    "ExecuteTime": {
     "end_time": "2019-07-20T03:31:00.275965Z",
     "start_time": "2019-07-20T03:30:59.951601Z"
    }
   },
   "outputs": [],
   "source": [
    "from keras.preprocessing.text import Tokenizer\n",
    "\n",
    "vocab_size = 6000 # We set a maximum size for the vocabulary\n",
    "tokenizer = Tokenizer(num_words=vocab_size)\n",
    "tokenizer.fit_on_texts(df.review)\n",
    "aspect_tokenized = pd.DataFrame(tokenizer.texts_to_matrix(df.aspect_terms))"
   ]
  },
  {
   "cell_type": "code",
   "execution_count": null,
   "metadata": {
    "ExecuteTime": {
     "end_time": "2019-07-20T03:31:04.097403Z",
     "start_time": "2019-07-20T03:31:04.076833Z"
    }
   },
   "outputs": [],
   "source": [
    "from sklearn.preprocessing import LabelEncoder\n",
    "from keras.utils import to_categorical\n",
    "\n",
    "label_encoder = LabelEncoder()\n",
    "integer_category = label_encoder.fit_transform(df.aspect_cat_string)\n",
    "dummy_category = to_categorical(integer_category)"
   ]
  },
  {
   "cell_type": "code",
   "execution_count": null,
   "metadata": {
    "ExecuteTime": {
     "end_time": "2019-07-20T03:31:55.145422Z",
     "start_time": "2019-07-20T03:31:08.613225Z"
    },
    "scrolled": true
   },
   "outputs": [],
   "source": [
    "aspect_categories_model.fit(aspect_tokenized, dummy_category, epochs=5, verbose=1)"
   ]
  },
  {
   "cell_type": "code",
   "execution_count": null,
   "metadata": {},
   "outputs": [],
   "source": []
  },
  {
   "cell_type": "code",
   "execution_count": null,
   "metadata": {
    "ExecuteTime": {
     "end_time": "2019-07-20T03:32:00.467117Z",
     "start_time": "2019-07-20T03:32:00.268073Z"
    }
   },
   "outputs": [],
   "source": [
    "new_review = text\n",
    "\n",
    "chunks = [(chunk.root.text) for chunk in nlp(new_review).noun_chunks if chunk.root.pos_ == 'NOUN']\n",
    "new_review_aspect_terms = ' '.join(chunks)\n",
    "new_review_aspect_tokenized = tokenizer.texts_to_matrix([new_review_aspect_terms])\n",
    "\n",
    "new_review_category = label_encoder.inverse_transform(aspect_categories_model.predict_classes(new_review_aspect_tokenized))\n",
    "print(new_review_category)"
   ]
  },
  {
   "cell_type": "code",
   "execution_count": null,
   "metadata": {
    "ExecuteTime": {
     "end_time": "2019-07-20T03:32:52.716109Z",
     "start_time": "2019-07-20T03:32:08.028656Z"
    }
   },
   "outputs": [],
   "source": [
    "sentiment_terms = []\n",
    "for review in nlp.pipe(df['review']):\n",
    "        if review.is_parsed:\n",
    "            sentiment_terms.append(' '.join([token.lemma_ for token in review if (not token.is_stop and not token.is_punct and (token.pos_ == \"ADJ\" or token.pos_ == \"VERB\"))]))\n",
    "        else:\n",
    "            sentiment_terms.append('')  \n",
    "df['sentiment_terms'] = sentiment_terms\n",
    "df.head()"
   ]
  },
  {
   "cell_type": "code",
   "execution_count": null,
   "metadata": {
    "ExecuteTime": {
     "end_time": "2019-07-20T03:32:52.968527Z",
     "start_time": "2019-07-20T03:32:52.903110Z"
    }
   },
   "outputs": [],
   "source": [
    "sentiment_model = Sequential()\n",
    "sentiment_model.add(Dense(512, input_shape=(6000,), activation='relu'))\n",
    "sentiment_model.add(Dense(3, activation='softmax'))\n",
    "sentiment_model.compile(loss='categorical_crossentropy', optimizer='adam', metrics=['accuracy'])"
   ]
  },
  {
   "cell_type": "code",
   "execution_count": null,
   "metadata": {
    "ExecuteTime": {
     "end_time": "2019-07-20T03:32:53.382167Z",
     "start_time": "2019-07-20T03:32:53.188990Z"
    }
   },
   "outputs": [],
   "source": [
    "sentiment_tokenized = pd.DataFrame(tokenizer.texts_to_matrix(df.sentiment_terms))"
   ]
  },
  {
   "cell_type": "code",
   "execution_count": null,
   "metadata": {
    "ExecuteTime": {
     "end_time": "2019-07-20T03:32:58.772096Z",
     "start_time": "2019-07-20T03:32:58.765436Z"
    }
   },
   "outputs": [],
   "source": [
    "def sentiment_return(rating):\n",
    "    sentiment = 'positive'\n",
    "    if rating == 3:\n",
    "        sentiment = 'neutral'\n",
    "    elif rating < 3:\n",
    "        sentiment = 'negative'\n",
    "    return sentiment"
   ]
  },
  {
   "cell_type": "code",
   "execution_count": null,
   "metadata": {
    "ExecuteTime": {
     "end_time": "2019-07-20T03:32:58.950272Z",
     "start_time": "2019-07-20T03:32:58.935593Z"
    }
   },
   "outputs": [],
   "source": [
    "df['sentiment'] = df.stars.apply(lambda x: sentiment_return(x))"
   ]
  },
  {
   "cell_type": "code",
   "execution_count": null,
   "metadata": {
    "ExecuteTime": {
     "end_time": "2019-07-20T03:32:59.124465Z",
     "start_time": "2019-07-20T03:32:59.108809Z"
    }
   },
   "outputs": [],
   "source": [
    "df.head()"
   ]
  },
  {
   "cell_type": "code",
   "execution_count": null,
   "metadata": {
    "ExecuteTime": {
     "end_time": "2019-07-20T03:32:59.288280Z",
     "start_time": "2019-07-20T03:32:59.283528Z"
    }
   },
   "outputs": [],
   "source": [
    "label_encoder_2 = LabelEncoder()\n",
    "integer_sentiment = label_encoder_2.fit_transform(df.sentiment)\n",
    "dummy_sentiment = to_categorical(integer_sentiment)"
   ]
  },
  {
   "cell_type": "code",
   "execution_count": null,
   "metadata": {
    "ExecuteTime": {
     "end_time": "2019-07-20T03:34:34.447084Z",
     "start_time": "2019-07-20T03:33:03.418420Z"
    }
   },
   "outputs": [],
   "source": [
    "sentiment_model.fit(sentiment_tokenized, dummy_sentiment, epochs=10, verbose=1)"
   ]
  },
  {
   "cell_type": "code",
   "execution_count": null,
   "metadata": {
    "ExecuteTime": {
     "end_time": "2019-07-20T03:34:37.081479Z",
     "start_time": "2019-07-20T03:34:36.940862Z"
    }
   },
   "outputs": [],
   "source": [
    "new_review = 'hate everything, and the watch does not work, sync is bad, sreen is dead'\n",
    "\n",
    "chunks = [(chunk.root.text) for chunk in nlp(new_review).noun_chunks if chunk.root.pos_ == 'NOUN']\n",
    "new_review_aspect_terms = ' '.join(chunks)\n",
    "new_review_aspect_tokenized = tokenizer.texts_to_matrix([new_review_aspect_terms])\n",
    "\n",
    "new_review_category = label_encoder_2.inverse_transform(sentiment_model.predict_classes(new_review_aspect_tokenized))\n",
    "print(new_review_category)"
   ]
  },
  {
   "cell_type": "code",
   "execution_count": null,
   "metadata": {},
   "outputs": [],
   "source": []
  },
  {
   "cell_type": "code",
   "execution_count": null,
   "metadata": {},
   "outputs": [],
   "source": []
  },
  {
   "cell_type": "code",
   "execution_count": null,
   "metadata": {
    "ExecuteTime": {
     "end_time": "2019-07-20T03:34:42.446885Z",
     "start_time": "2019-07-20T03:34:42.293881Z"
    }
   },
   "outputs": [],
   "source": [
    "test_reviews = [\n",
    "    \"customer support they tell me to restart the watch. The problem has not been fixed, i'm returing it. Also, the watch does not sync!\",\n",
    "    \"Sreen went blank after 3 days. Fitbit stopped syncing after 2 days\",\n",
    "    \"Customer service just kept telling me to restart the watch, but could not fix my sync problem. I can't return it. awful support.\"\n",
    "]\n",
    "\n",
    "# Aspect preprocessing\n",
    "test_reviews = [review.lower() for review in test_reviews]\n",
    "test_aspect_terms = []\n",
    "for review in nlp.pipe(test_reviews):\n",
    "    chunks = [(chunk.root.text) for chunk in review.noun_chunks if chunk.root.pos_ == 'NOUN']\n",
    "    test_aspect_terms.append(' '.join(chunks))\n",
    "test_aspect_terms = pd.DataFrame(tokenizer.texts_to_matrix(test_aspect_terms))\n",
    "                             \n",
    "# Sentiment preprocessing\n",
    "test_sentiment_terms = []\n",
    "for review in nlp.pipe(test_reviews):\n",
    "        if review.is_parsed:\n",
    "            test_sentiment_terms.append(' '.join([token.lemma_ for token in review if (not token.is_stop and not token.is_punct and (token.pos_ == \"ADJ\" or token.pos_ == \"VERB\"))]))\n",
    "        else:\n",
    "            test_sentiment_terms.append('') \n",
    "test_sentiment_terms = pd.DataFrame(tokenizer.texts_to_matrix(test_sentiment_terms))\n",
    "\n",
    "# Models output\n",
    "test_aspect_categories = label_encoder.inverse_transform(aspect_categories_model.predict_classes(test_aspect_terms))\n",
    "test_sentiment = label_encoder_2.inverse_transform(sentiment_model.predict_classes(test_sentiment_terms))\n",
    "for i in range(3):\n",
    "    print(\"Review \" + str(i+1) + \" is expressing a  \" + test_sentiment[i] + \" opinion about \" + test_aspect_categories[i])"
   ]
  },
  {
   "cell_type": "code",
   "execution_count": null,
   "metadata": {},
   "outputs": [],
   "source": []
  }
 ],
 "metadata": {
  "kernelspec": {
   "display_name": "Python 3",
   "language": "python",
   "name": "python3"
  },
  "language_info": {
   "codemirror_mode": {
    "name": "ipython",
    "version": 3
   },
   "file_extension": ".py",
   "mimetype": "text/x-python",
   "name": "python",
   "nbconvert_exporter": "python",
   "pygments_lexer": "ipython3",
   "version": "3.7.1"
  },
  "toc": {
   "base_numbering": 1,
   "nav_menu": {},
   "number_sections": true,
   "sideBar": true,
   "skip_h1_title": false,
   "title_cell": "Table of Contents",
   "title_sidebar": "Contents",
   "toc_cell": false,
   "toc_position": {},
   "toc_section_display": true,
   "toc_window_display": true
  },
  "varInspector": {
   "cols": {
    "lenName": 16,
    "lenType": 16,
    "lenVar": 40
   },
   "kernels_config": {
    "python": {
     "delete_cmd_postfix": "",
     "delete_cmd_prefix": "del ",
     "library": "var_list.py",
     "varRefreshCmd": "print(var_dic_list())"
    },
    "r": {
     "delete_cmd_postfix": ") ",
     "delete_cmd_prefix": "rm(",
     "library": "var_list.r",
     "varRefreshCmd": "cat(var_dic_list()) "
    }
   },
   "types_to_exclude": [
    "module",
    "function",
    "builtin_function_or_method",
    "instance",
    "_Feature"
   ],
   "window_display": false
  }
 },
 "nbformat": 4,
 "nbformat_minor": 2
}
