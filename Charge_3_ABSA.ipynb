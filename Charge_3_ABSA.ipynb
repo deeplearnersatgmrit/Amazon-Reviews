{
 "cells": [
  {
   "cell_type": "code",
   "execution_count": 1,
   "metadata": {
    "ExecuteTime": {
     "end_time": "2019-07-18T16:36:20.349050Z",
     "start_time": "2019-07-18T16:36:16.099165Z"
    }
   },
   "outputs": [],
   "source": [
    "import numpy as np\n",
    "import pandas as pd\n",
    "import matplotlib.pyplot as plt\n",
    "import seaborn as sns\n",
    "sns.set_style(style='whitegrid')"
   ]
  },
  {
   "cell_type": "markdown",
   "metadata": {},
   "source": [
    "# Importing Data"
   ]
  },
  {
   "cell_type": "code",
   "execution_count": 2,
   "metadata": {
    "ExecuteTime": {
     "end_time": "2019-07-18T16:37:21.377462Z",
     "start_time": "2019-07-18T16:37:20.847931Z"
    }
   },
   "outputs": [],
   "source": [
    "df = pd.read_csv('charge3.csv', parse_dates =['date'])"
   ]
  },
  {
   "cell_type": "code",
   "execution_count": 3,
   "metadata": {
    "ExecuteTime": {
     "end_time": "2019-07-18T16:37:21.828208Z",
     "start_time": "2019-07-18T16:37:21.759281Z"
    }
   },
   "outputs": [
    {
     "data": {
      "text/html": [
       "<div>\n",
       "<style scoped>\n",
       "    .dataframe tbody tr th:only-of-type {\n",
       "        vertical-align: middle;\n",
       "    }\n",
       "\n",
       "    .dataframe tbody tr th {\n",
       "        vertical-align: top;\n",
       "    }\n",
       "\n",
       "    .dataframe thead th {\n",
       "        text-align: right;\n",
       "    }\n",
       "</style>\n",
       "<table border=\"1\" class=\"dataframe\">\n",
       "  <thead>\n",
       "    <tr style=\"text-align: right;\">\n",
       "      <th></th>\n",
       "      <th>web-scraper-order</th>\n",
       "      <th>web-scraper-start-url</th>\n",
       "      <th>review_link</th>\n",
       "      <th>review_link-href</th>\n",
       "      <th>name</th>\n",
       "      <th>date</th>\n",
       "      <th>stars</th>\n",
       "      <th>stars-href</th>\n",
       "      <th>verified</th>\n",
       "      <th>product</th>\n",
       "      <th>review</th>\n",
       "    </tr>\n",
       "  </thead>\n",
       "  <tbody>\n",
       "    <tr>\n",
       "      <th>0</th>\n",
       "      <td>1561419967-3818</td>\n",
       "      <td>https://www.amazon.com/Fitbit-Fitness-Activity...</td>\n",
       "      <td>Buy Something Else</td>\n",
       "      <td>https://www.amazon.com/gp/customer-reviews/R2N...</td>\n",
       "      <td>Ivan Hysell</td>\n",
       "      <td>2019-04-06</td>\n",
       "      <td>1.0 out of 5 stars</td>\n",
       "      <td>https://www.amazon.com/gp/customer-reviews/R2N...</td>\n",
       "      <td>Verified Purchase</td>\n",
       "      <td>Color: Graphite/BlackEdition: Charge 3 Activit...</td>\n",
       "      <td>Not reliable. This is my second attempt at thi...</td>\n",
       "    </tr>\n",
       "    <tr>\n",
       "      <th>1</th>\n",
       "      <td>1561421400-4151</td>\n",
       "      <td>https://www.amazon.com/Fitbit-Fitness-Activity...</td>\n",
       "      <td>inacurate heartrate and tracking</td>\n",
       "      <td>https://www.amazon.com/gp/customer-reviews/R2E...</td>\n",
       "      <td>Emily P.</td>\n",
       "      <td>2019-04-24</td>\n",
       "      <td>1.0 out of 5 stars</td>\n",
       "      <td>https://www.amazon.com/gp/customer-reviews/R2E...</td>\n",
       "      <td>Verified Purchase</td>\n",
       "      <td>Color: Graphite/BlackEdition: Charge 3 Activit...</td>\n",
       "      <td>The heart rate tracker is mostly why I bought ...</td>\n",
       "    </tr>\n",
       "    <tr>\n",
       "      <th>2</th>\n",
       "      <td>1561416358-2690</td>\n",
       "      <td>https://www.amazon.com/Fitbit-Fitness-Activity...</td>\n",
       "      <td>Amazing Quick Shipping to Canada</td>\n",
       "      <td>https://www.amazon.com/gp/customer-reviews/R3D...</td>\n",
       "      <td>Amazon Customer</td>\n",
       "      <td>2018-12-14</td>\n",
       "      <td>5.0 out of 5 stars</td>\n",
       "      <td>https://www.amazon.com/gp/customer-reviews/R3D...</td>\n",
       "      <td>Verified Purchase</td>\n",
       "      <td>Color: Rose Gold/Blue GreyEdition: Charge 3 Ac...</td>\n",
       "      <td>Great Service and Product</td>\n",
       "    </tr>\n",
       "    <tr>\n",
       "      <th>3</th>\n",
       "      <td>1561420798-4056</td>\n",
       "      <td>https://www.amazon.com/Fitbit-Fitness-Activity...</td>\n",
       "      <td>Great product... if it worked.</td>\n",
       "      <td>https://www.amazon.com/gp/customer-reviews/R2H...</td>\n",
       "      <td>Jerome</td>\n",
       "      <td>2019-04-24</td>\n",
       "      <td>1.0 out of 5 stars</td>\n",
       "      <td>https://www.amazon.com/gp/customer-reviews/R2H...</td>\n",
       "      <td>Verified Purchase</td>\n",
       "      <td>Color: Graphite/BlackEdition: Charge 3 Activit...</td>\n",
       "      <td>Only a few months into owning this product aft...</td>\n",
       "    </tr>\n",
       "    <tr>\n",
       "      <th>4</th>\n",
       "      <td>1561419495-3610</td>\n",
       "      <td>https://www.amazon.com/Fitbit-Fitness-Activity...</td>\n",
       "      <td>Don’t buy</td>\n",
       "      <td>https://www.amazon.com/gp/customer-reviews/RAG...</td>\n",
       "      <td>bwr</td>\n",
       "      <td>2018-12-06</td>\n",
       "      <td>1.0 out of 5 stars</td>\n",
       "      <td>https://www.amazon.com/gp/customer-reviews/RAG...</td>\n",
       "      <td>Verified Purchase</td>\n",
       "      <td>Color: Graphite/BlackEdition: Charge 3 Activit...</td>\n",
       "      <td>Worked great for about two months, then stoppe...</td>\n",
       "    </tr>\n",
       "  </tbody>\n",
       "</table>\n",
       "</div>"
      ],
      "text/plain": [
       "  web-scraper-order                              web-scraper-start-url  \\\n",
       "0   1561419967-3818  https://www.amazon.com/Fitbit-Fitness-Activity...   \n",
       "1   1561421400-4151  https://www.amazon.com/Fitbit-Fitness-Activity...   \n",
       "2   1561416358-2690  https://www.amazon.com/Fitbit-Fitness-Activity...   \n",
       "3   1561420798-4056  https://www.amazon.com/Fitbit-Fitness-Activity...   \n",
       "4   1561419495-3610  https://www.amazon.com/Fitbit-Fitness-Activity...   \n",
       "\n",
       "                        review_link  \\\n",
       "0                Buy Something Else   \n",
       "1  inacurate heartrate and tracking   \n",
       "2  Amazing Quick Shipping to Canada   \n",
       "3    Great product... if it worked.   \n",
       "4                         Don’t buy   \n",
       "\n",
       "                                    review_link-href             name  \\\n",
       "0  https://www.amazon.com/gp/customer-reviews/R2N...      Ivan Hysell   \n",
       "1  https://www.amazon.com/gp/customer-reviews/R2E...         Emily P.   \n",
       "2  https://www.amazon.com/gp/customer-reviews/R3D...  Amazon Customer   \n",
       "3  https://www.amazon.com/gp/customer-reviews/R2H...           Jerome   \n",
       "4  https://www.amazon.com/gp/customer-reviews/RAG...              bwr   \n",
       "\n",
       "        date               stars  \\\n",
       "0 2019-04-06  1.0 out of 5 stars   \n",
       "1 2019-04-24  1.0 out of 5 stars   \n",
       "2 2018-12-14  5.0 out of 5 stars   \n",
       "3 2019-04-24  1.0 out of 5 stars   \n",
       "4 2018-12-06  1.0 out of 5 stars   \n",
       "\n",
       "                                          stars-href           verified  \\\n",
       "0  https://www.amazon.com/gp/customer-reviews/R2N...  Verified Purchase   \n",
       "1  https://www.amazon.com/gp/customer-reviews/R2E...  Verified Purchase   \n",
       "2  https://www.amazon.com/gp/customer-reviews/R3D...  Verified Purchase   \n",
       "3  https://www.amazon.com/gp/customer-reviews/R2H...  Verified Purchase   \n",
       "4  https://www.amazon.com/gp/customer-reviews/RAG...  Verified Purchase   \n",
       "\n",
       "                                             product  \\\n",
       "0  Color: Graphite/BlackEdition: Charge 3 Activit...   \n",
       "1  Color: Graphite/BlackEdition: Charge 3 Activit...   \n",
       "2  Color: Rose Gold/Blue GreyEdition: Charge 3 Ac...   \n",
       "3  Color: Graphite/BlackEdition: Charge 3 Activit...   \n",
       "4  Color: Graphite/BlackEdition: Charge 3 Activit...   \n",
       "\n",
       "                                              review  \n",
       "0  Not reliable. This is my second attempt at thi...  \n",
       "1  The heart rate tracker is mostly why I bought ...  \n",
       "2                          Great Service and Product  \n",
       "3  Only a few months into owning this product aft...  \n",
       "4  Worked great for about two months, then stoppe...  "
      ]
     },
     "execution_count": 3,
     "metadata": {},
     "output_type": "execute_result"
    }
   ],
   "source": [
    "df.head()"
   ]
  },
  {
   "cell_type": "code",
   "execution_count": 4,
   "metadata": {
    "ExecuteTime": {
     "end_time": "2019-07-18T16:37:30.517319Z",
     "start_time": "2019-07-18T16:37:30.511361Z"
    }
   },
   "outputs": [],
   "source": [
    "df = df.drop(columns=['web-scraper-order','web-scraper-start-url'])"
   ]
  },
  {
   "cell_type": "code",
   "execution_count": 5,
   "metadata": {
    "ExecuteTime": {
     "end_time": "2019-07-18T16:37:33.545545Z",
     "start_time": "2019-07-18T16:37:33.535183Z"
    }
   },
   "outputs": [],
   "source": [
    "df['stars'] = df.stars.apply(lambda x: x.split(' ')[0])"
   ]
  },
  {
   "cell_type": "code",
   "execution_count": 6,
   "metadata": {
    "ExecuteTime": {
     "end_time": "2019-07-18T16:37:36.400278Z",
     "start_time": "2019-07-18T16:37:36.385864Z"
    }
   },
   "outputs": [
    {
     "data": {
      "text/html": [
       "<div>\n",
       "<style scoped>\n",
       "    .dataframe tbody tr th:only-of-type {\n",
       "        vertical-align: middle;\n",
       "    }\n",
       "\n",
       "    .dataframe tbody tr th {\n",
       "        vertical-align: top;\n",
       "    }\n",
       "\n",
       "    .dataframe thead th {\n",
       "        text-align: right;\n",
       "    }\n",
       "</style>\n",
       "<table border=\"1\" class=\"dataframe\">\n",
       "  <thead>\n",
       "    <tr style=\"text-align: right;\">\n",
       "      <th></th>\n",
       "      <th>review_link</th>\n",
       "      <th>review_link-href</th>\n",
       "      <th>name</th>\n",
       "      <th>date</th>\n",
       "      <th>stars</th>\n",
       "      <th>stars-href</th>\n",
       "      <th>verified</th>\n",
       "      <th>product</th>\n",
       "      <th>review</th>\n",
       "    </tr>\n",
       "  </thead>\n",
       "  <tbody>\n",
       "    <tr>\n",
       "      <th>0</th>\n",
       "      <td>Buy Something Else</td>\n",
       "      <td>https://www.amazon.com/gp/customer-reviews/R2N...</td>\n",
       "      <td>Ivan Hysell</td>\n",
       "      <td>2019-04-06</td>\n",
       "      <td>1.0</td>\n",
       "      <td>https://www.amazon.com/gp/customer-reviews/R2N...</td>\n",
       "      <td>Verified Purchase</td>\n",
       "      <td>Color: Graphite/BlackEdition: Charge 3 Activit...</td>\n",
       "      <td>Not reliable. This is my second attempt at thi...</td>\n",
       "    </tr>\n",
       "    <tr>\n",
       "      <th>1</th>\n",
       "      <td>inacurate heartrate and tracking</td>\n",
       "      <td>https://www.amazon.com/gp/customer-reviews/R2E...</td>\n",
       "      <td>Emily P.</td>\n",
       "      <td>2019-04-24</td>\n",
       "      <td>1.0</td>\n",
       "      <td>https://www.amazon.com/gp/customer-reviews/R2E...</td>\n",
       "      <td>Verified Purchase</td>\n",
       "      <td>Color: Graphite/BlackEdition: Charge 3 Activit...</td>\n",
       "      <td>The heart rate tracker is mostly why I bought ...</td>\n",
       "    </tr>\n",
       "    <tr>\n",
       "      <th>2</th>\n",
       "      <td>Amazing Quick Shipping to Canada</td>\n",
       "      <td>https://www.amazon.com/gp/customer-reviews/R3D...</td>\n",
       "      <td>Amazon Customer</td>\n",
       "      <td>2018-12-14</td>\n",
       "      <td>5.0</td>\n",
       "      <td>https://www.amazon.com/gp/customer-reviews/R3D...</td>\n",
       "      <td>Verified Purchase</td>\n",
       "      <td>Color: Rose Gold/Blue GreyEdition: Charge 3 Ac...</td>\n",
       "      <td>Great Service and Product</td>\n",
       "    </tr>\n",
       "    <tr>\n",
       "      <th>3</th>\n",
       "      <td>Great product... if it worked.</td>\n",
       "      <td>https://www.amazon.com/gp/customer-reviews/R2H...</td>\n",
       "      <td>Jerome</td>\n",
       "      <td>2019-04-24</td>\n",
       "      <td>1.0</td>\n",
       "      <td>https://www.amazon.com/gp/customer-reviews/R2H...</td>\n",
       "      <td>Verified Purchase</td>\n",
       "      <td>Color: Graphite/BlackEdition: Charge 3 Activit...</td>\n",
       "      <td>Only a few months into owning this product aft...</td>\n",
       "    </tr>\n",
       "    <tr>\n",
       "      <th>4</th>\n",
       "      <td>Don’t buy</td>\n",
       "      <td>https://www.amazon.com/gp/customer-reviews/RAG...</td>\n",
       "      <td>bwr</td>\n",
       "      <td>2018-12-06</td>\n",
       "      <td>1.0</td>\n",
       "      <td>https://www.amazon.com/gp/customer-reviews/RAG...</td>\n",
       "      <td>Verified Purchase</td>\n",
       "      <td>Color: Graphite/BlackEdition: Charge 3 Activit...</td>\n",
       "      <td>Worked great for about two months, then stoppe...</td>\n",
       "    </tr>\n",
       "  </tbody>\n",
       "</table>\n",
       "</div>"
      ],
      "text/plain": [
       "                        review_link  \\\n",
       "0                Buy Something Else   \n",
       "1  inacurate heartrate and tracking   \n",
       "2  Amazing Quick Shipping to Canada   \n",
       "3    Great product... if it worked.   \n",
       "4                         Don’t buy   \n",
       "\n",
       "                                    review_link-href             name  \\\n",
       "0  https://www.amazon.com/gp/customer-reviews/R2N...      Ivan Hysell   \n",
       "1  https://www.amazon.com/gp/customer-reviews/R2E...         Emily P.   \n",
       "2  https://www.amazon.com/gp/customer-reviews/R3D...  Amazon Customer   \n",
       "3  https://www.amazon.com/gp/customer-reviews/R2H...           Jerome   \n",
       "4  https://www.amazon.com/gp/customer-reviews/RAG...              bwr   \n",
       "\n",
       "        date stars                                         stars-href  \\\n",
       "0 2019-04-06   1.0  https://www.amazon.com/gp/customer-reviews/R2N...   \n",
       "1 2019-04-24   1.0  https://www.amazon.com/gp/customer-reviews/R2E...   \n",
       "2 2018-12-14   5.0  https://www.amazon.com/gp/customer-reviews/R3D...   \n",
       "3 2019-04-24   1.0  https://www.amazon.com/gp/customer-reviews/R2H...   \n",
       "4 2018-12-06   1.0  https://www.amazon.com/gp/customer-reviews/RAG...   \n",
       "\n",
       "            verified                                            product  \\\n",
       "0  Verified Purchase  Color: Graphite/BlackEdition: Charge 3 Activit...   \n",
       "1  Verified Purchase  Color: Graphite/BlackEdition: Charge 3 Activit...   \n",
       "2  Verified Purchase  Color: Rose Gold/Blue GreyEdition: Charge 3 Ac...   \n",
       "3  Verified Purchase  Color: Graphite/BlackEdition: Charge 3 Activit...   \n",
       "4  Verified Purchase  Color: Graphite/BlackEdition: Charge 3 Activit...   \n",
       "\n",
       "                                              review  \n",
       "0  Not reliable. This is my second attempt at thi...  \n",
       "1  The heart rate tracker is mostly why I bought ...  \n",
       "2                          Great Service and Product  \n",
       "3  Only a few months into owning this product aft...  \n",
       "4  Worked great for about two months, then stoppe...  "
      ]
     },
     "execution_count": 6,
     "metadata": {},
     "output_type": "execute_result"
    }
   ],
   "source": [
    "df.head()"
   ]
  },
  {
   "cell_type": "code",
   "execution_count": 7,
   "metadata": {
    "ExecuteTime": {
     "end_time": "2019-07-18T16:37:43.304707Z",
     "start_time": "2019-07-18T16:37:43.294265Z"
    }
   },
   "outputs": [],
   "source": [
    "df['length'] = df.review.apply(lambda x: len(x))"
   ]
  },
  {
   "cell_type": "code",
   "execution_count": 8,
   "metadata": {
    "ExecuteTime": {
     "end_time": "2019-07-18T16:37:43.723923Z",
     "start_time": "2019-07-18T16:37:43.682628Z"
    }
   },
   "outputs": [],
   "source": [
    "df['year'] = df.date.apply(lambda x: x.year)"
   ]
  },
  {
   "cell_type": "code",
   "execution_count": 9,
   "metadata": {
    "ExecuteTime": {
     "end_time": "2019-07-18T16:37:44.006372Z",
     "start_time": "2019-07-18T16:37:44.000434Z"
    }
   },
   "outputs": [],
   "source": [
    "df['stars'] = pd.to_numeric(df.stars)"
   ]
  },
  {
   "cell_type": "code",
   "execution_count": 10,
   "metadata": {
    "ExecuteTime": {
     "end_time": "2019-07-18T16:37:44.540992Z",
     "start_time": "2019-07-18T16:37:44.513101Z"
    }
   },
   "outputs": [
    {
     "data": {
      "text/html": [
       "<div>\n",
       "<style scoped>\n",
       "    .dataframe tbody tr th:only-of-type {\n",
       "        vertical-align: middle;\n",
       "    }\n",
       "\n",
       "    .dataframe tbody tr th {\n",
       "        vertical-align: top;\n",
       "    }\n",
       "\n",
       "    .dataframe thead th {\n",
       "        text-align: right;\n",
       "    }\n",
       "</style>\n",
       "<table border=\"1\" class=\"dataframe\">\n",
       "  <thead>\n",
       "    <tr style=\"text-align: right;\">\n",
       "      <th></th>\n",
       "      <th>review_link</th>\n",
       "      <th>review_link-href</th>\n",
       "      <th>name</th>\n",
       "      <th>date</th>\n",
       "      <th>stars</th>\n",
       "      <th>stars-href</th>\n",
       "      <th>verified</th>\n",
       "      <th>product</th>\n",
       "      <th>review</th>\n",
       "      <th>length</th>\n",
       "      <th>year</th>\n",
       "    </tr>\n",
       "  </thead>\n",
       "  <tbody>\n",
       "    <tr>\n",
       "      <th>0</th>\n",
       "      <td>Buy Something Else</td>\n",
       "      <td>https://www.amazon.com/gp/customer-reviews/R2N...</td>\n",
       "      <td>Ivan Hysell</td>\n",
       "      <td>2019-04-06</td>\n",
       "      <td>1.0</td>\n",
       "      <td>https://www.amazon.com/gp/customer-reviews/R2N...</td>\n",
       "      <td>Verified Purchase</td>\n",
       "      <td>Color: Graphite/BlackEdition: Charge 3 Activit...</td>\n",
       "      <td>Not reliable. This is my second attempt at thi...</td>\n",
       "      <td>496</td>\n",
       "      <td>2019</td>\n",
       "    </tr>\n",
       "    <tr>\n",
       "      <th>1</th>\n",
       "      <td>inacurate heartrate and tracking</td>\n",
       "      <td>https://www.amazon.com/gp/customer-reviews/R2E...</td>\n",
       "      <td>Emily P.</td>\n",
       "      <td>2019-04-24</td>\n",
       "      <td>1.0</td>\n",
       "      <td>https://www.amazon.com/gp/customer-reviews/R2E...</td>\n",
       "      <td>Verified Purchase</td>\n",
       "      <td>Color: Graphite/BlackEdition: Charge 3 Activit...</td>\n",
       "      <td>The heart rate tracker is mostly why I bought ...</td>\n",
       "      <td>446</td>\n",
       "      <td>2019</td>\n",
       "    </tr>\n",
       "    <tr>\n",
       "      <th>2</th>\n",
       "      <td>Amazing Quick Shipping to Canada</td>\n",
       "      <td>https://www.amazon.com/gp/customer-reviews/R3D...</td>\n",
       "      <td>Amazon Customer</td>\n",
       "      <td>2018-12-14</td>\n",
       "      <td>5.0</td>\n",
       "      <td>https://www.amazon.com/gp/customer-reviews/R3D...</td>\n",
       "      <td>Verified Purchase</td>\n",
       "      <td>Color: Rose Gold/Blue GreyEdition: Charge 3 Ac...</td>\n",
       "      <td>Great Service and Product</td>\n",
       "      <td>25</td>\n",
       "      <td>2018</td>\n",
       "    </tr>\n",
       "    <tr>\n",
       "      <th>3</th>\n",
       "      <td>Great product... if it worked.</td>\n",
       "      <td>https://www.amazon.com/gp/customer-reviews/R2H...</td>\n",
       "      <td>Jerome</td>\n",
       "      <td>2019-04-24</td>\n",
       "      <td>1.0</td>\n",
       "      <td>https://www.amazon.com/gp/customer-reviews/R2H...</td>\n",
       "      <td>Verified Purchase</td>\n",
       "      <td>Color: Graphite/BlackEdition: Charge 3 Activit...</td>\n",
       "      <td>Only a few months into owning this product aft...</td>\n",
       "      <td>673</td>\n",
       "      <td>2019</td>\n",
       "    </tr>\n",
       "    <tr>\n",
       "      <th>4</th>\n",
       "      <td>Don’t buy</td>\n",
       "      <td>https://www.amazon.com/gp/customer-reviews/RAG...</td>\n",
       "      <td>bwr</td>\n",
       "      <td>2018-12-06</td>\n",
       "      <td>1.0</td>\n",
       "      <td>https://www.amazon.com/gp/customer-reviews/RAG...</td>\n",
       "      <td>Verified Purchase</td>\n",
       "      <td>Color: Graphite/BlackEdition: Charge 3 Activit...</td>\n",
       "      <td>Worked great for about two months, then stoppe...</td>\n",
       "      <td>158</td>\n",
       "      <td>2018</td>\n",
       "    </tr>\n",
       "  </tbody>\n",
       "</table>\n",
       "</div>"
      ],
      "text/plain": [
       "                        review_link  \\\n",
       "0                Buy Something Else   \n",
       "1  inacurate heartrate and tracking   \n",
       "2  Amazing Quick Shipping to Canada   \n",
       "3    Great product... if it worked.   \n",
       "4                         Don’t buy   \n",
       "\n",
       "                                    review_link-href             name  \\\n",
       "0  https://www.amazon.com/gp/customer-reviews/R2N...      Ivan Hysell   \n",
       "1  https://www.amazon.com/gp/customer-reviews/R2E...         Emily P.   \n",
       "2  https://www.amazon.com/gp/customer-reviews/R3D...  Amazon Customer   \n",
       "3  https://www.amazon.com/gp/customer-reviews/R2H...           Jerome   \n",
       "4  https://www.amazon.com/gp/customer-reviews/RAG...              bwr   \n",
       "\n",
       "        date  stars                                         stars-href  \\\n",
       "0 2019-04-06    1.0  https://www.amazon.com/gp/customer-reviews/R2N...   \n",
       "1 2019-04-24    1.0  https://www.amazon.com/gp/customer-reviews/R2E...   \n",
       "2 2018-12-14    5.0  https://www.amazon.com/gp/customer-reviews/R3D...   \n",
       "3 2019-04-24    1.0  https://www.amazon.com/gp/customer-reviews/R2H...   \n",
       "4 2018-12-06    1.0  https://www.amazon.com/gp/customer-reviews/RAG...   \n",
       "\n",
       "            verified                                            product  \\\n",
       "0  Verified Purchase  Color: Graphite/BlackEdition: Charge 3 Activit...   \n",
       "1  Verified Purchase  Color: Graphite/BlackEdition: Charge 3 Activit...   \n",
       "2  Verified Purchase  Color: Rose Gold/Blue GreyEdition: Charge 3 Ac...   \n",
       "3  Verified Purchase  Color: Graphite/BlackEdition: Charge 3 Activit...   \n",
       "4  Verified Purchase  Color: Graphite/BlackEdition: Charge 3 Activit...   \n",
       "\n",
       "                                              review  length  year  \n",
       "0  Not reliable. This is my second attempt at thi...     496  2019  \n",
       "1  The heart rate tracker is mostly why I bought ...     446  2019  \n",
       "2                          Great Service and Product      25  2018  \n",
       "3  Only a few months into owning this product aft...     673  2019  \n",
       "4  Worked great for about two months, then stoppe...     158  2018  "
      ]
     },
     "execution_count": 10,
     "metadata": {},
     "output_type": "execute_result"
    }
   ],
   "source": [
    "df.head()"
   ]
  },
  {
   "cell_type": "code",
   "execution_count": 11,
   "metadata": {
    "ExecuteTime": {
     "end_time": "2019-07-18T16:37:48.235997Z",
     "start_time": "2019-07-18T16:37:47.531140Z"
    }
   },
   "outputs": [
    {
     "data": {
      "text/plain": [
       "(-20, 2000)"
      ]
     },
     "execution_count": 11,
     "metadata": {},
     "output_type": "execute_result"
    },
    {
     "data": {
      "image/png": "[encoded data removed]",
      "text/plain": [
       "<Figure size 1008x576 with 1 Axes>"
      ]
     },
     "metadata": {
      "needs_background": "light"
     },
     "output_type": "display_data"
    }
   ],
   "source": [
    "fig, ax = plt.subplots(figsize = (14,8))\n",
    "sns.boxplot(df.stars, df.length)\n",
    "plt.ylim(-20, 2000)"
   ]
  },
  {
   "cell_type": "code",
   "execution_count": 12,
   "metadata": {
    "ExecuteTime": {
     "end_time": "2019-07-18T16:37:50.523164Z",
     "start_time": "2019-07-18T16:37:50.297159Z"
    }
   },
   "outputs": [
    {
     "data": {
      "text/plain": [
       "<matplotlib.axes._subplots.AxesSubplot at 0x110c46048>"
      ]
     },
     "execution_count": 12,
     "metadata": {},
     "output_type": "execute_result"
    },
    {
     "data": {
      "image/png": "[encoded data removed]",
      "text/plain": [
       "<Figure size 1008x576 with 1 Axes>"
      ]
     },
     "metadata": {
      "needs_background": "light"
     },
     "output_type": "display_data"
    }
   ],
   "source": [
    "fig, ax = plt.subplots(figsize = (14,8))\n",
    "df.groupby(['date'])['stars'].mean().plot(marker='.',linestyle='none')"
   ]
  },
  {
   "cell_type": "code",
   "execution_count": 13,
   "metadata": {
    "ExecuteTime": {
     "end_time": "2019-07-18T16:37:52.076987Z",
     "start_time": "2019-07-18T16:37:51.707898Z"
    },
    "scrolled": false
   },
   "outputs": [
    {
     "data": {
      "text/plain": [
       "[<matplotlib.lines.Line2D at 0x110c46fd0>]"
      ]
     },
     "execution_count": 13,
     "metadata": {},
     "output_type": "execute_result"
    },
    {
     "data": {
      "image/png": "[encoded data removed]",
      "text/plain": [
       "<Figure size 1008x576 with 1 Axes>"
      ]
     },
     "metadata": {
      "needs_background": "light"
     },
     "output_type": "display_data"
    }
   ],
   "source": [
    "fig, ax = plt.subplots(figsize = (14,8))\n",
    "plt.plot(df.date, df.stars, alpha=0.02, marker='.', linestyle='none', markersize=40)"
   ]
  },
  {
   "cell_type": "code",
   "execution_count": 14,
   "metadata": {
    "ExecuteTime": {
     "end_time": "2019-07-18T16:37:52.792450Z",
     "start_time": "2019-07-18T16:37:52.617980Z"
    }
   },
   "outputs": [
    {
     "data": {
      "text/plain": [
       "<matplotlib.axes._subplots.AxesSubplot at 0x1a240d0710>"
      ]
     },
     "execution_count": 14,
     "metadata": {},
     "output_type": "execute_result"
    },
    {
     "data": {
      "image/png": "[encoded data removed]",
      "text/plain": [
       "<Figure size 1008x576 with 1 Axes>"
      ]
     },
     "metadata": {
      "needs_background": "light"
     },
     "output_type": "display_data"
    }
   ],
   "source": [
    "fig, ax = plt.subplots(figsize = (14,8))\n",
    "df.groupby('stars').size().plot(kind='bar', color='orange', alpha=0.7)"
   ]
  },
  {
   "cell_type": "markdown",
   "metadata": {},
   "source": [
    "# NLP"
   ]
  },
  {
   "cell_type": "code",
   "execution_count": 15,
   "metadata": {
    "ExecuteTime": {
     "end_time": "2019-07-18T16:38:01.226149Z",
     "start_time": "2019-07-18T16:37:55.969083Z"
    }
   },
   "outputs": [],
   "source": [
    "import gensim\n",
    "import spacy\n",
    "from nltk import FreqDist\n",
    "from gensim.models import LdaModel, phrases\n",
    "from gensim.models.wrappers import LdaMallet\n",
    "from gensim.corpora import Dictionary\n",
    "import pyLDAvis.gensim\n",
    "\n",
    "import os, re, operator, warnings\n",
    "warnings.filterwarnings('ignore')  # Let's not pay heed to them right now"
   ]
  },
  {
   "cell_type": "markdown",
   "metadata": {},
   "source": [
    "# SpaCy"
   ]
  },
  {
   "cell_type": "code",
   "execution_count": 16,
   "metadata": {
    "ExecuteTime": {
     "end_time": "2019-07-18T16:43:03.338082Z",
     "start_time": "2019-07-18T16:42:53.592009Z"
    }
   },
   "outputs": [],
   "source": [
    "#$ python -m spacy download en_core_web_md (run in shell if not installed)\n",
    "nlp = spacy.load('en_core_web_lg')"
   ]
  },
  {
   "cell_type": "code",
   "execution_count": 42,
   "metadata": {
    "ExecuteTime": {
     "end_time": "2019-07-18T19:57:11.233865Z",
     "start_time": "2019-07-18T19:57:11.226423Z"
    }
   },
   "outputs": [
    {
     "name": "stdout",
     "output_type": "stream",
     "text": [
      "after less that 2 weeks wearing my fitbit, the screen went black.  i could not activate it until i had attached, detached and reattached it multiple times to the charging device.  apparently it failed to track the majority of the day and drained the battery from 96% to 39% during that time.  i called customer support who became focused on the battery life as the main problem - failing to register it was only one of the issues.  after 10 days of email exchanges, i was finally told today that they are aware of other people having this problem, but won't replace it because their tech services is trying to find a solution to the battery life.  apparently their 45-day money back guarantee and 1 year warranty are not actually options for someone with a technical issue.  despite the fact that it will not auto sync with the app, periodically stops working without notice and doesn't record all of my activity, their customer service reps have blamed it on inconsistent internet connection (bc apparently people only walk inside their homes with wifi or maybe everyone else lives in neighborhoods with wifi widely accessible on their sidewalks), using too many of the notification options and poor battery life.  regardless, if it doesn't work within two weeks and i have asked for a replacement but they refuse, i would say find another tracker.\n"
     ]
    }
   ],
   "source": [
    "text = df.review[6]\n",
    "print(text)"
   ]
  },
  {
   "cell_type": "code",
   "execution_count": 18,
   "metadata": {
    "ExecuteTime": {
     "end_time": "2019-07-18T16:43:06.963996Z",
     "start_time": "2019-07-18T16:43:06.847470Z"
    }
   },
   "outputs": [],
   "source": [
    "# Process the text\n",
    "doc = nlp(text)"
   ]
  },
  {
   "cell_type": "code",
   "execution_count": 19,
   "metadata": {
    "ExecuteTime": {
     "end_time": "2019-07-18T16:43:07.901783Z",
     "start_time": "2019-07-18T16:43:07.893368Z"
    }
   },
   "outputs": [],
   "source": [
    "from spacy.matcher import PhraseMatcher"
   ]
  },
  {
   "cell_type": "code",
   "execution_count": null,
   "metadata": {},
   "outputs": [],
   "source": []
  },
  {
   "cell_type": "code",
   "execution_count": 118,
   "metadata": {
    "ExecuteTime": {
     "end_time": "2019-07-17T03:51:17.183857Z",
     "start_time": "2019-07-17T03:51:17.172561Z"
    }
   },
   "outputs": [],
   "source": [
    "def phrase_matcher(review): \n",
    "    matched_list = []\n",
    "    matcher = PhraseMatcher(nlp.vocab)\n",
    "    terms = [u\"heart rate\", u\"sync\", u\"gps\", u\"syncing\", \n",
    "             u\"charging\", u\"charge\", u\"battery\", u\"quality\", u\"screen\", u\"service\",\n",
    "             u\"heart\", u\"sleep\", u\"alarm\", u\"reminder\"]\n",
    "    # Only run nlp.make_review to speed things up\n",
    "    patterns = [nlp.make_doc(text) for text in terms]\n",
    "    matcher.add(\"TerminologyList\", None, *patterns)\n",
    "    matches = matcher(review)\n",
    "    for match_id, start, end in matches:\n",
    "        span = review[start:end]\n",
    "        if review[start-1].pos_ == 'VERB' or review[start-1].pos_ == 'ADJ':     \n",
    "            matched_list.append([span.text, review[start-1].text])       \n",
    "        try:\n",
    "            if review[end].pos_ == 'VERB' or review[end].pos_ == 'ADJ':\n",
    "                matched_list.append([span.text, review[end].text])\n",
    "        except:\n",
    "            matched_list.append([span.text])\n",
    "        else:\n",
    "            matched_list.append([span.text, review[start+1].text])\n",
    "    return matched_list"
   ]
  },
  {
   "cell_type": "code",
   "execution_count": 89,
   "metadata": {
    "ExecuteTime": {
     "end_time": "2019-07-19T03:18:28.086559Z",
     "start_time": "2019-07-19T03:18:28.079987Z"
    }
   },
   "outputs": [],
   "source": [
    "def phrase_matcher(review): \n",
    "    matched_list = []\n",
    "    matcher = PhraseMatcher(nlp.vocab)\n",
    "    terms = [u\"heart rate\", u\"sync\", u\"gps\", u\"syncing\", \n",
    "             u\"charging\", u\"charge\", u\"battery\", u\"quality\", u\"screen\", u\"service\",\n",
    "             u\"heart\", u\"sleep\", u\"alarm\", u\"reminder\"]\n",
    "    # Only run nlp.make_review to speed things up\n",
    "    patterns = [nlp.make_doc(text) for text in terms]\n",
    "    matcher.add(\"TerminologyList\", None, *patterns)\n",
    "    matches = matcher(review)\n",
    "    for match_id, start, end in matches:\n",
    "        span = review[start:end]\n",
    "        matched_list.append(span.text)\n",
    "    return list(set(matched_list))"
   ]
  },
  {
   "cell_type": "code",
   "execution_count": 92,
   "metadata": {
    "ExecuteTime": {
     "end_time": "2019-07-19T03:18:50.335534Z",
     "start_time": "2019-07-19T03:18:50.328932Z"
    }
   },
   "outputs": [],
   "source": [
    "results = phrase_matcher(doc)"
   ]
  },
  {
   "cell_type": "code",
   "execution_count": 94,
   "metadata": {
    "ExecuteTime": {
     "end_time": "2019-07-19T03:18:56.697444Z",
     "start_time": "2019-07-19T03:18:56.689229Z"
    }
   },
   "outputs": [],
   "source": [
    "results.sort()"
   ]
  },
  {
   "cell_type": "code",
   "execution_count": 95,
   "metadata": {
    "ExecuteTime": {
     "end_time": "2019-07-19T03:18:59.559509Z",
     "start_time": "2019-07-19T03:18:59.551707Z"
    }
   },
   "outputs": [
    {
     "data": {
      "text/plain": [
       "['battery', 'charging', 'screen', 'service', 'sync']"
      ]
     },
     "execution_count": 95,
     "metadata": {},
     "output_type": "execute_result"
    }
   ],
   "source": [
    "results"
   ]
  },
  {
   "cell_type": "code",
   "execution_count": 22,
   "metadata": {
    "ExecuteTime": {
     "end_time": "2019-07-18T18:00:18.464355Z",
     "start_time": "2019-07-18T17:59:15.728040Z"
    }
   },
   "outputs": [],
   "source": [
    "df['aspect_category'] = df.review.apply(lambda x: phrase_matcher(nlp(x)))"
   ]
  },
  {
   "cell_type": "code",
   "execution_count": 23,
   "metadata": {
    "ExecuteTime": {
     "end_time": "2019-07-18T18:00:57.079142Z",
     "start_time": "2019-07-18T18:00:57.058303Z"
    }
   },
   "outputs": [
    {
     "data": {
      "text/html": [
       "<div>\n",
       "<style scoped>\n",
       "    .dataframe tbody tr th:only-of-type {\n",
       "        vertical-align: middle;\n",
       "    }\n",
       "\n",
       "    .dataframe tbody tr th {\n",
       "        vertical-align: top;\n",
       "    }\n",
       "\n",
       "    .dataframe thead th {\n",
       "        text-align: right;\n",
       "    }\n",
       "</style>\n",
       "<table border=\"1\" class=\"dataframe\">\n",
       "  <thead>\n",
       "    <tr style=\"text-align: right;\">\n",
       "      <th></th>\n",
       "      <th>review_link</th>\n",
       "      <th>review_link-href</th>\n",
       "      <th>name</th>\n",
       "      <th>date</th>\n",
       "      <th>stars</th>\n",
       "      <th>stars-href</th>\n",
       "      <th>verified</th>\n",
       "      <th>product</th>\n",
       "      <th>review</th>\n",
       "      <th>length</th>\n",
       "      <th>year</th>\n",
       "      <th>aspect_category</th>\n",
       "    </tr>\n",
       "  </thead>\n",
       "  <tbody>\n",
       "    <tr>\n",
       "      <th>0</th>\n",
       "      <td>Buy Something Else</td>\n",
       "      <td>https://www.amazon.com/gp/customer-reviews/R2N...</td>\n",
       "      <td>Ivan Hysell</td>\n",
       "      <td>2019-04-06</td>\n",
       "      <td>1.0</td>\n",
       "      <td>https://www.amazon.com/gp/customer-reviews/R2N...</td>\n",
       "      <td>Verified Purchase</td>\n",
       "      <td>Color: Graphite/BlackEdition: Charge 3 Activit...</td>\n",
       "      <td>Not reliable. This is my second attempt at thi...</td>\n",
       "      <td>496</td>\n",
       "      <td>2019</td>\n",
       "      <td>{screen}</td>\n",
       "    </tr>\n",
       "    <tr>\n",
       "      <th>1</th>\n",
       "      <td>inacurate heartrate and tracking</td>\n",
       "      <td>https://www.amazon.com/gp/customer-reviews/R2E...</td>\n",
       "      <td>Emily P.</td>\n",
       "      <td>2019-04-24</td>\n",
       "      <td>1.0</td>\n",
       "      <td>https://www.amazon.com/gp/customer-reviews/R2E...</td>\n",
       "      <td>Verified Purchase</td>\n",
       "      <td>Color: Graphite/BlackEdition: Charge 3 Activit...</td>\n",
       "      <td>The heart rate tracker is mostly why I bought ...</td>\n",
       "      <td>446</td>\n",
       "      <td>2019</td>\n",
       "      <td>{heart rate, heart}</td>\n",
       "    </tr>\n",
       "    <tr>\n",
       "      <th>2</th>\n",
       "      <td>Amazing Quick Shipping to Canada</td>\n",
       "      <td>https://www.amazon.com/gp/customer-reviews/R3D...</td>\n",
       "      <td>Amazon Customer</td>\n",
       "      <td>2018-12-14</td>\n",
       "      <td>5.0</td>\n",
       "      <td>https://www.amazon.com/gp/customer-reviews/R3D...</td>\n",
       "      <td>Verified Purchase</td>\n",
       "      <td>Color: Rose Gold/Blue GreyEdition: Charge 3 Ac...</td>\n",
       "      <td>Great Service and Product</td>\n",
       "      <td>25</td>\n",
       "      <td>2018</td>\n",
       "      <td>{}</td>\n",
       "    </tr>\n",
       "    <tr>\n",
       "      <th>3</th>\n",
       "      <td>Great product... if it worked.</td>\n",
       "      <td>https://www.amazon.com/gp/customer-reviews/R2H...</td>\n",
       "      <td>Jerome</td>\n",
       "      <td>2019-04-24</td>\n",
       "      <td>1.0</td>\n",
       "      <td>https://www.amazon.com/gp/customer-reviews/R2H...</td>\n",
       "      <td>Verified Purchase</td>\n",
       "      <td>Color: Graphite/BlackEdition: Charge 3 Activit...</td>\n",
       "      <td>Only a few months into owning this product aft...</td>\n",
       "      <td>673</td>\n",
       "      <td>2019</td>\n",
       "      <td>{charging, syncing}</td>\n",
       "    </tr>\n",
       "    <tr>\n",
       "      <th>4</th>\n",
       "      <td>Don’t buy</td>\n",
       "      <td>https://www.amazon.com/gp/customer-reviews/RAG...</td>\n",
       "      <td>bwr</td>\n",
       "      <td>2018-12-06</td>\n",
       "      <td>1.0</td>\n",
       "      <td>https://www.amazon.com/gp/customer-reviews/RAG...</td>\n",
       "      <td>Verified Purchase</td>\n",
       "      <td>Color: Graphite/BlackEdition: Charge 3 Activit...</td>\n",
       "      <td>Worked great for about two months, then stoppe...</td>\n",
       "      <td>158</td>\n",
       "      <td>2018</td>\n",
       "      <td>{charge}</td>\n",
       "    </tr>\n",
       "  </tbody>\n",
       "</table>\n",
       "</div>"
      ],
      "text/plain": [
       "                        review_link  \\\n",
       "0                Buy Something Else   \n",
       "1  inacurate heartrate and tracking   \n",
       "2  Amazing Quick Shipping to Canada   \n",
       "3    Great product... if it worked.   \n",
       "4                         Don’t buy   \n",
       "\n",
       "                                    review_link-href             name  \\\n",
       "0  https://www.amazon.com/gp/customer-reviews/R2N...      Ivan Hysell   \n",
       "1  https://www.amazon.com/gp/customer-reviews/R2E...         Emily P.   \n",
       "2  https://www.amazon.com/gp/customer-reviews/R3D...  Amazon Customer   \n",
       "3  https://www.amazon.com/gp/customer-reviews/R2H...           Jerome   \n",
       "4  https://www.amazon.com/gp/customer-reviews/RAG...              bwr   \n",
       "\n",
       "        date  stars                                         stars-href  \\\n",
       "0 2019-04-06    1.0  https://www.amazon.com/gp/customer-reviews/R2N...   \n",
       "1 2019-04-24    1.0  https://www.amazon.com/gp/customer-reviews/R2E...   \n",
       "2 2018-12-14    5.0  https://www.amazon.com/gp/customer-reviews/R3D...   \n",
       "3 2019-04-24    1.0  https://www.amazon.com/gp/customer-reviews/R2H...   \n",
       "4 2018-12-06    1.0  https://www.amazon.com/gp/customer-reviews/RAG...   \n",
       "\n",
       "            verified                                            product  \\\n",
       "0  Verified Purchase  Color: Graphite/BlackEdition: Charge 3 Activit...   \n",
       "1  Verified Purchase  Color: Graphite/BlackEdition: Charge 3 Activit...   \n",
       "2  Verified Purchase  Color: Rose Gold/Blue GreyEdition: Charge 3 Ac...   \n",
       "3  Verified Purchase  Color: Graphite/BlackEdition: Charge 3 Activit...   \n",
       "4  Verified Purchase  Color: Graphite/BlackEdition: Charge 3 Activit...   \n",
       "\n",
       "                                              review  length  year  \\\n",
       "0  Not reliable. This is my second attempt at thi...     496  2019   \n",
       "1  The heart rate tracker is mostly why I bought ...     446  2019   \n",
       "2                          Great Service and Product      25  2018   \n",
       "3  Only a few months into owning this product aft...     673  2019   \n",
       "4  Worked great for about two months, then stoppe...     158  2018   \n",
       "\n",
       "       aspect_category  \n",
       "0             {screen}  \n",
       "1  {heart rate, heart}  \n",
       "2                   {}  \n",
       "3  {charging, syncing}  \n",
       "4             {charge}  "
      ]
     },
     "execution_count": 23,
     "metadata": {},
     "output_type": "execute_result"
    }
   ],
   "source": [
    "df.head()"
   ]
  },
  {
   "cell_type": "code",
   "execution_count": 24,
   "metadata": {
    "ExecuteTime": {
     "end_time": "2019-07-18T18:31:29.046893Z",
     "start_time": "2019-07-18T18:30:46.700795Z"
    }
   },
   "outputs": [
    {
     "data": {
      "text/html": [
       "<div>\n",
       "<style scoped>\n",
       "    .dataframe tbody tr th:only-of-type {\n",
       "        vertical-align: middle;\n",
       "    }\n",
       "\n",
       "    .dataframe tbody tr th {\n",
       "        vertical-align: top;\n",
       "    }\n",
       "\n",
       "    .dataframe thead th {\n",
       "        text-align: right;\n",
       "    }\n",
       "</style>\n",
       "<table border=\"1\" class=\"dataframe\">\n",
       "  <thead>\n",
       "    <tr style=\"text-align: right;\">\n",
       "      <th></th>\n",
       "      <th>review_link</th>\n",
       "      <th>review_link-href</th>\n",
       "      <th>name</th>\n",
       "      <th>date</th>\n",
       "      <th>stars</th>\n",
       "      <th>stars-href</th>\n",
       "      <th>verified</th>\n",
       "      <th>product</th>\n",
       "      <th>review</th>\n",
       "      <th>length</th>\n",
       "      <th>year</th>\n",
       "      <th>aspect_category</th>\n",
       "      <th>aspect_terms</th>\n",
       "    </tr>\n",
       "  </thead>\n",
       "  <tbody>\n",
       "    <tr>\n",
       "      <th>0</th>\n",
       "      <td>Buy Something Else</td>\n",
       "      <td>https://www.amazon.com/gp/customer-reviews/R2N...</td>\n",
       "      <td>Ivan Hysell</td>\n",
       "      <td>2019-04-06</td>\n",
       "      <td>1.0</td>\n",
       "      <td>https://www.amazon.com/gp/customer-reviews/R2N...</td>\n",
       "      <td>Verified Purchase</td>\n",
       "      <td>Color: Graphite/BlackEdition: Charge 3 Activit...</td>\n",
       "      <td>not reliable. this is my second attempt at thi...</td>\n",
       "      <td>496</td>\n",
       "      <td>2019</td>\n",
       "      <td>{screen}</td>\n",
       "      <td>attempt product device failures screen data th...</td>\n",
       "    </tr>\n",
       "    <tr>\n",
       "      <th>1</th>\n",
       "      <td>inacurate heartrate and tracking</td>\n",
       "      <td>https://www.amazon.com/gp/customer-reviews/R2E...</td>\n",
       "      <td>Emily P.</td>\n",
       "      <td>2019-04-24</td>\n",
       "      <td>1.0</td>\n",
       "      <td>https://www.amazon.com/gp/customer-reviews/R2E...</td>\n",
       "      <td>Verified Purchase</td>\n",
       "      <td>Color: Graphite/BlackEdition: Charge 3 Activit...</td>\n",
       "      <td>the heart rate tracker is mostly why i bought ...</td>\n",
       "      <td>446</td>\n",
       "      <td>2019</td>\n",
       "      <td>{heart rate, heart}</td>\n",
       "      <td>tracker others gym breath state stairs driving...</td>\n",
       "    </tr>\n",
       "    <tr>\n",
       "      <th>2</th>\n",
       "      <td>Amazing Quick Shipping to Canada</td>\n",
       "      <td>https://www.amazon.com/gp/customer-reviews/R3D...</td>\n",
       "      <td>Amazon Customer</td>\n",
       "      <td>2018-12-14</td>\n",
       "      <td>5.0</td>\n",
       "      <td>https://www.amazon.com/gp/customer-reviews/R3D...</td>\n",
       "      <td>Verified Purchase</td>\n",
       "      <td>Color: Rose Gold/Blue GreyEdition: Charge 3 Ac...</td>\n",
       "      <td>great service and product</td>\n",
       "      <td>25</td>\n",
       "      <td>2018</td>\n",
       "      <td>{}</td>\n",
       "      <td>service product</td>\n",
       "    </tr>\n",
       "    <tr>\n",
       "      <th>3</th>\n",
       "      <td>Great product... if it worked.</td>\n",
       "      <td>https://www.amazon.com/gp/customer-reviews/R2H...</td>\n",
       "      <td>Jerome</td>\n",
       "      <td>2019-04-24</td>\n",
       "      <td>1.0</td>\n",
       "      <td>https://www.amazon.com/gp/customer-reviews/R2H...</td>\n",
       "      <td>Verified Purchase</td>\n",
       "      <td>Color: Graphite/BlackEdition: Charge 3 Activit...</td>\n",
       "      <td>only a few months into owning this product aft...</td>\n",
       "      <td>673</td>\n",
       "      <td>2019</td>\n",
       "      <td>{charging, syncing}</td>\n",
       "      <td>product week steps help support time replaceme...</td>\n",
       "    </tr>\n",
       "    <tr>\n",
       "      <th>4</th>\n",
       "      <td>Don’t buy</td>\n",
       "      <td>https://www.amazon.com/gp/customer-reviews/RAG...</td>\n",
       "      <td>bwr</td>\n",
       "      <td>2018-12-06</td>\n",
       "      <td>1.0</td>\n",
       "      <td>https://www.amazon.com/gp/customer-reviews/RAG...</td>\n",
       "      <td>Verified Purchase</td>\n",
       "      <td>Color: Graphite/BlackEdition: Charge 3 Activit...</td>\n",
       "      <td>worked great for about two months, then stoppe...</td>\n",
       "      <td>158</td>\n",
       "      <td>2018</td>\n",
       "      <td>{charge}</td>\n",
       "      <td>months charge what website</td>\n",
       "    </tr>\n",
       "    <tr>\n",
       "      <th>5</th>\n",
       "      <td>Best Fitbit yet!!!</td>\n",
       "      <td>https://www.amazon.com/gp/customer-reviews/RA1...</td>\n",
       "      <td>Wenhether</td>\n",
       "      <td>2019-06-09</td>\n",
       "      <td>5.0</td>\n",
       "      <td>https://www.amazon.com/gp/customer-reviews/RA1...</td>\n",
       "      <td>Verified Purchase</td>\n",
       "      <td>Color: Rose Gold/Blue GreyEdition: Charge 3 Ac...</td>\n",
       "      <td>love my new fitbit and the fact that i can swi...</td>\n",
       "      <td>201</td>\n",
       "      <td>2019</td>\n",
       "      <td>{}</td>\n",
       "      <td>fitbit fact feature work hands upgrade</td>\n",
       "    </tr>\n",
       "    <tr>\n",
       "      <th>6</th>\n",
       "      <td>DO NOT PURCHASE THIS FITBIT - company failed t...</td>\n",
       "      <td>https://www.amazon.com/gp/customer-reviews/R29...</td>\n",
       "      <td>G. Gude</td>\n",
       "      <td>2018-10-30</td>\n",
       "      <td>1.0</td>\n",
       "      <td>https://www.amazon.com/gp/customer-reviews/R29...</td>\n",
       "      <td>Verified Purchase</td>\n",
       "      <td>Color: Graphite/BlackEdition: Charge 3 Activit...</td>\n",
       "      <td>after less that 2 weeks wearing my fitbit, the...</td>\n",
       "      <td>1349</td>\n",
       "      <td>2018</td>\n",
       "      <td>{sync, screen, charging, battery, service}</td>\n",
       "      <td>weeks fitbit screen device majority day batter...</td>\n",
       "    </tr>\n",
       "    <tr>\n",
       "      <th>7</th>\n",
       "      <td>Not worth it.</td>\n",
       "      <td>https://www.amazon.com/gp/customer-reviews/R31...</td>\n",
       "      <td>Irene</td>\n",
       "      <td>2018-12-12</td>\n",
       "      <td>1.0</td>\n",
       "      <td>https://www.amazon.com/gp/customer-reviews/R31...</td>\n",
       "      <td>Verified Purchase</td>\n",
       "      <td>Color: Graphite/BlackEdition: Charge 3 Activit...</td>\n",
       "      <td>i saw all the mixed and bad reviews from the l...</td>\n",
       "      <td>885</td>\n",
       "      <td>2018</td>\n",
       "      <td>{heart rate, screen, heart, alarm}</td>\n",
       "      <td>reviews months try hardware matter time softwa...</td>\n",
       "    </tr>\n",
       "    <tr>\n",
       "      <th>8</th>\n",
       "      <td>Steps aren't accurate</td>\n",
       "      <td>https://www.amazon.com/gp/customer-reviews/R1U...</td>\n",
       "      <td>M</td>\n",
       "      <td>2019-05-18</td>\n",
       "      <td>3.0</td>\n",
       "      <td>https://www.amazon.com/gp/customer-reviews/R1U...</td>\n",
       "      <td>Verified Purchase</td>\n",
       "      <td>Color: Graphite/White SiliconeEdition: Special...</td>\n",
       "      <td>i had this on while riding in a vehicle and my...</td>\n",
       "      <td>225</td>\n",
       "      <td>2019</td>\n",
       "      <td>{}</td>\n",
       "      <td>vehicle count husband words something track steps</td>\n",
       "    </tr>\n",
       "    <tr>\n",
       "      <th>9</th>\n",
       "      <td>Time of display.</td>\n",
       "      <td>https://www.amazon.com/gp/customer-reviews/RW3...</td>\n",
       "      <td>Arthur W.</td>\n",
       "      <td>2019-04-28</td>\n",
       "      <td>2.0</td>\n",
       "      <td>https://www.amazon.com/gp/customer-reviews/RW3...</td>\n",
       "      <td>Verified Purchase</td>\n",
       "      <td>Color: Graphite/White SiliconeEdition: Special...</td>\n",
       "      <td>there are hundreds of complaints regarding the...</td>\n",
       "      <td>525</td>\n",
       "      <td>2019</td>\n",
       "      <td>{charge, screen, heart}</td>\n",
       "      <td>hundreds complaints time charge time time step...</td>\n",
       "    </tr>\n",
       "  </tbody>\n",
       "</table>\n",
       "</div>"
      ],
      "text/plain": [
       "                                         review_link  \\\n",
       "0                                 Buy Something Else   \n",
       "1                   inacurate heartrate and tracking   \n",
       "2                   Amazing Quick Shipping to Canada   \n",
       "3                     Great product... if it worked.   \n",
       "4                                          Don’t buy   \n",
       "5                                 Best Fitbit yet!!!   \n",
       "6  DO NOT PURCHASE THIS FITBIT - company failed t...   \n",
       "7                                      Not worth it.   \n",
       "8                              Steps aren't accurate   \n",
       "9                                   Time of display.   \n",
       "\n",
       "                                    review_link-href             name  \\\n",
       "0  https://www.amazon.com/gp/customer-reviews/R2N...      Ivan Hysell   \n",
       "1  https://www.amazon.com/gp/customer-reviews/R2E...         Emily P.   \n",
       "2  https://www.amazon.com/gp/customer-reviews/R3D...  Amazon Customer   \n",
       "3  https://www.amazon.com/gp/customer-reviews/R2H...           Jerome   \n",
       "4  https://www.amazon.com/gp/customer-reviews/RAG...              bwr   \n",
       "5  https://www.amazon.com/gp/customer-reviews/RA1...        Wenhether   \n",
       "6  https://www.amazon.com/gp/customer-reviews/R29...          G. Gude   \n",
       "7  https://www.amazon.com/gp/customer-reviews/R31...            Irene   \n",
       "8  https://www.amazon.com/gp/customer-reviews/R1U...                M   \n",
       "9  https://www.amazon.com/gp/customer-reviews/RW3...        Arthur W.   \n",
       "\n",
       "        date  stars                                         stars-href  \\\n",
       "0 2019-04-06    1.0  https://www.amazon.com/gp/customer-reviews/R2N...   \n",
       "1 2019-04-24    1.0  https://www.amazon.com/gp/customer-reviews/R2E...   \n",
       "2 2018-12-14    5.0  https://www.amazon.com/gp/customer-reviews/R3D...   \n",
       "3 2019-04-24    1.0  https://www.amazon.com/gp/customer-reviews/R2H...   \n",
       "4 2018-12-06    1.0  https://www.amazon.com/gp/customer-reviews/RAG...   \n",
       "5 2019-06-09    5.0  https://www.amazon.com/gp/customer-reviews/RA1...   \n",
       "6 2018-10-30    1.0  https://www.amazon.com/gp/customer-reviews/R29...   \n",
       "7 2018-12-12    1.0  https://www.amazon.com/gp/customer-reviews/R31...   \n",
       "8 2019-05-18    3.0  https://www.amazon.com/gp/customer-reviews/R1U...   \n",
       "9 2019-04-28    2.0  https://www.amazon.com/gp/customer-reviews/RW3...   \n",
       "\n",
       "            verified                                            product  \\\n",
       "0  Verified Purchase  Color: Graphite/BlackEdition: Charge 3 Activit...   \n",
       "1  Verified Purchase  Color: Graphite/BlackEdition: Charge 3 Activit...   \n",
       "2  Verified Purchase  Color: Rose Gold/Blue GreyEdition: Charge 3 Ac...   \n",
       "3  Verified Purchase  Color: Graphite/BlackEdition: Charge 3 Activit...   \n",
       "4  Verified Purchase  Color: Graphite/BlackEdition: Charge 3 Activit...   \n",
       "5  Verified Purchase  Color: Rose Gold/Blue GreyEdition: Charge 3 Ac...   \n",
       "6  Verified Purchase  Color: Graphite/BlackEdition: Charge 3 Activit...   \n",
       "7  Verified Purchase  Color: Graphite/BlackEdition: Charge 3 Activit...   \n",
       "8  Verified Purchase  Color: Graphite/White SiliconeEdition: Special...   \n",
       "9  Verified Purchase  Color: Graphite/White SiliconeEdition: Special...   \n",
       "\n",
       "                                              review  length  year  \\\n",
       "0  not reliable. this is my second attempt at thi...     496  2019   \n",
       "1  the heart rate tracker is mostly why i bought ...     446  2019   \n",
       "2                          great service and product      25  2018   \n",
       "3  only a few months into owning this product aft...     673  2019   \n",
       "4  worked great for about two months, then stoppe...     158  2018   \n",
       "5  love my new fitbit and the fact that i can swi...     201  2019   \n",
       "6  after less that 2 weeks wearing my fitbit, the...    1349  2018   \n",
       "7  i saw all the mixed and bad reviews from the l...     885  2018   \n",
       "8  i had this on while riding in a vehicle and my...     225  2019   \n",
       "9  there are hundreds of complaints regarding the...     525  2019   \n",
       "\n",
       "                              aspect_category  \\\n",
       "0                                    {screen}   \n",
       "1                         {heart rate, heart}   \n",
       "2                                          {}   \n",
       "3                         {charging, syncing}   \n",
       "4                                    {charge}   \n",
       "5                                          {}   \n",
       "6  {sync, screen, charging, battery, service}   \n",
       "7          {heart rate, screen, heart, alarm}   \n",
       "8                                          {}   \n",
       "9                     {charge, screen, heart}   \n",
       "\n",
       "                                        aspect_terms  \n",
       "0  attempt product device failures screen data th...  \n",
       "1  tracker others gym breath state stairs driving...  \n",
       "2                                    service product  \n",
       "3  product week steps help support time replaceme...  \n",
       "4                         months charge what website  \n",
       "5             fitbit fact feature work hands upgrade  \n",
       "6  weeks fitbit screen device majority day batter...  \n",
       "7  reviews months try hardware matter time softwa...  \n",
       "8  vehicle count husband words something track steps  \n",
       "9  hundreds complaints time charge time time step...  "
      ]
     },
     "execution_count": 24,
     "metadata": {},
     "output_type": "execute_result"
    }
   ],
   "source": [
    "df['review'] = df.review.str.lower()\n",
    "\n",
    "aspect_terms = []\n",
    "for review in nlp.pipe(df.review):\n",
    "    chunks = [(chunk.root.text) for chunk in review.noun_chunks if chunk.root.pos_ == 'NOUN']\n",
    "    aspect_terms.append(' '.join(chunks))\n",
    "df['aspect_terms'] = aspect_terms\n",
    "df.head(10)"
   ]
  },
  {
   "cell_type": "code",
   "execution_count": 33,
   "metadata": {
    "ExecuteTime": {
     "end_time": "2019-07-18T19:48:42.354772Z",
     "start_time": "2019-07-18T19:48:42.346631Z"
    }
   },
   "outputs": [],
   "source": [
    "df['aspect_cat_string'] = df.aspect_category.apply(lambda x: ', '.join(x))"
   ]
  },
  {
   "cell_type": "code",
   "execution_count": 72,
   "metadata": {
    "ExecuteTime": {
     "end_time": "2019-07-18T20:59:30.322553Z",
     "start_time": "2019-07-18T20:59:30.312352Z"
    }
   },
   "outputs": [
    {
     "data": {
      "text/plain": [
       "array(['screen', 'heart rate, heart', '', 'charging, syncing', 'charge',\n",
       "       'sync, screen, charging, battery, service',\n",
       "       'heart rate, screen, heart, alarm', 'charge, screen, heart',\n",
       "       'Charge 2', 'Charge 3, service, sync, Charge 2',\n",
       "       'charge, battery, syncing', 'screen, syncing', 'sync',\n",
       "       'charge, screen', 'Charge 3', 'charging, Charge 2',\n",
       "       'heart rate, sleep, battery, heart', 'battery, Charge 3, charge',\n",
       "       'heart rate, battery, sleep, heart', 'heart rate, heart, reminder',\n",
       "       'charge, heart rate, heart', 'charge, Charge 3',\n",
       "       'sleep, charge, heart, charging, heart rate, battery', 'charging',\n",
       "       'sleep, Charge 3, heart, reminder, heart rate, alarm',\n",
       "       'sleep, Charge 3, screen, heart', 'Charge 3, screen, Charge 2',\n",
       "       'battery', 'sync, Charge 3, syncing',\n",
       "       'sync, charge, heart, heart rate, battery',\n",
       "       'sleep, heart rate, heart', 'syncing', 'charge, Charge 3, screen',\n",
       "       'heart rate, service, heart', 'sleep, Charge 3, service',\n",
       "       'quality, screen, Charge 2', 'screen, Charge 2',\n",
       "       'charge, Charge 3, Charge 2', 'quality, charge, syncing',\n",
       "       'sleep, Charge 3, charge, sync, Charge 2, syncing',\n",
       "       'charge, sleep, alarm', 'Charge 3, Charge 2', 'Charge 3, screen',\n",
       "       'sleep, Charge 3, screen, heart, heart rate',\n",
       "       'sleep, Charge 3, charge, heart, heart rate, sync',\n",
       "       'charging, charge', 'battery, service', 'charge, sync, syncing',\n",
       "       'sync, syncing', 'quality', 'Charge 3, sync, Charge 2',\n",
       "       'charge, sync',\n",
       "       'Charge 3, sleep, sync, charge, heart, heart rate, battery, Charge 2',\n",
       "       'charging, charge, screen, Charge 3', 'sleep, charge, syncing',\n",
       "       'sync, heart', 'sleep, Charge 3, Charge 2',\n",
       "       'sleep, sync, charge, screen, heart, heart rate, battery, alarm',\n",
       "       'service, Charge 3, screen', 'charging, battery, sync',\n",
       "       'sleep, Charge 3', 'sleep', 'Charge 3, service', 'charge, battery',\n",
       "       'Charge 3, Charge 2, syncing', 'sync, service',\n",
       "       'charging, charge, Charge 2, alarm', 'heart rate, battery, heart',\n",
       "       'battery, charge', 'sleep, screen, sync', 'charge, screen, sync',\n",
       "       'heart rate, Charge 3, screen, heart', 'screen, heart',\n",
       "       'sleep, battery', 'sleep, screen',\n",
       "       'Charge 3, screen, sync, Charge 2, syncing', 'Charge 2, syncing',\n",
       "       'service, screen', 'Charge 3, syncing', 'charge, screen, Charge 3',\n",
       "       'heart rate, sleep, heart', 'heart rate, heart, syncing',\n",
       "       'sleep, alarm', 'charge, Charge 3, syncing',\n",
       "       'heart rate, charge, screen, heart',\n",
       "       'heart rate, sleep, Charge 3, heart', 'battery, sync, Charge 2',\n",
       "       'sleep, Charge 3, heart, heart rate, battery, alarm',\n",
       "       'sleep, Charge 3, charge, heart, Charge 2, syncing',\n",
       "       'sleep, service', 'battery, sleep, heart rate, heart',\n",
       "       'Charge 3, screen, heart, heart rate, sync',\n",
       "       'sleep, Charge 3, screen',\n",
       "       'sleep, charge, screen, heart, heart rate, battery',\n",
       "       'charging, sync', 'sleep, sync, alarm', 'service',\n",
       "       'charge, service', 'heart rate, screen, heart', 'sleep, sync',\n",
       "       'Charge 3, charge, heart, heart rate, sync',\n",
       "       'sleep, charge, screen, heart, heart rate', 'battery, Charge 3',\n",
       "       'charge, Charge 3, screen, Charge 2', 'quality, Charge 3, service',\n",
       "       'service, screen, syncing',\n",
       "       'sleep, Charge 3, sync, charge, battery, Charge 2, syncing',\n",
       "       'sleep, Charge 3, sync', 'charging, Charge 3, screen, sync',\n",
       "       'battery, charge, syncing', 'charging, sleep',\n",
       "       'charging, battery, charge',\n",
       "       'charge, screen, heart, heart rate, Charge 2',\n",
       "       'sleep, Charge 3, screen, sync, Charge 2',\n",
       "       'charge, Charge 2, syncing', 'battery, sleep, Charge 3',\n",
       "       'sleep, Charge 2', 'Charge 3, charge, screen, battery, Charge 2',\n",
       "       'sleep, charge', 'sleep, charge, screen',\n",
       "       'heart rate, charge, sync, heart',\n",
       "       'alarm, sleep, sync, charge, battery, syncing',\n",
       "       'heart rate, screen, heart, Charge 2', 'Charge 3, sync',\n",
       "       'Charge 3, screen, syncing', 'sync, screen, Charge 2',\n",
       "       'sync, screen, syncing',\n",
       "       'Charge 3, sync, charge, battery, syncing',\n",
       "       'charge, service, syncing',\n",
       "       'sleep, Charge 3, sync, battery, syncing', 'charge, Charge 2',\n",
       "       'heart', 'service, Charge 2', 'sleep, charge, service',\n",
       "       'sleep, Charge 3, heart, heart rate, syncing',\n",
       "       'heart rate, charge, heart',\n",
       "       'heart rate, Charge 3, heart, syncing', 'battery, Charge 2',\n",
       "       'reminder', 'screen, charge, service, syncing', 'charge, syncing',\n",
       "       'charge, sleep, battery', 'battery, screen, Charge 2',\n",
       "       'sync, heart rate, screen, heart',\n",
       "       'Charge 3, service, sync, syncing', 'Charge 3, service, Charge 2',\n",
       "       'Charge 3, service, sync', 'sleep, sync, syncing',\n",
       "       'battery, sleep, charge, Charge 3',\n",
       "       'battery, Charge 3, heart rate, heart', 'Charge 3, gps',\n",
       "       'battery, Charge 3, screen, Charge 2', 'charge, service, screen',\n",
       "       'sleep, Charge 3, charge, heart, heart rate, service, Charge 2, alarm',\n",
       "       'sleep, heart, heart rate, battery, Charge 2, syncing',\n",
       "       'charge, battery, sync', 'charge, sleep, Charge 2',\n",
       "       'battery, sleep, charge, sync', 'sleep, heart rate, screen, heart',\n",
       "       'charge, sync, alarm', 'heart rate, sleep, screen, heart',\n",
       "       'sync, service, syncing',\n",
       "       'Charge 3, screen, heart, heart rate, battery, gps, Charge 2',\n",
       "       'quality, charge', 'heart rate, heart, gps', 'quality, Charge 3',\n",
       "       'charge, alarm', 'battery, sync', 'sync, Charge 3',\n",
       "       'Charge 3, charge, charging, sync, service',\n",
       "       'Charge 3, screen, sync', 'battery, heart rate, heart',\n",
       "       'sleep, heart', 'battery, screen', 'Charge 3, sync, syncing',\n",
       "       'sleep, Charge 3, heart', 'charge, service, sync, syncing',\n",
       "       'Charge 3, sync, Charge 2, syncing', 'sync, Charge 2',\n",
       "       'service, syncing',\n",
       "       'sleep, Charge 3, heart, heart rate, sync, syncing',\n",
       "       'sleep, syncing', 'gps', 'sleep, sync, Charge 3, syncing',\n",
       "       'heart rate, sleep, charge, heart',\n",
       "       'sleep, Charge 3, screen, Charge 2',\n",
       "       'charge, service, screen, Charge 3', 'battery, screen, sync',\n",
       "       'sleep, heart rate, heart, syncing',\n",
       "       'Charge 3, charge, heart, heart rate, Charge 2',\n",
       "       'quality, heart rate, heart', 'charging, quality',\n",
       "       'sleep, charge, heart, heart rate, battery',\n",
       "       'Charge 3, sleep, charge, screen, heart, heart rate, battery, Charge 2, syncing',\n",
       "       'quality, sleep',\n",
       "       'sleep, Charge 3, quality, screen, heart, charging, heart rate, battery, syncing',\n",
       "       'battery, sleep', 'Charge 3, charging, sync, Charge 2, syncing',\n",
       "       'sleep, service, Charge 2', 'sleep, charge, alarm',\n",
       "       'charging, Charge 3', 'charge, sync, screen, syncing',\n",
       "       'sleep, battery, screen', 'sleep, Charge 3, sync, Charge 2',\n",
       "       'sleep, Charge 3, service, sync',\n",
       "       'battery, Charge 3, screen, charging',\n",
       "       'sleep, Charge 3, sync, service, syncing',\n",
       "       'sleep, charge, screen, charging, sync, syncing',\n",
       "       'charging, battery', 'charge, battery, screen, Charge 3',\n",
       "       'battery, sleep, screen, charge',\n",
       "       'sleep, Charge 3, sync, service, Charge 2, syncing',\n",
       "       'charge, screen, Charge 2', 'heart rate, Charge 3, heart',\n",
       "       'charge, sleep, heart',\n",
       "       'Charge 3, charge, screen, heart, heart rate, battery',\n",
       "       'Charge 3, screen, sync, Charge 2', 'battery, alarm',\n",
       "       'Charge 3, sleep, screen, sync, Charge 2, syncing',\n",
       "       'Charge 3, sleep, screen, heart, charging, heart rate, sync, syncing',\n",
       "       'heart rate, heart, Charge 2', 'battery, charge, screen, sync',\n",
       "       'Charge 3, sleep, screen, heart, heart rate, service, Charge 2',\n",
       "       'sleep, sync, screen, heart, heart rate, battery, gps, alarm',\n",
       "       'charging, Charge 3, charge',\n",
       "       'sync, screen, heart, heart rate, battery, syncing',\n",
       "       'Charge 3, sleep, sync, screen, heart, heart rate, battery',\n",
       "       'battery, charge, screen',\n",
       "       'sleep, Charge 3, heart, heart rate, battery, syncing',\n",
       "       'sync, screen', 'charge, sleep, heart rate, heart',\n",
       "       'heart, Charge 2, syncing', 'Charge 3, service, syncing',\n",
       "       'charge, battery, Charge 3, charging',\n",
       "       'charging, sleep, heart rate, heart',\n",
       "       'battery, Charge 3, Charge 2, syncing', 'screen, alarm',\n",
       "       'sleep, Charge 3, charge, charging, syncing',\n",
       "       'sync, Charge 2, Charge 3', 'alarm', 'service, charge, screen',\n",
       "       'heart rate, quality, sync, heart',\n",
       "       'Charge 3, sync, heart, heart rate, battery',\n",
       "       'battery, Charge 3, charge, alarm',\n",
       "       'sync, heart, heart rate, battery, Charge 2',\n",
       "       'battery, charge, sync', 'quality, charge, sleep',\n",
       "       'sleep, screen, heart, gps', 'battery, sleep, screen, syncing',\n",
       "       'sleep, charge, Charge 2',\n",
       "       'Charge 3, charge, screen, charging, sync',\n",
       "       'heart rate, Charge 3, sync, heart',\n",
       "       'service, charge, screen, sync',\n",
       "       'sleep, screen, heart, heart rate, Charge 2', 'charge, sleep',\n",
       "       'sleep, Charge 3, reminder', 'heart rate, screen, heart, reminder',\n",
       "       'heart rate, charge, service, heart', 'service, Charge 2, screen',\n",
       "       'Charge 3, sync, screen, battery, syncing',\n",
       "       'Charge 3, screen, heart, heart rate, battery',\n",
       "       'Charge 3, sleep, charge, reminder, battery, Charge 2, syncing',\n",
       "       'sleep, charge, screen, reminder, battery, alarm',\n",
       "       'quality, screen', 'quality, heart', 'charging, Charge 3, screen',\n",
       "       'sync, charge, screen, battery, service',\n",
       "       'sleep, quality, charge, heart, reminder, heart rate, Charge 2',\n",
       "       'charge, battery, screen', 'heart rate, sleep, sync, heart',\n",
       "       'charge, sleep, Charge 3, Charge 2', 'service, reminder',\n",
       "       'sleep, battery, sync, heart', 'battery, Charge 3, screen',\n",
       "       'sleep, Charge 3, sync, charge, screen, heart, heart rate, battery, syncing',\n",
       "       'Charge 3, charge, heart, heart rate, sync, service, syncing',\n",
       "       'sleep, screen, heart, heart rate, battery',\n",
       "       'sleep, sync, quality, charge, battery',\n",
       "       'Charge 3, heart, heart rate, battery, Charge 2',\n",
       "       'heart rate, Charge 3, heart, Charge 2',\n",
       "       'battery, charge, heart rate, heart', 'battery, sync, charging',\n",
       "       'heart rate, sleep, service, heart',\n",
       "       'Charge 3, charge, screen, service, Charge 2',\n",
       "       'Charge 3, screen, heart, heart rate, Charge 2, alarm',\n",
       "       'charging, quality, Charge 3', 'battery, quality, charge, screen',\n",
       "       'Charge 3, charge, screen, sync, Charge 2',\n",
       "       'sleep, screen, heart, heart rate, syncing',\n",
       "       'battery, Charge 3, Charge 2', 'heart rate, sync, heart',\n",
       "       'charging, charge, screen', 'Charge 3, heart',\n",
       "       'charging, sync, syncing', 'charging, Charge 3, screen, charge',\n",
       "       'battery, charge, Charge 2',\n",
       "       'Charge 3, screen, heart, heart rate, battery, Charge 2',\n",
       "       'charge, sync, Charge 3',\n",
       "       'sleep, Charge 3, heart, heart rate, sync, Charge 2, syncing',\n",
       "       'Charge 3, charge, heart, heart rate, sync, Charge 2',\n",
       "       'sleep, gps', 'battery, Charge 3, charge, Charge 2',\n",
       "       'charging, sleep, screen', 'charge, heart rate, heart, Charge 2',\n",
       "       'heart, reminder, charging, heart rate, battery',\n",
       "       'sleep, charge, heart, reminder, heart rate',\n",
       "       'sleep, sync, charge, battery, syncing',\n",
       "       'charge, heart, heart rate, sync, Charge 2',\n",
       "       'Charge 3, sleep, quality, charge, sync',\n",
       "       'charge, heart rate, screen, heart',\n",
       "       'heart rate, sleep, heart, Charge 3',\n",
       "       'sleep, Charge 3, sync, syncing',\n",
       "       'charge, heart rate, heart, Charge 3',\n",
       "       'sleep, heart rate, sync, heart',\n",
       "       'battery, heart rate, heart, Charge 3',\n",
       "       'sleep, Charge 3, heart, heart rate, sync, service, syncing',\n",
       "       'charge, battery, Charge 2', 'charge, sleep, syncing',\n",
       "       'charging, battery, Charge 2', 'sleep, battery, quality',\n",
       "       'battery, syncing', 'sync, Charge 3, Charge 2, syncing',\n",
       "       'sleep, Charge 3, screen, charging, service',\n",
       "       'battery, Charge 3, screen, heart, heart rate, sync',\n",
       "       'sleep, Charge 3, syncing', 'sleep, heart rate, service, heart',\n",
       "       'quality, battery, screen', 'charge, Charge 2, Charge 3',\n",
       "       'charging, screen',\n",
       "       'sleep, Charge 3, screen, heart, service, syncing',\n",
       "       'sleep, Charge 3, screen, heart, charging, heart rate, alarm',\n",
       "       'sleep, Charge 3, screen, heart, heart rate, Charge 2',\n",
       "       'battery, sync, Charge 3', 'battery, charge, Charge 3',\n",
       "       'battery, gps',\n",
       "       'sleep, Charge 3, charge, screen, heart, heart rate, battery, Charge 2',\n",
       "       'Charge 3, sync, service, Charge 2, syncing',\n",
       "       'Charge 3, sync, quality, battery, Charge 2',\n",
       "       'charge, sleep, battery, screen',\n",
       "       'sleep, Charge 3, heart, heart rate, battery',\n",
       "       'Charge 3, charge, screen, heart, charging, heart rate',\n",
       "       'sleep, Charge 3, screen, heart, heart rate, service',\n",
       "       'heart rate, heart, Charge 3',\n",
       "       'charging, Charge 3, screen, syncing',\n",
       "       'sleep, heart, heart rate, battery, Charge 2',\n",
       "       'charging, sleep, Charge 3', 'sleep, battery, sync',\n",
       "       'heart rate, screen, heart, syncing', 'charging, sleep, charge',\n",
       "       'heart rate, screen, heart, Charge 3', 'Charge 3, screen, alarm',\n",
       "       'charge, screen, heart, heart rate, sync',\n",
       "       'sleep, Charge 3, charge, screen, charging, battery, alarm',\n",
       "       'sleep, Charge 3, screen, heart, heart rate, battery',\n",
       "       'sleep, Charge 3, heart, heart rate, sync, service',\n",
       "       'battery, sync, gps, syncing',\n",
       "       'sleep, Charge 3, quality, screen, heart, charging, heart rate',\n",
       "       'Charge 3, charge, heart, heart rate, battery, Charge 2',\n",
       "       'sleep, charge, screen, Charge 3',\n",
       "       'screen, heart, heart rate, sync, Charge 2',\n",
       "       'charge, sleep, battery, Charge 2',\n",
       "       'sleep, charge, charging, battery, syncing',\n",
       "       'Charge 3, screen, sync, syncing', 'quality, sleep, Charge 3',\n",
       "       'service, Charge 3, screen, syncing',\n",
       "       'Charge 3, service, heart, Charge 2',\n",
       "       'service, screen, Charge 2, Charge 3',\n",
       "       'battery, sleep, sync, syncing', 'sleep, charge, Charge 3, alarm',\n",
       "       'charge, heart, heart rate, service, Charge 2',\n",
       "       'quality, sync, screen, syncing', 'service, screen, Charge 2',\n",
       "       'quality, Charge 3, Charge 2', 'sleep, sync, Charge 2, syncing',\n",
       "       'charging, sleep, sync', 'sleep, screen, syncing, Charge 3',\n",
       "       'charge, Charge 3, charging',\n",
       "       'charging, quality, screen, Charge 2',\n",
       "       'sleep, heart rate, heart, Charge 3', 'sync, syncing, Charge 3',\n",
       "       'sleep, Charge 3, charge, heart, charging, heart rate, battery, Charge 2',\n",
       "       'charge, heart rate, heart, syncing',\n",
       "       'Charge 3, charge, charging, service, syncing',\n",
       "       'charge, sleep, sync, Charge 2',\n",
       "       'Charge 3, charge, heart, heart rate, Charge 2, alarm',\n",
       "       'screen, heart, charging, heart rate, battery',\n",
       "       'sleep, Charge 3, alarm', 'charge, Charge 3, service',\n",
       "       'sleep, screen, heart, heart rate, sync',\n",
       "       'battery, quality, Charge 3, screen', 'Charge 3, sync, gps',\n",
       "       'charge, gps', 'heart rate, battery, service, heart',\n",
       "       'sleep, screen, alarm', 'battery, screen, syncing',\n",
       "       'battery, sync, syncing, Charge 3',\n",
       "       'quality, charge, heart, heart rate, sync, syncing',\n",
       "       'sleep, sync, heart, syncing', 'sync, alarm',\n",
       "       'screen, service, syncing', 'charging, Charge 2, Charge 3, charge',\n",
       "       'sleep, reminder, alarm', 'charge, quality, sync',\n",
       "       'Charge 3, charge, heart, heart rate, battery, syncing',\n",
       "       'charging, sync, screen',\n",
       "       'Charge 3, screen, heart, heart rate, Charge 2',\n",
       "       'charge, screen, alarm',\n",
       "       'Charge 3, charge, charging, sync, syncing',\n",
       "       'sleep, Charge 3, heart, heart rate, battery, Charge 2',\n",
       "       'quality, service, Charge 2', 'sleep, service, heart, screen',\n",
       "       'sleep, Charge 3, heart, charging, heart rate',\n",
       "       'quality, charge, heart, heart rate, battery, Charge 2',\n",
       "       'sync, service, Charge 2, syncing',\n",
       "       'battery, sleep, Charge 3, screen, heart, sync, service, syncing',\n",
       "       'battery, sleep, sync',\n",
       "       'battery, Charge 3, sleep, charge, screen, heart, heart rate, sync, Charge 2',\n",
       "       'Charge 3, quality, charge, screen, sync',\n",
       "       'sleep, charge, screen, reminder',\n",
       "       'charge, screen, Charge 2, Charge 3'], dtype=object)"
      ]
     },
     "execution_count": 72,
     "metadata": {},
     "output_type": "execute_result"
    }
   ],
   "source": [
    "df.aspect_cat_string.unique()"
   ]
  },
  {
   "cell_type": "code",
   "execution_count": 37,
   "metadata": {
    "ExecuteTime": {
     "end_time": "2019-07-18T19:50:47.837566Z",
     "start_time": "2019-07-18T19:50:47.756632Z"
    }
   },
   "outputs": [],
   "source": [
    "from keras.models import load_model\n",
    "from keras.models import Sequential\n",
    "from keras.layers import Dense, Activation\n",
    "\n",
    "aspect_categories_model = Sequential()\n",
    "aspect_categories_model.add(Dense(512, input_shape=(6000,), activation='relu'))\n",
    "aspect_categories_model.add(Dense(420, activation='softmax'))\n",
    "aspect_categories_model.compile(loss='categorical_crossentropy', optimizer='adam', metrics=['accuracy'])"
   ]
  },
  {
   "cell_type": "code",
   "execution_count": 26,
   "metadata": {
    "ExecuteTime": {
     "end_time": "2019-07-18T19:32:52.069925Z",
     "start_time": "2019-07-18T19:32:51.733957Z"
    }
   },
   "outputs": [],
   "source": [
    "from keras.preprocessing.text import Tokenizer\n",
    "\n",
    "vocab_size = 6000 # We set a maximum size for the vocabulary\n",
    "tokenizer = Tokenizer(num_words=vocab_size)\n",
    "tokenizer.fit_on_texts(df.review)\n",
    "aspect_tokenized = pd.DataFrame(tokenizer.texts_to_matrix(df.aspect_terms))"
   ]
  },
  {
   "cell_type": "code",
   "execution_count": 35,
   "metadata": {
    "ExecuteTime": {
     "end_time": "2019-07-18T19:49:15.000092Z",
     "start_time": "2019-07-18T19:49:14.989545Z"
    }
   },
   "outputs": [],
   "source": [
    "from sklearn.preprocessing import LabelEncoder\n",
    "from keras.utils import to_categorical\n",
    "\n",
    "label_encoder = LabelEncoder()\n",
    "integer_category = label_encoder.fit_transform(df.aspect_cat_string)\n",
    "dummy_category = to_categorical(integer_category)"
   ]
  },
  {
   "cell_type": "code",
   "execution_count": 39,
   "metadata": {
    "ExecuteTime": {
     "end_time": "2019-07-18T19:53:41.674316Z",
     "start_time": "2019-07-18T19:52:05.274162Z"
    },
    "scrolled": true
   },
   "outputs": [
    {
     "name": "stdout",
     "output_type": "stream",
     "text": [
      "Epoch 1/10\n",
      "3509/3509 [==============================] - 9s 3ms/step - loss: 0.6210 - acc: 0.8641\n",
      "Epoch 2/10\n",
      "3509/3509 [==============================] - 9s 3ms/step - loss: 0.4307 - acc: 0.9071\n",
      "Epoch 3/10\n",
      "3509/3509 [==============================] - 9s 3ms/step - loss: 0.3249 - acc: 0.9310\n",
      "Epoch 4/10\n",
      "3509/3509 [==============================] - 10s 3ms/step - loss: 0.2634 - acc: 0.9461\n",
      "Epoch 5/10\n",
      "3509/3509 [==============================] - 10s 3ms/step - loss: 0.2227 - acc: 0.9524\n",
      "Epoch 6/10\n",
      "3509/3509 [==============================] - 10s 3ms/step - loss: 0.1948 - acc: 0.9561\n",
      "Epoch 7/10\n",
      "3509/3509 [==============================] - 11s 3ms/step - loss: 0.1742 - acc: 0.9610\n",
      "Epoch 8/10\n",
      "3509/3509 [==============================] - 10s 3ms/step - loss: 0.1590 - acc: 0.9644\n",
      "Epoch 9/10\n",
      "3509/3509 [==============================] - 10s 3ms/step - loss: 0.1462 - acc: 0.9667\n",
      "Epoch 10/10\n",
      "3509/3509 [==============================] - 10s 3ms/step - loss: 0.1357 - acc: 0.9684\n"
     ]
    },
    {
     "data": {
      "text/plain": [
       "<keras.callbacks.History at 0x1ac2482780>"
      ]
     },
     "execution_count": 39,
     "metadata": {},
     "output_type": "execute_result"
    }
   ],
   "source": [
    "aspect_categories_model.fit(aspect_tokenized, dummy_category, epochs=10, verbose=1)"
   ]
  },
  {
   "cell_type": "code",
   "execution_count": null,
   "metadata": {},
   "outputs": [],
   "source": []
  },
  {
   "cell_type": "code",
   "execution_count": 43,
   "metadata": {
    "ExecuteTime": {
     "end_time": "2019-07-18T19:57:32.339282Z",
     "start_time": "2019-07-18T19:57:32.266913Z"
    }
   },
   "outputs": [
    {
     "name": "stdout",
     "output_type": "stream",
     "text": [
      "['sync, screen, charging, battery, service']\n"
     ]
    }
   ],
   "source": [
    "new_review = text\n",
    "\n",
    "chunks = [(chunk.root.text) for chunk in nlp(new_review).noun_chunks if chunk.root.pos_ == 'NOUN']\n",
    "new_review_aspect_terms = ' '.join(chunks)\n",
    "new_review_aspect_tokenized = tokenizer.texts_to_matrix([new_review_aspect_terms])\n",
    "\n",
    "new_review_category = label_encoder.inverse_transform(aspect_categories_model.predict_classes(new_review_aspect_tokenized))\n",
    "print(new_review_category)"
   ]
  },
  {
   "cell_type": "code",
   "execution_count": 41,
   "metadata": {
    "ExecuteTime": {
     "end_time": "2019-07-18T19:56:47.115907Z",
     "start_time": "2019-07-18T19:56:00.555706Z"
    }
   },
   "outputs": [
    {
     "data": {
      "text/html": [
       "<div>\n",
       "<style scoped>\n",
       "    .dataframe tbody tr th:only-of-type {\n",
       "        vertical-align: middle;\n",
       "    }\n",
       "\n",
       "    .dataframe tbody tr th {\n",
       "        vertical-align: top;\n",
       "    }\n",
       "\n",
       "    .dataframe thead th {\n",
       "        text-align: right;\n",
       "    }\n",
       "</style>\n",
       "<table border=\"1\" class=\"dataframe\">\n",
       "  <thead>\n",
       "    <tr style=\"text-align: right;\">\n",
       "      <th></th>\n",
       "      <th>review_link</th>\n",
       "      <th>review_link-href</th>\n",
       "      <th>name</th>\n",
       "      <th>date</th>\n",
       "      <th>stars</th>\n",
       "      <th>stars-href</th>\n",
       "      <th>verified</th>\n",
       "      <th>product</th>\n",
       "      <th>review</th>\n",
       "      <th>length</th>\n",
       "      <th>year</th>\n",
       "      <th>aspect_category</th>\n",
       "      <th>aspect_terms</th>\n",
       "      <th>aspect_cat_string</th>\n",
       "      <th>sentiment_terms</th>\n",
       "    </tr>\n",
       "  </thead>\n",
       "  <tbody>\n",
       "    <tr>\n",
       "      <th>0</th>\n",
       "      <td>Buy Something Else</td>\n",
       "      <td>https://www.amazon.com/gp/customer-reviews/R2N...</td>\n",
       "      <td>Ivan Hysell</td>\n",
       "      <td>2019-04-06</td>\n",
       "      <td>1.0</td>\n",
       "      <td>https://www.amazon.com/gp/customer-reviews/R2N...</td>\n",
       "      <td>Verified Purchase</td>\n",
       "      <td>Color: Graphite/BlackEdition: Charge 3 Activit...</td>\n",
       "      <td>not reliable. this is my second attempt at thi...</td>\n",
       "      <td>496</td>\n",
       "      <td>2019</td>\n",
       "      <td>{screen}</td>\n",
       "      <td>attempt product device failures screen data th...</td>\n",
       "      <td>screen</td>\n",
       "      <td>reliable be -PRON- second be that be prone syn...</td>\n",
       "    </tr>\n",
       "    <tr>\n",
       "      <th>1</th>\n",
       "      <td>inacurate heartrate and tracking</td>\n",
       "      <td>https://www.amazon.com/gp/customer-reviews/R2E...</td>\n",
       "      <td>Emily P.</td>\n",
       "      <td>2019-04-24</td>\n",
       "      <td>1.0</td>\n",
       "      <td>https://www.amazon.com/gp/customer-reviews/R2E...</td>\n",
       "      <td>Verified Purchase</td>\n",
       "      <td>Color: Graphite/BlackEdition: Charge 3 Activit...</td>\n",
       "      <td>the heart rate tracker is mostly why i bought ...</td>\n",
       "      <td>446</td>\n",
       "      <td>2019</td>\n",
       "      <td>{heart rate, heart}</td>\n",
       "      <td>tracker others gym breath state stairs driving...</td>\n",
       "      <td>heart rate, heart</td>\n",
       "      <td>be buy compare be close accurate will be will ...</td>\n",
       "    </tr>\n",
       "    <tr>\n",
       "      <th>2</th>\n",
       "      <td>Amazing Quick Shipping to Canada</td>\n",
       "      <td>https://www.amazon.com/gp/customer-reviews/R3D...</td>\n",
       "      <td>Amazon Customer</td>\n",
       "      <td>2018-12-14</td>\n",
       "      <td>5.0</td>\n",
       "      <td>https://www.amazon.com/gp/customer-reviews/R3D...</td>\n",
       "      <td>Verified Purchase</td>\n",
       "      <td>Color: Rose Gold/Blue GreyEdition: Charge 3 Ac...</td>\n",
       "      <td>great service and product</td>\n",
       "      <td>25</td>\n",
       "      <td>2018</td>\n",
       "      <td>{}</td>\n",
       "      <td>service product</td>\n",
       "      <td></td>\n",
       "      <td>great</td>\n",
       "    </tr>\n",
       "    <tr>\n",
       "      <th>3</th>\n",
       "      <td>Great product... if it worked.</td>\n",
       "      <td>https://www.amazon.com/gp/customer-reviews/R2H...</td>\n",
       "      <td>Jerome</td>\n",
       "      <td>2019-04-24</td>\n",
       "      <td>1.0</td>\n",
       "      <td>https://www.amazon.com/gp/customer-reviews/R2H...</td>\n",
       "      <td>Verified Purchase</td>\n",
       "      <td>Color: Graphite/BlackEdition: Charge 3 Activit...</td>\n",
       "      <td>only a few months into owning this product aft...</td>\n",
       "      <td>673</td>\n",
       "      <td>2019</td>\n",
       "      <td>{charging, syncing}</td>\n",
       "      <td>product week steps help support time replaceme...</td>\n",
       "      <td>charging, syncing</td>\n",
       "      <td>few own first stop sync all take use -PRON- be...</td>\n",
       "    </tr>\n",
       "    <tr>\n",
       "      <th>4</th>\n",
       "      <td>Don’t buy</td>\n",
       "      <td>https://www.amazon.com/gp/customer-reviews/RAG...</td>\n",
       "      <td>bwr</td>\n",
       "      <td>2018-12-06</td>\n",
       "      <td>1.0</td>\n",
       "      <td>https://www.amazon.com/gp/customer-reviews/RAG...</td>\n",
       "      <td>Verified Purchase</td>\n",
       "      <td>Color: Graphite/BlackEdition: Charge 3 Activit...</td>\n",
       "      <td>worked great for about two months, then stoppe...</td>\n",
       "      <td>158</td>\n",
       "      <td>2018</td>\n",
       "      <td>{charge}</td>\n",
       "      <td>months charge what website</td>\n",
       "      <td>charge</td>\n",
       "      <td>work stop take would synchronize try</td>\n",
       "    </tr>\n",
       "  </tbody>\n",
       "</table>\n",
       "</div>"
      ],
      "text/plain": [
       "                        review_link  \\\n",
       "0                Buy Something Else   \n",
       "1  inacurate heartrate and tracking   \n",
       "2  Amazing Quick Shipping to Canada   \n",
       "3    Great product... if it worked.   \n",
       "4                         Don’t buy   \n",
       "\n",
       "                                    review_link-href             name  \\\n",
       "0  https://www.amazon.com/gp/customer-reviews/R2N...      Ivan Hysell   \n",
       "1  https://www.amazon.com/gp/customer-reviews/R2E...         Emily P.   \n",
       "2  https://www.amazon.com/gp/customer-reviews/R3D...  Amazon Customer   \n",
       "3  https://www.amazon.com/gp/customer-reviews/R2H...           Jerome   \n",
       "4  https://www.amazon.com/gp/customer-reviews/RAG...              bwr   \n",
       "\n",
       "        date  stars                                         stars-href  \\\n",
       "0 2019-04-06    1.0  https://www.amazon.com/gp/customer-reviews/R2N...   \n",
       "1 2019-04-24    1.0  https://www.amazon.com/gp/customer-reviews/R2E...   \n",
       "2 2018-12-14    5.0  https://www.amazon.com/gp/customer-reviews/R3D...   \n",
       "3 2019-04-24    1.0  https://www.amazon.com/gp/customer-reviews/R2H...   \n",
       "4 2018-12-06    1.0  https://www.amazon.com/gp/customer-reviews/RAG...   \n",
       "\n",
       "            verified                                            product  \\\n",
       "0  Verified Purchase  Color: Graphite/BlackEdition: Charge 3 Activit...   \n",
       "1  Verified Purchase  Color: Graphite/BlackEdition: Charge 3 Activit...   \n",
       "2  Verified Purchase  Color: Rose Gold/Blue GreyEdition: Charge 3 Ac...   \n",
       "3  Verified Purchase  Color: Graphite/BlackEdition: Charge 3 Activit...   \n",
       "4  Verified Purchase  Color: Graphite/BlackEdition: Charge 3 Activit...   \n",
       "\n",
       "                                              review  length  year  \\\n",
       "0  not reliable. this is my second attempt at thi...     496  2019   \n",
       "1  the heart rate tracker is mostly why i bought ...     446  2019   \n",
       "2                          great service and product      25  2018   \n",
       "3  only a few months into owning this product aft...     673  2019   \n",
       "4  worked great for about two months, then stoppe...     158  2018   \n",
       "\n",
       "       aspect_category                                       aspect_terms  \\\n",
       "0             {screen}  attempt product device failures screen data th...   \n",
       "1  {heart rate, heart}  tracker others gym breath state stairs driving...   \n",
       "2                   {}                                    service product   \n",
       "3  {charging, syncing}  product week steps help support time replaceme...   \n",
       "4             {charge}                         months charge what website   \n",
       "\n",
       "   aspect_cat_string                                    sentiment_terms  \n",
       "0             screen  reliable be -PRON- second be that be prone syn...  \n",
       "1  heart rate, heart  be buy compare be close accurate will be will ...  \n",
       "2                                                                 great  \n",
       "3  charging, syncing  few own first stop sync all take use -PRON- be...  \n",
       "4             charge               work stop take would synchronize try  "
      ]
     },
     "execution_count": 41,
     "metadata": {},
     "output_type": "execute_result"
    }
   ],
   "source": [
    "sentiment_terms = []\n",
    "for review in nlp.pipe(df['review']):\n",
    "        if review.is_parsed:\n",
    "            sentiment_terms.append(' '.join([token.lemma_ for token in review if (not token.is_stop and not token.is_punct and (token.pos_ == \"ADJ\" or token.pos_ == \"VERB\"))]))\n",
    "        else:\n",
    "            sentiment_terms.append('')  \n",
    "df['sentiment_terms'] = sentiment_terms\n",
    "df.head()"
   ]
  },
  {
   "cell_type": "code",
   "execution_count": 44,
   "metadata": {
    "ExecuteTime": {
     "end_time": "2019-07-18T19:59:49.684475Z",
     "start_time": "2019-07-18T19:59:49.583220Z"
    }
   },
   "outputs": [],
   "source": [
    "sentiment_model = Sequential()\n",
    "sentiment_model.add(Dense(512, input_shape=(6000,), activation='relu'))\n",
    "sentiment_model.add(Dense(3, activation='softmax'))\n",
    "sentiment_model.compile(loss='categorical_crossentropy', optimizer='adam', metrics=['accuracy'])"
   ]
  },
  {
   "cell_type": "code",
   "execution_count": 45,
   "metadata": {
    "ExecuteTime": {
     "end_time": "2019-07-18T19:59:57.130847Z",
     "start_time": "2019-07-18T19:59:56.983228Z"
    }
   },
   "outputs": [],
   "source": [
    "sentiment_tokenized = pd.DataFrame(tokenizer.texts_to_matrix(df.sentiment_terms))"
   ]
  },
  {
   "cell_type": "code",
   "execution_count": 47,
   "metadata": {
    "ExecuteTime": {
     "end_time": "2019-07-18T20:03:12.594836Z",
     "start_time": "2019-07-18T20:03:12.587928Z"
    }
   },
   "outputs": [],
   "source": [
    "def sentiment_return(rating):\n",
    "    sentiment = 'positive'\n",
    "    if rating == 3:\n",
    "        sentiment = 'neutral'\n",
    "    elif rating < 3:\n",
    "        sentiment = 'negative'\n",
    "    return sentiment"
   ]
  },
  {
   "cell_type": "code",
   "execution_count": 48,
   "metadata": {
    "ExecuteTime": {
     "end_time": "2019-07-18T20:03:37.428150Z",
     "start_time": "2019-07-18T20:03:37.418357Z"
    }
   },
   "outputs": [],
   "source": [
    "df['sentiment'] = df.stars.apply(lambda x: sentiment_return(x))"
   ]
  },
  {
   "cell_type": "code",
   "execution_count": 59,
   "metadata": {
    "ExecuteTime": {
     "end_time": "2019-07-18T20:08:14.683757Z",
     "start_time": "2019-07-18T20:08:14.663086Z"
    }
   },
   "outputs": [
    {
     "data": {
      "text/html": [
       "<div>\n",
       "<style scoped>\n",
       "    .dataframe tbody tr th:only-of-type {\n",
       "        vertical-align: middle;\n",
       "    }\n",
       "\n",
       "    .dataframe tbody tr th {\n",
       "        vertical-align: top;\n",
       "    }\n",
       "\n",
       "    .dataframe thead th {\n",
       "        text-align: right;\n",
       "    }\n",
       "</style>\n",
       "<table border=\"1\" class=\"dataframe\">\n",
       "  <thead>\n",
       "    <tr style=\"text-align: right;\">\n",
       "      <th></th>\n",
       "      <th>review_link</th>\n",
       "      <th>review_link-href</th>\n",
       "      <th>name</th>\n",
       "      <th>date</th>\n",
       "      <th>stars</th>\n",
       "      <th>stars-href</th>\n",
       "      <th>verified</th>\n",
       "      <th>product</th>\n",
       "      <th>review</th>\n",
       "      <th>length</th>\n",
       "      <th>year</th>\n",
       "      <th>aspect_category</th>\n",
       "      <th>aspect_terms</th>\n",
       "      <th>aspect_cat_string</th>\n",
       "      <th>sentiment_terms</th>\n",
       "      <th>sentiment</th>\n",
       "    </tr>\n",
       "  </thead>\n",
       "  <tbody>\n",
       "    <tr>\n",
       "      <th>0</th>\n",
       "      <td>Buy Something Else</td>\n",
       "      <td>https://www.amazon.com/gp/customer-reviews/R2N...</td>\n",
       "      <td>Ivan Hysell</td>\n",
       "      <td>2019-04-06</td>\n",
       "      <td>1.0</td>\n",
       "      <td>https://www.amazon.com/gp/customer-reviews/R2N...</td>\n",
       "      <td>Verified Purchase</td>\n",
       "      <td>Color: Graphite/BlackEdition: Charge 3 Activit...</td>\n",
       "      <td>not reliable. this is my second attempt at thi...</td>\n",
       "      <td>496</td>\n",
       "      <td>2019</td>\n",
       "      <td>{screen}</td>\n",
       "      <td>attempt product device failures screen data th...</td>\n",
       "      <td>screen</td>\n",
       "      <td>reliable be -PRON- second be that be prone syn...</td>\n",
       "      <td>negative</td>\n",
       "    </tr>\n",
       "    <tr>\n",
       "      <th>1</th>\n",
       "      <td>inacurate heartrate and tracking</td>\n",
       "      <td>https://www.amazon.com/gp/customer-reviews/R2E...</td>\n",
       "      <td>Emily P.</td>\n",
       "      <td>2019-04-24</td>\n",
       "      <td>1.0</td>\n",
       "      <td>https://www.amazon.com/gp/customer-reviews/R2E...</td>\n",
       "      <td>Verified Purchase</td>\n",
       "      <td>Color: Graphite/BlackEdition: Charge 3 Activit...</td>\n",
       "      <td>the heart rate tracker is mostly why i bought ...</td>\n",
       "      <td>446</td>\n",
       "      <td>2019</td>\n",
       "      <td>{heart rate, heart}</td>\n",
       "      <td>tracker others gym breath state stairs driving...</td>\n",
       "      <td>heart rate, heart</td>\n",
       "      <td>be buy compare be close accurate will be will ...</td>\n",
       "      <td>negative</td>\n",
       "    </tr>\n",
       "    <tr>\n",
       "      <th>2</th>\n",
       "      <td>Amazing Quick Shipping to Canada</td>\n",
       "      <td>https://www.amazon.com/gp/customer-reviews/R3D...</td>\n",
       "      <td>Amazon Customer</td>\n",
       "      <td>2018-12-14</td>\n",
       "      <td>5.0</td>\n",
       "      <td>https://www.amazon.com/gp/customer-reviews/R3D...</td>\n",
       "      <td>Verified Purchase</td>\n",
       "      <td>Color: Rose Gold/Blue GreyEdition: Charge 3 Ac...</td>\n",
       "      <td>great service and product</td>\n",
       "      <td>25</td>\n",
       "      <td>2018</td>\n",
       "      <td>{}</td>\n",
       "      <td>service product</td>\n",
       "      <td></td>\n",
       "      <td>great</td>\n",
       "      <td>positive</td>\n",
       "    </tr>\n",
       "    <tr>\n",
       "      <th>3</th>\n",
       "      <td>Great product... if it worked.</td>\n",
       "      <td>https://www.amazon.com/gp/customer-reviews/R2H...</td>\n",
       "      <td>Jerome</td>\n",
       "      <td>2019-04-24</td>\n",
       "      <td>1.0</td>\n",
       "      <td>https://www.amazon.com/gp/customer-reviews/R2H...</td>\n",
       "      <td>Verified Purchase</td>\n",
       "      <td>Color: Graphite/BlackEdition: Charge 3 Activit...</td>\n",
       "      <td>only a few months into owning this product aft...</td>\n",
       "      <td>673</td>\n",
       "      <td>2019</td>\n",
       "      <td>{charging, syncing}</td>\n",
       "      <td>product week steps help support time replaceme...</td>\n",
       "      <td>charging, syncing</td>\n",
       "      <td>few own first stop sync all take use -PRON- be...</td>\n",
       "      <td>negative</td>\n",
       "    </tr>\n",
       "    <tr>\n",
       "      <th>4</th>\n",
       "      <td>Don’t buy</td>\n",
       "      <td>https://www.amazon.com/gp/customer-reviews/RAG...</td>\n",
       "      <td>bwr</td>\n",
       "      <td>2018-12-06</td>\n",
       "      <td>1.0</td>\n",
       "      <td>https://www.amazon.com/gp/customer-reviews/RAG...</td>\n",
       "      <td>Verified Purchase</td>\n",
       "      <td>Color: Graphite/BlackEdition: Charge 3 Activit...</td>\n",
       "      <td>worked great for about two months, then stoppe...</td>\n",
       "      <td>158</td>\n",
       "      <td>2018</td>\n",
       "      <td>{charge}</td>\n",
       "      <td>months charge what website</td>\n",
       "      <td>charge</td>\n",
       "      <td>work stop take would synchronize try</td>\n",
       "      <td>negative</td>\n",
       "    </tr>\n",
       "  </tbody>\n",
       "</table>\n",
       "</div>"
      ],
      "text/plain": [
       "                        review_link  \\\n",
       "0                Buy Something Else   \n",
       "1  inacurate heartrate and tracking   \n",
       "2  Amazing Quick Shipping to Canada   \n",
       "3    Great product... if it worked.   \n",
       "4                         Don’t buy   \n",
       "\n",
       "                                    review_link-href             name  \\\n",
       "0  https://www.amazon.com/gp/customer-reviews/R2N...      Ivan Hysell   \n",
       "1  https://www.amazon.com/gp/customer-reviews/R2E...         Emily P.   \n",
       "2  https://www.amazon.com/gp/customer-reviews/R3D...  Amazon Customer   \n",
       "3  https://www.amazon.com/gp/customer-reviews/R2H...           Jerome   \n",
       "4  https://www.amazon.com/gp/customer-reviews/RAG...              bwr   \n",
       "\n",
       "        date  stars                                         stars-href  \\\n",
       "0 2019-04-06    1.0  https://www.amazon.com/gp/customer-reviews/R2N...   \n",
       "1 2019-04-24    1.0  https://www.amazon.com/gp/customer-reviews/R2E...   \n",
       "2 2018-12-14    5.0  https://www.amazon.com/gp/customer-reviews/R3D...   \n",
       "3 2019-04-24    1.0  https://www.amazon.com/gp/customer-reviews/R2H...   \n",
       "4 2018-12-06    1.0  https://www.amazon.com/gp/customer-reviews/RAG...   \n",
       "\n",
       "            verified                                            product  \\\n",
       "0  Verified Purchase  Color: Graphite/BlackEdition: Charge 3 Activit...   \n",
       "1  Verified Purchase  Color: Graphite/BlackEdition: Charge 3 Activit...   \n",
       "2  Verified Purchase  Color: Rose Gold/Blue GreyEdition: Charge 3 Ac...   \n",
       "3  Verified Purchase  Color: Graphite/BlackEdition: Charge 3 Activit...   \n",
       "4  Verified Purchase  Color: Graphite/BlackEdition: Charge 3 Activit...   \n",
       "\n",
       "                                              review  length  year  \\\n",
       "0  not reliable. this is my second attempt at thi...     496  2019   \n",
       "1  the heart rate tracker is mostly why i bought ...     446  2019   \n",
       "2                          great service and product      25  2018   \n",
       "3  only a few months into owning this product aft...     673  2019   \n",
       "4  worked great for about two months, then stoppe...     158  2018   \n",
       "\n",
       "       aspect_category                                       aspect_terms  \\\n",
       "0             {screen}  attempt product device failures screen data th...   \n",
       "1  {heart rate, heart}  tracker others gym breath state stairs driving...   \n",
       "2                   {}                                    service product   \n",
       "3  {charging, syncing}  product week steps help support time replaceme...   \n",
       "4             {charge}                         months charge what website   \n",
       "\n",
       "   aspect_cat_string                                    sentiment_terms  \\\n",
       "0             screen  reliable be -PRON- second be that be prone syn...   \n",
       "1  heart rate, heart  be buy compare be close accurate will be will ...   \n",
       "2                                                                 great   \n",
       "3  charging, syncing  few own first stop sync all take use -PRON- be...   \n",
       "4             charge               work stop take would synchronize try   \n",
       "\n",
       "  sentiment  \n",
       "0  negative  \n",
       "1  negative  \n",
       "2  positive  \n",
       "3  negative  \n",
       "4  negative  "
      ]
     },
     "execution_count": 59,
     "metadata": {},
     "output_type": "execute_result"
    }
   ],
   "source": [
    "df.head()"
   ]
  },
  {
   "cell_type": "code",
   "execution_count": 49,
   "metadata": {
    "ExecuteTime": {
     "end_time": "2019-07-18T20:03:38.464921Z",
     "start_time": "2019-07-18T20:03:38.457814Z"
    }
   },
   "outputs": [],
   "source": [
    "label_encoder_2 = LabelEncoder()\n",
    "integer_sentiment = label_encoder_2.fit_transform(df.sentiment)\n",
    "dummy_sentiment = to_categorical(integer_sentiment)"
   ]
  },
  {
   "cell_type": "code",
   "execution_count": 50,
   "metadata": {
    "ExecuteTime": {
     "end_time": "2019-07-18T20:05:17.210033Z",
     "start_time": "2019-07-18T20:03:50.917437Z"
    }
   },
   "outputs": [
    {
     "name": "stdout",
     "output_type": "stream",
     "text": [
      "Epoch 1/10\n",
      "3509/3509 [==============================] - 10s 3ms/step - loss: 0.6274 - acc: 0.8122\n",
      "Epoch 2/10\n",
      "3509/3509 [==============================] - 8s 2ms/step - loss: 0.3474 - acc: 0.8800\n",
      "Epoch 3/10\n",
      "3509/3509 [==============================] - 8s 2ms/step - loss: 0.2476 - acc: 0.9154\n",
      "Epoch 4/10\n",
      "3509/3509 [==============================] - 8s 2ms/step - loss: 0.1854 - acc: 0.9376\n",
      "Epoch 5/10\n",
      "3509/3509 [==============================] - 8s 2ms/step - loss: 0.1411 - acc: 0.9544\n",
      "Epoch 6/10\n",
      "3509/3509 [==============================] - 9s 2ms/step - loss: 0.1109 - acc: 0.9667\n",
      "Epoch 7/10\n",
      "3509/3509 [==============================] - 9s 2ms/step - loss: 0.0905 - acc: 0.9761\n",
      "Epoch 8/10\n",
      "3509/3509 [==============================] - 9s 2ms/step - loss: 0.0747 - acc: 0.9803\n",
      "Epoch 9/10\n",
      "3509/3509 [==============================] - 8s 2ms/step - loss: 0.0639 - acc: 0.9823\n",
      "Epoch 10/10\n",
      "3509/3509 [==============================] - 8s 2ms/step - loss: 0.0565 - acc: 0.9855\n"
     ]
    },
    {
     "data": {
      "text/plain": [
       "<keras.callbacks.History at 0x1ac441e160>"
      ]
     },
     "execution_count": 50,
     "metadata": {},
     "output_type": "execute_result"
    }
   ],
   "source": [
    "sentiment_model.fit(sentiment_tokenized, dummy_sentiment, epochs=10, verbose=1)"
   ]
  },
  {
   "cell_type": "code",
   "execution_count": 63,
   "metadata": {
    "ExecuteTime": {
     "end_time": "2019-07-18T20:09:24.991447Z",
     "start_time": "2019-07-18T20:09:24.952467Z"
    }
   },
   "outputs": [
    {
     "name": "stdout",
     "output_type": "stream",
     "text": [
      "['negative']\n"
     ]
    }
   ],
   "source": [
    "new_review = 'hate everything, and the watch does not work, sync is bad, sreen is dead'\n",
    "\n",
    "chunks = [(chunk.root.text) for chunk in nlp(new_review).noun_chunks if chunk.root.pos_ == 'NOUN']\n",
    "new_review_aspect_terms = ' '.join(chunks)\n",
    "new_review_aspect_tokenized = tokenizer.texts_to_matrix([new_review_aspect_terms])\n",
    "\n",
    "new_review_category = label_encoder_2.inverse_transform(sentiment_model.predict_classes(new_review_aspect_tokenized))\n",
    "print(new_review_category)"
   ]
  },
  {
   "cell_type": "code",
   "execution_count": null,
   "metadata": {},
   "outputs": [],
   "source": []
  },
  {
   "cell_type": "code",
   "execution_count": null,
   "metadata": {},
   "outputs": [],
   "source": []
  },
  {
   "cell_type": "code",
   "execution_count": 69,
   "metadata": {
    "ExecuteTime": {
     "end_time": "2019-07-18T20:24:47.373769Z",
     "start_time": "2019-07-18T20:24:47.150722Z"
    }
   },
   "outputs": [
    {
     "name": "stdout",
     "output_type": "stream",
     "text": [
      "Review 1 is expressing a  negative opinion about \n",
      "Review 2 is expressing a  negative opinion about \n",
      "Review 3 is expressing a  negative opinion about service\n"
     ]
    }
   ],
   "source": [
    "test_reviews = [\n",
    "    \"customer support they tell me to restart the watch. The problem has not been fixed, i'm returing it. Also, the watch does not sync!\",\n",
    "    \"Sreen went blank after 3 days. Fitbit stopped syncing after 2 days\",\n",
    "    \"Customer service just kept telling me to restart the watch, but could not fix my sync problem. I can't return it. awful support.\"\n",
    "]\n",
    "\n",
    "# Aspect preprocessing\n",
    "test_reviews = [review.lower() for review in test_reviews]\n",
    "test_aspect_terms = []\n",
    "for review in nlp.pipe(test_reviews):\n",
    "    chunks = [(chunk.root.text) for chunk in review.noun_chunks if chunk.root.pos_ == 'NOUN']\n",
    "    test_aspect_terms.append(' '.join(chunks))\n",
    "test_aspect_terms = pd.DataFrame(tokenizer.texts_to_matrix(test_aspect_terms))\n",
    "                             \n",
    "# Sentiment preprocessing\n",
    "test_sentiment_terms = []\n",
    "for review in nlp.pipe(test_reviews):\n",
    "        if review.is_parsed:\n",
    "            test_sentiment_terms.append(' '.join([token.lemma_ for token in review if (not token.is_stop and not token.is_punct and (token.pos_ == \"ADJ\" or token.pos_ == \"VERB\"))]))\n",
    "        else:\n",
    "            test_sentiment_terms.append('') \n",
    "test_sentiment_terms = pd.DataFrame(tokenizer.texts_to_matrix(test_sentiment_terms))\n",
    "\n",
    "# Models output\n",
    "test_aspect_categories = label_encoder.inverse_transform(aspect_categories_model.predict_classes(test_aspect_terms))\n",
    "test_sentiment = label_encoder_2.inverse_transform(sentiment_model.predict_classes(test_sentiment_terms))\n",
    "for i in range(3):\n",
    "    print(\"Review \" + str(i+1) + \" is expressing a  \" + test_sentiment[i] + \" opinion about \" + test_aspect_categories[i])"
   ]
  },
  {
   "cell_type": "code",
   "execution_count": null,
   "metadata": {},
   "outputs": [],
   "source": []
  }
 ],
 "metadata": {
  "kernelspec": {
   "display_name": "Python 3",
   "language": "python",
   "name": "python3"
  },
  "language_info": {
   "codemirror_mode": {
    "name": "ipython",
    "version": 3
   },
   "file_extension": ".py",
   "mimetype": "text/x-python",
   "name": "python",
   "nbconvert_exporter": "python",
   "pygments_lexer": "ipython3",
   "version": "3.7.1"
  },
  "toc": {
   "base_numbering": 1,
   "nav_menu": {},
   "number_sections": true,
   "sideBar": true,
   "skip_h1_title": false,
   "title_cell": "Table of Contents",
   "title_sidebar": "Contents",
   "toc_cell": false,
   "toc_position": {},
   "toc_section_display": true,
   "toc_window_display": false
  },
  "varInspector": {
   "cols": {
    "lenName": 16,
    "lenType": 16,
    "lenVar": 40
   },
   "kernels_config": {
    "python": {
     "delete_cmd_postfix": "",
     "delete_cmd_prefix": "del ",
     "library": "var_list.py",
     "varRefreshCmd": "print(var_dic_list())"
    },
    "r": {
     "delete_cmd_postfix": ") ",
     "delete_cmd_prefix": "rm(",
     "library": "var_list.r",
     "varRefreshCmd": "cat(var_dic_list()) "
    }
   },
   "types_to_exclude": [
    "module",
    "function",
    "builtin_function_or_method",
    "instance",
    "_Feature"
   ],
   "window_display": false
  }
 },
 "nbformat": 4,
 "nbformat_minor": 2
}
